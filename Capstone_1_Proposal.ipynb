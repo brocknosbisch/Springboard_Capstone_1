{
 "cells": [
  {
   "attachments": {},
   "cell_type": "markdown",
   "metadata": {},
   "source": [
    "### Predicting Future Trends in Cancers\n",
    "By Brock Nosbisch\n",
    "<br>\n",
    "<br>\n",
    "**What is the problem you want to solve?**\n",
    "<br>\n",
    "The problem I am trying to solve is to predict future trends in cancers to help medical companies/researchers determine which cancers should be funded/researched more than others.\n",
    "\n",
    "**Who is your client and why do they care about this problem? In other words, what will your client do or decide based on your analysis that they wouldn’t have done otherwise?**\n",
    "<br>\n",
    "My client is any cancer research company or individual that is trying to determine what cancers should receive more funding and research time than others.  There are many different cancers (many that a normal person has ever heard of) so predicting the future trends of individual cancers can help show which cancers need more attention than others. <br>\n",
    "Some examples of future trends are: <br>\n",
    "&nbsp;&nbsp;&nbsp;&nbsp;&nbsp;&nbsp;New Cases of Cancer Rate <br>\n",
    "&nbsp;&nbsp;&nbsp;&nbsp;&nbsp;&nbsp;Mortality vs. New Cases Rate <br>\n",
    "&nbsp;&nbsp;&nbsp;&nbsp;&nbsp;&nbsp;Mortality/New Cases by Population Rate  \n",
    "\n",
    "**What data are you using? How will you acquire the data?**\n",
    "<br>\n",
    "The data used for this project comes from the Centers for Disease Control and Prevention (CDC).  The CDC provides a raw data in a zip file so I will be downloading the zip, extract the .txt files, and then load, parse, and clean the data in python.  The dataset I will be using has 309,852 records in it. <br><br>\n",
    "Dataset (ByAge.txt): <br>\n",
    "&nbsp;&nbsp;&nbsp;&nbsp;&nbsp;&nbsp;Age - Age Range <br>\n",
    "&nbsp;&nbsp;&nbsp;&nbsp;&nbsp;&nbsp;Sex - Male or Female or Combined <br>\n",
    "&nbsp;&nbsp;&nbsp;&nbsp;&nbsp;&nbsp;Event Type - Mortality (death) or Incidence (new cancer cases) <br>\n",
    "&nbsp;&nbsp;&nbsp;&nbsp;&nbsp;&nbsp;Race - Race of person or All Races <br>\n",
    "&nbsp;&nbsp;&nbsp;&nbsp;&nbsp;&nbsp;Year <br>\n",
    "&nbsp;&nbsp;&nbsp;&nbsp;&nbsp;&nbsp;Site - Type of Cancer or All Cancers <br>\n",
    "&nbsp;&nbsp;&nbsp;&nbsp;&nbsp;&nbsp;Count - Total count based on Age, Event, Race, Sex, Year, Site <br>\n",
    "&nbsp;&nbsp;&nbsp;&nbsp;&nbsp;&nbsp;Population - Total number of people based on Age, Race, Sex, Year <br><br>\n",
    "Site: https://www.cdc.gov/cancer/uscs/dataviz/download_data.htm\n",
    "<br>\n",
    "Download Link: https://www.cdc.gov/cancer/uscs/USCS_1999_2015_ASCII.zip\n",
    "\n",
    "\n",
    "**Briefly outline how you’ll solve this problem. Your approach may change later, but this is a good first step to get you thinking about a method and solution.**\n",
    "<br>\n",
    "I will first download the zip file and extract the files.  I will then do Data Wrangling, EDA, and test different machine learning algorithms to see which best predicts the future trends.  The trends will be identified for each cancer by various combinations of Age, Sex, New Cases, Deaths, Race, Year, and Cancer Type.\n",
    "\n",
    "**What are your deliverables? Typically, this includes code, a paper, or a slide deck.**\n",
    "<br>\n",
    "My deliverables will be a jupyter notebook and slide deck that will be published to my github account.  I will include all my findings and all documented python code.\n",
    "\n",
    "\n"
   ]
  },
  {
   "cell_type": "code",
   "execution_count": null,
   "metadata": {},
   "outputs": [],
   "source": []
  },
  {
   "cell_type": "code",
   "execution_count": null,
   "metadata": {},
   "outputs": [],
   "source": []
  }
 ],
 "metadata": {
  "kernelspec": {
   "display_name": "Python 3",
   "language": "python",
   "name": "python3"
  },
  "language_info": {
   "codemirror_mode": {
    "name": "ipython",
    "version": 3
   },
   "file_extension": ".py",
   "mimetype": "text/x-python",
   "name": "python",
   "nbconvert_exporter": "python",
   "pygments_lexer": "ipython3",
   "version": "3.7.1"
  }
 },
 "nbformat": 4,
 "nbformat_minor": 2
}
