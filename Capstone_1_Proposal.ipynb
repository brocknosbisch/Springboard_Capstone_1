{
 "cells": [
  {
   "cell_type": "code",
   "execution_count": 4,
   "metadata": {},
   "outputs": [],
   "source": [
    "from IPython.core.display import display, HTML"
   ]
  },
  {
   "attachments": {},
   "cell_type": "markdown",
   "metadata": {},
   "source": [
    "<font size=\"5\"> **Predicting Future Trends in Domain Name Sales**  </font>\n",
    "<br>\n",
    "**By Brock Nosbisch**\n",
    "\n",
    "**What is the problem you want to solve?**\n",
    "<br>\n",
    "How does a domain name investor (aka domainer) know what domain names to invest in?  Should a domainer invest in short names (ex. 3 letter), numerics (ex. 3 number), certain patterns (ex. ABAB), single word (ex. cassettes), two word (ex. light show), brandable (ex. blabd), etc. and what extension (ex. .com) should be invested in?  Those are the questions that I want to help solve.\n",
    "\n",
    "**Who is your client and why do they care about this problem? In other words, what will your client do or decide based on your analysis that they wouldn’t have done otherwise?**\n",
    "<br>\n",
    "My client is any new or existing person wanting to intelligently invest in domain names.  This project will provide the client a view of historical trends as well as future predictions of prices and volume of sales by category of domain.  This will allow for the investor to intelligently invest in domain names that have the highest probability of going up in price.\n",
    "\n",
    "**What data are you using? How will you acquire the data?**\n",
    "<br>\n",
    "The data used for this project comes from NameBio.  NameBio has data on over 1.3 million domain names.  I will be scraping the data from their site with my paid membership account.\n",
    "\n",
    "**Briefly outline how you’ll solve this problem. Your approach may change later, but this is a good first step to get you thinking about a method and solution.**\n",
    "<br>\n",
    "I will first scrape the data from the namebio site and store it either in a database or in csv files.  Then I will define the categories for the data, clean up the data, and do EDA with aggregated data and visualizations.  I will identify trends in the data by day, month, and year and generate predictions on the future prices.\n",
    "\n",
    "**What are your deliverables? Typically, this includes code, a paper, or a slide deck.**\n",
    "<br>\n",
    "My deliverables will be a jupyter notebook and slide deck that will be published to my github account.  I will include all my findings and all documented python code.\n",
    "\n",
    "\n"
   ]
  },
  {
   "cell_type": "code",
   "execution_count": null,
   "metadata": {},
   "outputs": [],
   "source": []
  }
 ],
 "metadata": {
  "kernelspec": {
   "display_name": "Python 3",
   "language": "python",
   "name": "python3"
  },
  "language_info": {
   "codemirror_mode": {
    "name": "ipython",
    "version": 3
   },
   "file_extension": ".py",
   "mimetype": "text/x-python",
   "name": "python",
   "nbconvert_exporter": "python",
   "pygments_lexer": "ipython3",
   "version": "3.7.1"
  }
 },
 "nbformat": 4,
 "nbformat_minor": 2
}
