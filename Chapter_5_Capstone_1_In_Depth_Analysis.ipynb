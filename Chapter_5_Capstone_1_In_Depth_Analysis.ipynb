{
 "cells": [
  {
   "cell_type": "markdown",
   "metadata": {},
   "source": [
    "# Capstone Project 1 - In-Depth Analysis\n",
    "## Name: Brock Nosbisch\n",
    "\n",
    "#### Summary:\n",
    "# Ignore the Markdown text as it needs to be changed.\n",
    "\n",
    "# [FILL IN]\n",
    "\n"
   ]
  },
  {
   "cell_type": "markdown",
   "metadata": {},
   "source": [
    "# Load Packages / Data / Notebooks"
   ]
  },
  {
   "cell_type": "code",
   "execution_count": 5,
   "metadata": {},
   "outputs": [],
   "source": [
    "import pandas as pd\n",
    "import numpy as np\n",
    "import matplotlib.pyplot as plt\n",
    "import seaborn as sns; sns.set(color_codes=True)\n",
    "from scipy import stats\n",
    "# from statsmodels.nonparametric.kernel_regression import KernelReg\n",
    "\n",
    "from sklearn.linear_model import LogisticRegression, Lasso\n",
    "from sklearn.model_selection import train_test_split, cross_val_score, GridSearchCV\n",
    "from sklearn.metrics import roc_curve, roc_auc_score, auc, confusion_matrix, classification_report, accuracy_score, SCORERS\n",
    "\n",
    "from sklearn.neighbors import KNeighborsClassifier\n",
    "\n",
    "file_name = 'eda_out.csv'\n",
    "df = pd.read_csv(file_name, header=0, na_values ='-1')\n",
    "df.set_index('id', inplace=True)\n",
    "# df.info()\n"
   ]
  },
  {
   "cell_type": "code",
   "execution_count": 6,
   "metadata": {},
   "outputs": [],
   "source": [
    "# Import my data story notebook.\n",
    "# import import_ipynb\n",
    "# import Chapter_3_Capstone_1_EDA as ds\n",
    "\n",
    "# sorted(SCORERS.keys())"
   ]
  },
  {
   "cell_type": "code",
   "execution_count": 7,
   "metadata": {},
   "outputs": [],
   "source": [
    "def pearsonr_ci(x,y,alpha=0.05):\n",
    "\n",
    "    r, p = stats.pearsonr(x,y)\n",
    "    r_z = np.arctanh(r)\n",
    "    se = 1/np.sqrt(x.size-3)\n",
    "    z = stats.norm.ppf(1-alpha/2)\n",
    "    low_z, high_z = r_z-z*se, r_z+z*se\n",
    "    low, high = np.tanh((low_z, high_z))\n",
    "    return r, p, low, high\n",
    "\n",
    "# Bootstrap Replicates\t\n",
    "def bootstrap_replicate_1d(data, func):\n",
    "    return func(np.random.choice(data, size=len(data)))\n",
    "\n",
    "# Test SVM\n",
    "# Pass X_train, y_train, X_test, y_test, Maximum Iterations you want, C values in a list \n",
    "def svm_test(X_train, y_train, X_test, y_test, maxiter=1000, crange=[0.01,0.1,1,10,100]):\n",
    "    # X_train, X_test, y_train, y_test = train_test_split(X,y,random_state=10)\n",
    "    model = svm.LinearSVC(C=1, random_state=50)\n",
    "    model.fit(X_train, y_train)\n",
    "    y_pred = model.predict(X_test)\n",
    "    #tune parameter C\n",
    "    # crange = [0.01,0.1,1,10,100,1000]\n",
    "    for num in crange:\n",
    "        model = svm.LinearSVC(C=num, max_iter = maxiter)\n",
    "        model.fit(X_train, y_train)\n",
    "        y_pred = model.predict(X_test)\n",
    "        print ('C=' + str(num) + ',score={}'.format(accuracy_score(y_test,y_pred)))\n",
    "        print(confusion_matrix(y_test, y_pred))\n",
    "        \n",
    "def print_stats(y_test, y_pred):\n",
    "    print('Confusion Matrix:')\n",
    "    print(confusion_matrix(y_test, y_pred))\n",
    "    print()\n",
    "    print()\n",
    "    print('Classification Report:')\n",
    "    print(classification_report(y_test, y_pred))\n",
    "    print()\n",
    "    print('Accuracy Score: {}'.format(accuracy_score(y_test, y_pred)))\n",
    "# df = ds.df\n"
   ]
  },
  {
   "cell_type": "code",
   "execution_count": 8,
   "metadata": {},
   "outputs": [
    {
     "name": "stderr",
     "output_type": "stream",
     "text": [
      "C:\\ProgramData\\Anaconda3\\lib\\site-packages\\ipykernel_launcher.py:3: SettingWithCopyWarning: \n",
      "A value is trying to be set on a copy of a slice from a DataFrame\n",
      "\n",
      "See the caveats in the documentation: http://pandas.pydata.org/pandas-docs/stable/indexing.html#indexing-view-versus-copy\n",
      "  This is separate from the ipykernel package so we can avoid doing imports until\n"
     ]
    }
   ],
   "source": [
    "\n",
    "# Find monthly income median\n",
    "df['monthly_income'][df['monthly_income'].isnull()] = 0\n",
    "df.astype({'monthly_income':'int64'})\n",
    "monthly_median = np.median(df['monthly_income'])\n",
    "df.loc[df.monthly_income == 0, 'monthly_income'] = monthly_median # Set the 0's to median value.\n",
    "\n",
    "# Need to do a little clean up on number_of_dependents\n",
    "df['number_of_dependents'] = df['number_of_dependents'].fillna(0)\n",
    "\n",
    "X = df.drop(columns = ['serious_delinquent','age_bucket_name','monthly_income_name']) # ,'monthly_income']) # Drop columns not needed.\n",
    "y = df['serious_delinquent']\n",
    "\n",
    "# Split the Training and Test Sets\n",
    "X_train, X_test, y_train, y_test = train_test_split(X, y, test_size=.4, random_state=50) \n"
   ]
  },
  {
   "cell_type": "markdown",
   "metadata": {},
   "source": [
    "# Logistic Regression"
   ]
  },
  {
   "cell_type": "markdown",
   "metadata": {},
   "source": [
    "### The Confusion Matrix is showing the below which looks good:\n",
    "* Accuracy was 93.6% (56,107 out of 59,892)\n",
    "* Precision was 94% (tp / (tp + fp))\n",
    "* Recall was 99.4% (tp / (tp + fn))\n",
    "* F1 Score is 96.6%\n",
    "\n",
    "### But if I look at how well I did predicting the Defaults, the model predicted a total of 741 Defaults and 451 of those were actual Defaults.  The total actual count of Defaults was 3,946.  These results are not satisfactory.\n",
    "* Predicted 451 defaults out of 3,946 total defaults (11%)\n",
    "* Out of 741 predicted defaults, 451 were actual defaults (61%)\n",
    "* F1 Score is 19%\n"
   ]
  },
  {
   "cell_type": "code",
   "execution_count": 9,
   "metadata": {},
   "outputs": [
    {
     "name": "stdout",
     "output_type": "stream",
     "text": [
      "Logistic Regression Classifier Accuracy: 0.9379716823615842\n",
      "\n",
      "Confusion Matrix:\n",
      "[[55560   386]\n",
      " [ 3329   617]]\n",
      "\n",
      "\n",
      "Classification Report:\n",
      "              precision    recall  f1-score   support\n",
      "\n",
      "           0       0.94      0.99      0.97     55946\n",
      "           1       0.62      0.16      0.25      3946\n",
      "\n",
      "   micro avg       0.94      0.94      0.94     59892\n",
      "   macro avg       0.78      0.57      0.61     59892\n",
      "weighted avg       0.92      0.94      0.92     59892\n",
      "\n"
     ]
    },
    {
     "name": "stderr",
     "output_type": "stream",
     "text": [
      "C:\\ProgramData\\Anaconda3\\lib\\site-packages\\sklearn\\svm\\base.py:922: ConvergenceWarning: Liblinear failed to converge, increase the number of iterations.\n",
      "  \"the number of iterations.\", ConvergenceWarning)\n"
     ]
    }
   ],
   "source": [
    "\n",
    "\n",
    "logreg = LogisticRegression(solver='liblinear') # Create the classifier\n",
    "logreg.fit(X_train, y_train) # Fit the classifier to the training data\n",
    "\n",
    "y_pred = logreg.predict(X_test) # Predict the labels of the test set\n",
    "\n",
    "print_stats(y_test, y_pred)\n",
    "\n",
    "# print('Logistic Regression Classifier Accuracy: ' + str(accuracy_score(y_pred, y_test)))\n",
    "# print()\n",
    "# print('Confusion Matrix:')\n",
    "# print(confusion_matrix(y_test, y_pred))\n",
    "# print()\n",
    "# print()\n",
    "# print('Classification Report:')\n",
    "# print(classification_report(y_test, y_pred))\n",
    "\n",
    "# print(df)\n"
   ]
  },
  {
   "cell_type": "markdown",
   "metadata": {},
   "source": [
    "### The Average 10-fold Cross Validation score is 93.8%."
   ]
  },
  {
   "cell_type": "code",
   "execution_count": 10,
   "metadata": {},
   "outputs": [
    {
     "name": "stderr",
     "output_type": "stream",
     "text": [
      "C:\\ProgramData\\Anaconda3\\lib\\site-packages\\sklearn\\svm\\base.py:922: ConvergenceWarning: Liblinear failed to converge, increase the number of iterations.\n",
      "  \"the number of iterations.\", ConvergenceWarning)\n",
      "C:\\ProgramData\\Anaconda3\\lib\\site-packages\\sklearn\\svm\\base.py:922: ConvergenceWarning: Liblinear failed to converge, increase the number of iterations.\n",
      "  \"the number of iterations.\", ConvergenceWarning)\n"
     ]
    },
    {
     "name": "stdout",
     "output_type": "stream",
     "text": [
      "CV Scores:\n",
      "[0.9360601  0.93739566 0.93689482 0.93789649 0.94156928 0.9375626\n",
      " 0.93937876 0.93904476 0.94071476 0.93553774]\n",
      "\n",
      "Average k-fold CV Score: 0.9382054983645645\n",
      "\n"
     ]
    }
   ],
   "source": [
    "# Cross Validation\n",
    "\n",
    "logreg3 = LogisticRegression(solver='liblinear') # Create the classifier\n",
    "cv_scores = cross_val_score(logreg3, X_test, y_test, cv=10)\n",
    "print('CV Scores:')\n",
    "print(cv_scores)\n",
    "print()\n",
    "cv_score_avg = np.mean(cv_scores)\n",
    "print('Average k-fold CV Score: ' + str(cv_score_avg))\n",
    "print()\n"
   ]
  },
  {
   "cell_type": "markdown",
   "metadata": {},
   "source": [
    "### It seems that using optimizing the parameters did not help since the matrix is exactly the same as above."
   ]
  },
  {
   "cell_type": "code",
   "execution_count": 11,
   "metadata": {},
   "outputs": [
    {
     "name": "stdout",
     "output_type": "stream",
     "text": [
      "Logistic Regression Classifier Accuracy: 0.9380050758031123\n",
      "\n",
      "Confusion Matrix:\n",
      "[[55506   440]\n",
      " [ 3273   673]]\n",
      "\n",
      "\n",
      "Classification Report:\n",
      "              precision    recall  f1-score   support\n",
      "\n",
      "           0       0.94      0.99      0.97     55946\n",
      "           1       0.60      0.17      0.27      3946\n",
      "\n",
      "   micro avg       0.94      0.94      0.94     59892\n",
      "   macro avg       0.77      0.58      0.62     59892\n",
      "weighted avg       0.92      0.94      0.92     59892\n",
      "\n"
     ]
    }
   ],
   "source": [
    "# GridSearchCV with LogReg\n",
    "\n",
    "# Split the Training and Test Sets\n",
    "# X_train, X_test, y_train, y_test = train_test_split(X, y, test_size=.4, random_state=50) \n",
    "\n",
    "logreg = LogisticRegression(solver='liblinear') # Create the classifier\n",
    "\n",
    "penalty = ['l1', 'l2'] # regularization penablty space\n",
    "C = np.logspace(0, 4, 10) # regularization hyperparameter space\n",
    "\n",
    "param_grid = dict(C=C, penalty=penalty)\n",
    "# scoring = {'AUC': 'roc_auc', 'ROC AUC SCORE': 'roc_auc_score', 'Balanced Accuracy': 'balanced_accuracy_score'}\n",
    "\n",
    "logreg_cv = GridSearchCV(logreg, param_grid, scoring='roc_auc', cv=5, n_jobs=-1) # 5 fold\n",
    "logreg_cv.fit(X_train, y_train) # Fit the classifier to the training data\n",
    "\n",
    "# print('cv_results')\n",
    "# print(logreg_cv.cv_results_)\n",
    "# print()\n",
    "# print('best estimator')\n",
    "# print(logreg.best_estimator_)\n",
    "# print()\n",
    "# print('best score')\n",
    "# print(logreg.best_score_)\n",
    "# print()\n",
    "# print('best params')\n",
    "# print(logreg.best_params_)\n",
    "\n",
    "y_pred = logreg_cv.predict(X_test) # Predict the labels of the test set\n",
    "\n",
    "print_stats(y_test, y_pred)\n",
    "\n",
    "# print('Logistic Regression Classifier Accuracy: ' + str(accuracy_score(y_pred, y_test)))\n",
    "# print()\n",
    "# print('Confusion Matrix:')\n",
    "# print(confusion_matrix(y_test, y_pred))\n",
    "# print()\n",
    "# print()\n",
    "# print('Classification Report:')\n",
    "# print(classification_report(y_test, y_pred))\n"
   ]
  },
  {
   "cell_type": "markdown",
   "metadata": {},
   "source": [
    "## Logistic Regression (Balanced)\n",
    "### After passing the class_weight='balanced' parameter, the Confusion Matrix is showing the below which appears to be worse than above.\n",
    "* Accuracy was 83.8% (50,238 / 59,892)\n",
    "* Precision was 97%\n",
    "* Recall was 85%\n",
    "* F1 Score is 91%\n",
    "\n",
    "### But since the weighting was balanced (n_samples / (n_classes * np.bincount(y))), the model predicted a total of 10,860 Defaults and 2,576 of those were actual Defaults.  The total actual count of Defaults was 3,946.\n",
    "* Predicted 2,576 defaults out of 3,946 total defaults (65%)\n",
    "* Out of 10,860 predicted defaults, 2,576 were actual defaults (24%)\n",
    "* F1 Score is 35%\n",
    "\n",
    "### So using the Balanced method gave us a much higher percentage (65%) of finding all the Defaults but 8,284 predicted defaults did not actually default (15% of all non-defaulters).  This may seem like the balanced model was worse but the model is being used to find the people who will default.  Since defaulters cost the company a lot more than the non-defaulters make in revenue then wrongly classifying a non-defaulter as a defaulter is an okay trade-off.\n"
   ]
  },
  {
   "cell_type": "code",
   "execution_count": 12,
   "metadata": {},
   "outputs": [
    {
     "name": "stdout",
     "output_type": "stream",
     "text": [
      "Logistic Regression Classifier Accuracy: 0.838743070860883\n",
      "\n",
      "Confusion Matrix:\n",
      "[[47657  8289]\n",
      " [ 1369  2577]]\n",
      "\n",
      "\n",
      "Classification Report:\n",
      "              precision    recall  f1-score   support\n",
      "\n",
      "           0       0.97      0.85      0.91     55946\n",
      "           1       0.24      0.65      0.35      3946\n",
      "\n",
      "   micro avg       0.84      0.84      0.84     59892\n",
      "   macro avg       0.60      0.75      0.63     59892\n",
      "weighted avg       0.92      0.84      0.87     59892\n",
      "\n"
     ]
    }
   ],
   "source": [
    "\n",
    "# Logistic Regression (balanced)\n",
    "\n",
    "# X_train, X_test, y_train, y_test = train_test_split(X, y, test_size=.4, random_state=50)\n",
    "\n",
    "logreg_bal = LogisticRegression(solver='liblinear', penalty='l2', class_weight='balanced', C=1) # Create the classifier\n",
    "logreg_bal.fit(X_train, y_train) # Fit the classifier to the training data\n",
    "\n",
    "y_pred = logreg_bal.predict(X_test) # Predict the labels of the test set\n",
    "\n",
    "print_stats(y_test, y_pred)\n",
    "\n",
    "# print('Logistic Regression Classifier Accuracy: ' + str(accuracy_score(y_pred, y_test)))\n",
    "# print()\n",
    "# print('Confusion Matrix:')\n",
    "# print(confusion_matrix(y_test, y_pred))\n",
    "# print()\n",
    "# print()\n",
    "# print('Classification Report:')\n",
    "# print(classification_report(y_test, y_pred))\n"
   ]
  },
  {
   "cell_type": "markdown",
   "metadata": {},
   "source": [
    "### The Average 10-fold Cross Validation score is 83.2%."
   ]
  },
  {
   "cell_type": "code",
   "execution_count": 13,
   "metadata": {},
   "outputs": [
    {
     "name": "stderr",
     "output_type": "stream",
     "text": [
      "C:\\ProgramData\\Anaconda3\\lib\\site-packages\\sklearn\\svm\\base.py:922: ConvergenceWarning: Liblinear failed to converge, increase the number of iterations.\n",
      "  \"the number of iterations.\", ConvergenceWarning)\n",
      "C:\\ProgramData\\Anaconda3\\lib\\site-packages\\sklearn\\svm\\base.py:922: ConvergenceWarning: Liblinear failed to converge, increase the number of iterations.\n",
      "  \"the number of iterations.\", ConvergenceWarning)\n",
      "C:\\ProgramData\\Anaconda3\\lib\\site-packages\\sklearn\\svm\\base.py:922: ConvergenceWarning: Liblinear failed to converge, increase the number of iterations.\n",
      "  \"the number of iterations.\", ConvergenceWarning)\n"
     ]
    },
    {
     "name": "stdout",
     "output_type": "stream",
     "text": [
      "CV Scores:\n",
      "[0.83422371 0.84173623 0.83689482 0.83689482 0.83889816 0.84774624\n",
      " 0.84335337 0.83750835 0.84051436 0.83767535]\n",
      "\n",
      "Average k-fold CV Score: 0.8395445426189051\n",
      "\n"
     ]
    }
   ],
   "source": [
    "# Cross Validation w/ Balance\n",
    "\n",
    "logreg3 = LogisticRegression(solver='liblinear', penalty='l2', class_weight='balanced', C=1) # Create the classifier\n",
    "cv_scores = cross_val_score(logreg3, X_test, y_test, cv=10)\n",
    "print('CV Scores:')\n",
    "print(cv_scores)\n",
    "print()\n",
    "cv_score_avg = np.mean(cv_scores)\n",
    "print('Average k-fold CV Score: ' + str(cv_score_avg))\n",
    "print()\n"
   ]
  },
  {
   "cell_type": "markdown",
   "metadata": {},
   "source": [
    "## ROC Curve of Balanced Logistic Regression"
   ]
  },
  {
   "cell_type": "code",
   "execution_count": 14,
   "metadata": {},
   "outputs": [
    {
     "name": "stdout",
     "output_type": "stream",
     "text": [
      "ROC AUC Score: 0.8254011602202247\n",
      "\n"
     ]
    },
    {
     "data": {
      "image/png": "[encoded data removed]",
      "text/plain": [
       "<Figure size 864x864 with 1 Axes>"
      ]
     },
     "metadata": {},
     "output_type": "display_data"
    }
   ],
   "source": [
    "# ROC Curve\n",
    "y_pred_prob = logreg_bal.predict_proba(X_test)[:,1]\n",
    "\n",
    "auc_score = roc_auc_score(y_test, y_pred_prob)\n",
    "print('ROC AUC Score: ' + str(auc_score))\n",
    "print()\n",
    "\n",
    "fpr, tpr, thresholds = roc_curve(y_test, y_pred_prob) # False Positive, True Positive, Threshold\n",
    "\n",
    "plt.figure(figsize=(12,12))\n",
    "plt.plot([0,1], [0,1], 'k--')\n",
    "plt.plot(fpr, tpr)\n",
    "plt.xlabel('False Positive Rate')\n",
    "plt.ylabel('True Positive Rate')\n",
    "plt.title('ROC Curve')\n",
    "plt.show()\n"
   ]
  },
  {
   "cell_type": "markdown",
   "metadata": {},
   "source": [
    "# k-NN"
   ]
  },
  {
   "cell_type": "markdown",
   "metadata": {},
   "source": [
    "### Finding the Best Params / Score to use results in using k = 5 and results in a k-NN Score of 93.3%"
   ]
  },
  {
   "cell_type": "code",
   "execution_count": 15,
   "metadata": {},
   "outputs": [
    {
     "name": "stdout",
     "output_type": "stream",
     "text": [
      "k-NN Best Params: {'n_neighbors': 10}\n",
      "k-NN Best Score: 0.933925510363098\n"
     ]
    }
   ],
   "source": [
    "\n",
    "# X_train, X_test, y_train, y_test = train_test_split(X, y, test_size=.4, random_state=50)\n",
    "\n",
    "param_grid = {'n_neighbors': np.arange(1,12)}\n",
    "\n",
    "knn = KNeighborsClassifier()\n",
    "\n",
    "knn_cv = GridSearchCV(knn, param_grid, cv=5, n_jobs=-1) # 5 Fold Cross Validation\n",
    "\n",
    "knn_cv.fit(X_train, y_train)\n",
    "\n",
    "print('k-NN Best Params: {}'.format(knn_cv.best_params_))\n",
    "print('k-NN Best Score: {}'.format(knn_cv.best_score_))\n",
    "\n",
    "knn_neighbors = knn_cv.best_params_\n"
   ]
  },
  {
   "cell_type": "code",
   "execution_count": 16,
   "metadata": {},
   "outputs": [
    {
     "name": "stdout",
     "output_type": "stream",
     "text": [
      "Prediction: [0 0 0 ... 0 0 0]\n",
      "k-NN Score: 0.9340980431443264\n"
     ]
    }
   ],
   "source": [
    "knn = KNeighborsClassifier(n_neighbors=knn_neighbors['n_neighbors'], weights='uniform')\n",
    "\n",
    "# X_train, X_test, y_train, y_test = train_test_split(X, y, test_size=.4, random_state=50)\n",
    "\n",
    "knn.fit(X_train, y_train)\n",
    "\n",
    "y_pred = knn.predict(X_test)\n",
    "\n",
    "print('Prediction: {}'.format(y_pred))\n",
    "print('k-NN Score: {}'.format(knn.score(X_test, y_test)))"
   ]
  },
  {
   "cell_type": "markdown",
   "metadata": {},
   "source": [
    "### The Confusion Matrix for k-NN with k=10 has the below results which look really good!\n",
    "* Accuracy was 93.4% (55,945 / 59,892)\n",
    "* Precision was 93%\n",
    "* Recall was 100%\n",
    "* F1 Score is 97%\n",
    "\n",
    "### But the model basically just said that all but 3 people would not default.  This does not help us since we want to identify those defaulters.  Next I will upsample the defaults.\n"
   ]
  },
  {
   "cell_type": "code",
   "execution_count": 40,
   "metadata": {},
   "outputs": [
    {
     "name": "stdout",
     "output_type": "stream",
     "text": [
      "Confusion Matrix:\n",
      "[[55464   482]\n",
      " [ 3343   603]]\n",
      "\n",
      "\n",
      "Classification Report:\n",
      "              precision    recall  f1-score   support\n",
      "\n",
      "           0       0.94      0.99      0.97     55946\n",
      "           1       0.56      0.15      0.24      3946\n",
      "\n",
      "   micro avg       0.94      0.94      0.94     59892\n",
      "   macro avg       0.75      0.57      0.60     59892\n",
      "weighted avg       0.92      0.94      0.92     59892\n",
      "\n",
      "\n",
      "Accuracy Score: 0.9361350430775396\n"
     ]
    }
   ],
   "source": [
    "print_stats(y_test, y_pred)"
   ]
  },
  {
   "cell_type": "markdown",
   "metadata": {},
   "source": [
    "### Upsampling the Defaults so that the occurence of Defaults vs. non-Defaults is 50/50."
   ]
  },
  {
   "cell_type": "code",
   "execution_count": 18,
   "metadata": {},
   "outputs": [
    {
     "name": "stderr",
     "output_type": "stream",
     "text": [
      "C:\\ProgramData\\Anaconda3\\lib\\site-packages\\ipykernel_launcher.py:4: SettingWithCopyWarning: \n",
      "A value is trying to be set on a copy of a slice from a DataFrame.\n",
      "Try using .loc[row_indexer,col_indexer] = value instead\n",
      "\n",
      "See the caveats in the documentation: http://pandas.pydata.org/pandas-docs/stable/indexing.html#indexing-view-versus-copy\n",
      "  after removing the cwd from sys.path.\n"
     ]
    }
   ],
   "source": [
    "# Split the Training and Test Sets for upsampling.\n",
    "X_train_2, X_test_2, y_train_2, y_test_2 = train_test_split(X, y, test_size=.4, random_state=50) \n",
    "\n",
    "X_train_2['serious_delinquent'] = y_train_2\n"
   ]
  },
  {
   "cell_type": "code",
   "execution_count": 19,
   "metadata": {},
   "outputs": [
    {
     "name": "stdout",
     "output_type": "stream",
     "text": [
      "Number of Defaults: 5933\n",
      "Number of Non-Defaults: 83905\n",
      "Difference: 77972\n",
      "\n",
      "Number of New Defaults (resampled): 77972\n",
      "\n",
      "Count of Records after Resampling: 167810\n"
     ]
    }
   ],
   "source": [
    "# Resampling to Upsample our Defaults.\n",
    "\n",
    "from sklearn.utils import resample\n",
    "\n",
    "# Separating default and non-defaults\n",
    "df_default = X_train_2[X_train_2['serious_delinquent'] == 1] \n",
    "df_no_default = X_train_2[X_train_2['serious_delinquent'] == 0]\n",
    "\n",
    "print('Number of Defaults: {}'.format(np.ma.count(df_default['serious_delinquent'])))\n",
    "print('Number of Non-Defaults: {}'.format(np.ma.count(df_no_default['serious_delinquent'])))\n",
    "\n",
    "resample_count = np.ma.count(df_no_default['serious_delinquent']) - np.ma.count(df_default['serious_delinquent'])\n",
    "print('Difference: {}'.format(resample_count)) # This is the amount of resamples I need to make\n",
    "print()\n",
    "\n",
    "df_default_samples = resample(df_default, replace=True, n_samples=resample_count, random_state=50) # Resampling\n",
    "print('Number of New Defaults (resampled): {}'.format(np.ma.count(df_default_samples['serious_delinquent'])))\n",
    "print()\n",
    "\n",
    "df_resampled = pd.concat([df_default, df_default_samples, df_no_default]) # combine all data\n",
    "print('Count of Records after Resampling: {}'.format(np.ma.count(df_resampled['serious_delinquent'])))\n",
    "\n"
   ]
  },
  {
   "cell_type": "markdown",
   "metadata": {},
   "source": [
    "### Resampling with k=10 (best param / score).  With this method we were able to correctly identify 3,839 out 3,946 Defaults (a whopping 97%!) and only wrongly predicted 8,640 out of 55,946 (15%) non-defaulters.  So far this is the best predictor we have."
   ]
  },
  {
   "cell_type": "code",
   "execution_count": 20,
   "metadata": {},
   "outputs": [
    {
     "name": "stdout",
     "output_type": "stream",
     "text": [
      "Prediction: [1 0 0 ... 1 0 0]\n",
      "k-NN Score: 0.6944333132972684\n",
      "\n",
      "Confusion Matrix:\n",
      "[[39942 16004]\n",
      " [ 2297  1649]]\n",
      "\n",
      "\n",
      "Classification Report:\n",
      "              precision    recall  f1-score   support\n",
      "\n",
      "           0       0.95      0.71      0.81     55946\n",
      "           1       0.09      0.42      0.15      3946\n",
      "\n",
      "   micro avg       0.69      0.69      0.69     59892\n",
      "   macro avg       0.52      0.57      0.48     59892\n",
      "weighted avg       0.89      0.69      0.77     59892\n",
      "\n"
     ]
    }
   ],
   "source": [
    "\n",
    "# Resampled dependent/independent.\n",
    "X_r = df_resampled.drop(columns = ['serious_delinquent']) # ,'age_bucket_name','monthly_income_name']) # Drop columns not needed.\n",
    "y_r = df_resampled['serious_delinquent']\n",
    "\n",
    "\n",
    "knn = KNeighborsClassifier(n_neighbors=knn_neighbors['n_neighbors'])\n",
    "\n",
    "X_r_train, X_r_test, y_r_train, y_r_test = train_test_split(X_r, y_r, test_size=.4, random_state=50)\n",
    "\n",
    "knn.fit(X_r_train, y_r_train)\n",
    "\n",
    "# y_r_pred = knn.predict(X_r_test)\n",
    "\n",
    "# print('Prediction: {}'.format(y_r_pred))\n",
    "# print('k-NN Score: {}'.format(knn.score(X_r_test, y_r_test)))\n",
    "# Running the below doesn't really tell us much because the prediction was run on the balanced dataset.\n",
    "# print('Confusion Matrix:')\n",
    "# print(confusion_matrix(y_r_test, y_r_pred))\n",
    "# print('Classification Report:')\n",
    "# print(classification_report(y_r_test, y_r_pred))\n",
    "\n",
    "\n",
    "##################################################\n",
    "\n",
    "# Now running on the original dataset to see what our output is.\n",
    "y_r_pred = knn.predict(X_test)  # Use the actual dataset to test\n",
    "\n",
    "print('Prediction: {}'.format(y_r_pred))\n",
    "print('k-NN Score: {}'.format(knn.score(X_test, y_test)))\n",
    "print()\n",
    "\n",
    "# Running the below doesn't really tell us much because the prediction was run on the balanced dataset.\n",
    "\n",
    "print_stats(y_test, y_r_pred)\n"
   ]
  },
  {
   "cell_type": "markdown",
   "metadata": {},
   "source": [
    "### ROC Curve results in an AUC Score of 97.5%"
   ]
  },
  {
   "cell_type": "code",
   "execution_count": 21,
   "metadata": {},
   "outputs": [
    {
     "name": "stdout",
     "output_type": "stream",
     "text": [
      "ROC AUC Score: 0.5970523509482906\n",
      "\n"
     ]
    },
    {
     "data": {
      "image/png": "[encoded data removed]",
      "text/plain": [
       "<Figure size 864x864 with 1 Axes>"
      ]
     },
     "metadata": {},
     "output_type": "display_data"
    }
   ],
   "source": [
    "# ROC Curve\n",
    "y_r_pred_prob = knn.predict_proba(X_test)[:,1]\n",
    "\n",
    "auc_score = roc_auc_score(y_test, y_r_pred_prob)\n",
    "print('ROC AUC Score: ' + str(auc_score))\n",
    "print()\n",
    "\n",
    "fpr, tpr, thresholds = roc_curve(y_test, y_r_pred_prob) # False Positive, True Positive, Threshold\n",
    "\n",
    "plt.figure(figsize=(12,12))\n",
    "plt.plot([0,1], [0,1], 'k--')\n",
    "plt.plot(fpr, tpr)\n",
    "plt.xlabel('False Positive Rate')\n",
    "plt.ylabel('True Positive Rate')\n",
    "plt.title('ROC Curve')\n",
    "plt.show()\n"
   ]
  },
  {
   "cell_type": "code",
   "execution_count": null,
   "metadata": {
    "scrolled": true
   },
   "outputs": [],
   "source": []
  },
  {
   "cell_type": "markdown",
   "metadata": {
    "scrolled": true
   },
   "source": [
    "# Random Forests"
   ]
  },
  {
   "cell_type": "code",
   "execution_count": 22,
   "metadata": {
    "scrolled": true
   },
   "outputs": [],
   "source": [
    "###########################################################\n",
    "# RANDOM FOREST\n",
    "\n",
    "from sklearn.ensemble import RandomForestClassifier\n",
    "# from sklearn.datasets import make_classification\n",
    "\n"
   ]
  },
  {
   "cell_type": "markdown",
   "metadata": {},
   "source": [
    "### Finding the Best Features to Use results in Age (10.4%), Debt Ratio (14.7%), Monthly Income (11.6%), and Unsecured Lines (17%) being the best features."
   ]
  },
  {
   "cell_type": "code",
   "execution_count": 23,
   "metadata": {},
   "outputs": [
    {
     "name": "stdout",
     "output_type": "stream",
     "text": [
      "('age', 0.10415494783280503)\n",
      "('age_bucket', 0.031253023646079854)\n",
      "('debt_ratio', 0.14709674909171985)\n",
      "('debt_ratio_bucket', 0.027006214800039098)\n",
      "('debt_ratio_name', 0.026826965061575777)\n",
      "('monthly_income', 0.11637439653958102)\n",
      "('monthly_income_bucket', 0.031472455842119884)\n",
      "('past_due_30_59', 0.03543735229983863)\n",
      "('past_due_30_59_flag', 0.014810692978250412)\n",
      "('past_due_60_89', 0.023327999714990246)\n",
      "('past_due_60_89_flag', 0.017014642318784353)\n",
      "('past_due_90_plus', 0.052225674522146284)\n",
      "('past_due_90_plus_flag', 0.041534394540609774)\n",
      "('open_credit_lines', 0.0869968850499308)\n",
      "('unsecured_lines', 0.1705596201949941)\n",
      "('real_estate_loans', 0.032959304331599125)\n",
      "('number_of_dependents', 0.0409486812349354)\n"
     ]
    }
   ],
   "source": [
    "# Feature Importance\n",
    "\n",
    "features = X_train.keys() # Store Feature Names\n",
    "\n",
    "# X_train, X_test, y_train, y_test = train_test_split(X, y, test_size=.4, random_state=50)\n",
    "\n",
    "clf = RandomForestClassifier(n_estimators=1000,  random_state=50, n_jobs=-1) # 1000 Trees\n",
    "clf.fit(X_train, y_train)\n",
    "\n",
    "for feature in zip(features, clf.feature_importances_): # Print each feature with gini score.\n",
    "    print(feature)"
   ]
  },
  {
   "cell_type": "markdown",
   "metadata": {},
   "source": [
    "### Using all Features in the actual data set gives not so good results.  Only 733 of the 3,946 defaults were predicted."
   ]
  },
  {
   "cell_type": "code",
   "execution_count": 24,
   "metadata": {},
   "outputs": [
    {
     "name": "stdout",
     "output_type": "stream",
     "text": [
      "Confusion Matrix:\n",
      "[[55344   602]\n",
      " [ 3213   733]]\n",
      "\n",
      "\n",
      "Classification Report:\n",
      "              precision    recall  f1-score   support\n",
      "\n",
      "           0       0.95      0.99      0.97     55946\n",
      "           1       0.55      0.19      0.28      3946\n",
      "\n",
      "   micro avg       0.94      0.94      0.94     59892\n",
      "   macro avg       0.75      0.59      0.62     59892\n",
      "weighted avg       0.92      0.94      0.92     59892\n",
      "\n",
      "\n",
      "Accuracy Score: 0.93630201028518\n"
     ]
    }
   ],
   "source": [
    "# Using the actual data\n",
    "# X_train, X_test, y_train, y_test = train_test_split(X, y, test_size=.4, random_state=50)\n",
    "clf = RandomForestClassifier(n_estimators=1000,  random_state=50) # max_depth=100,\n",
    "clf.fit(X_train, y_train)\n",
    "\n",
    "y_pred = clf.predict(X_test)\n",
    "\n",
    "print_stats(y_test, y_pred)\n",
    "# print()\n",
    "# print('Feature Scores: {}'.format(clf.feature_importances_))\n",
    "\n",
    "\n"
   ]
  },
  {
   "cell_type": "markdown",
   "metadata": {},
   "source": [
    "### Using the Balanced class weight did a little worse in that it only predicted 603 out of the 3,946 defaults."
   ]
  },
  {
   "cell_type": "code",
   "execution_count": 25,
   "metadata": {
    "scrolled": true
   },
   "outputs": [
    {
     "name": "stdout",
     "output_type": "stream",
     "text": [
      "Confusion Matrix:\n",
      "[[55464   482]\n",
      " [ 3343   603]]\n",
      "\n",
      "\n",
      "Classification Report:\n",
      "              precision    recall  f1-score   support\n",
      "\n",
      "           0       0.94      0.99      0.97     55946\n",
      "           1       0.56      0.15      0.24      3946\n",
      "\n",
      "   micro avg       0.94      0.94      0.94     59892\n",
      "   macro avg       0.75      0.57      0.60     59892\n",
      "weighted avg       0.92      0.94      0.92     59892\n",
      "\n",
      "\n",
      "Accuracy Score: 0.9361350430775396\n"
     ]
    }
   ],
   "source": [
    "# Using the Actual Dataset with Class_Weight = 'balanced'\n",
    "\n",
    "# X_train, X_test, y_train, y_test = train_test_split(X, y, test_size=.4, random_state=50)\n",
    "\n",
    "clf = RandomForestClassifier(n_estimators=1000,  random_state=50, class_weight = 'balanced') # max_depth=100,\n",
    "clf.fit(X_train, y_train)\n",
    "\n",
    "y_pred = clf.predict(X_test)\n",
    "\n",
    "print_stats(y_test, y_pred)\n",
    "\n"
   ]
  },
  {
   "cell_type": "markdown",
   "metadata": {},
   "source": [
    "### Instead of using the Balanced class weight parameter, I am going to use my balanced dataset where the number of default records is the same as the number of non-default records.\n",
    "### This results in what looks to be amazing results!  3,945 out of the 3,946 defaults were predicted and only 932 non-defaulters were predicted to default."
   ]
  },
  {
   "cell_type": "code",
   "execution_count": 26,
   "metadata": {
    "scrolled": true
   },
   "outputs": [
    {
     "name": "stdout",
     "output_type": "stream",
     "text": [
      "Confusion Matrix:\n",
      "[[53698  2248]\n",
      " [ 2379  1567]]\n",
      "\n",
      "\n",
      "Classification Report:\n",
      "              precision    recall  f1-score   support\n",
      "\n",
      "           0       0.96      0.96      0.96     55946\n",
      "           1       0.41      0.40      0.40      3946\n",
      "\n",
      "   micro avg       0.92      0.92      0.92     59892\n",
      "   macro avg       0.68      0.68      0.68     59892\n",
      "weighted avg       0.92      0.92      0.92     59892\n",
      "\n",
      "\n",
      "Accuracy Score: 0.9227442730247779\n"
     ]
    }
   ],
   "source": [
    "# Using the Balanced Dataset\n",
    "\n",
    "# X_r_train, X_r_test, y_r_train, y_r_test = train_test_split(X_r, y_r, test_size=.4, random_state=50)\n",
    "\n",
    "clf = RandomForestClassifier(n_estimators=1000, random_state=50) # max_depth=100,\n",
    "clf.fit(X_r_train, y_r_train)\n",
    "\n",
    "y_r_pred = clf.predict(X_test) # Use the actual dataset to test\n",
    "\n",
    "print_stats(y_test, y_r_pred)\n",
    "\n"
   ]
  },
  {
   "cell_type": "markdown",
   "metadata": {},
   "source": [
    "### The ROC Curve basically follows the y axis straight up."
   ]
  },
  {
   "cell_type": "code",
   "execution_count": 27,
   "metadata": {
    "scrolled": true
   },
   "outputs": [
    {
     "name": "stdout",
     "output_type": "stream",
     "text": [
      "ROC AUC Score: 0.8437428141237272\n",
      "\n"
     ]
    },
    {
     "data": {
      "image/png": "[encoded data removed]",
      "text/plain": [
       "<Figure size 864x864 with 1 Axes>"
      ]
     },
     "metadata": {},
     "output_type": "display_data"
    }
   ],
   "source": [
    "# ROC Curve\n",
    "y_r_pred_prob = clf.predict_proba(X_test)[:,1]\n",
    "\n",
    "auc_score = roc_auc_score(y_test, y_r_pred_prob)\n",
    "print('ROC AUC Score: ' + str(auc_score))\n",
    "print()\n",
    "\n",
    "fpr, tpr, thresholds = roc_curve(y_test, y_r_pred_prob) # False Positive, True Positive, Threshold\n",
    "\n",
    "plt.figure(figsize=(12,12))\n",
    "plt.plot([0,1], [0,1], 'k--')\n",
    "plt.plot(fpr, tpr)\n",
    "plt.xlabel('False Positive Rate')\n",
    "plt.ylabel('True Positive Rate')\n",
    "plt.title('ROC Curve')\n",
    "plt.show()\n"
   ]
  },
  {
   "cell_type": "code",
   "execution_count": null,
   "metadata": {
    "scrolled": true
   },
   "outputs": [],
   "source": []
  },
  {
   "cell_type": "code",
   "execution_count": null,
   "metadata": {
    "scrolled": true
   },
   "outputs": [],
   "source": []
  },
  {
   "cell_type": "code",
   "execution_count": null,
   "metadata": {
    "scrolled": true
   },
   "outputs": [],
   "source": []
  },
  {
   "cell_type": "markdown",
   "metadata": {
    "scrolled": true
   },
   "source": [
    "# SVM"
   ]
  },
  {
   "cell_type": "code",
   "execution_count": 28,
   "metadata": {
    "scrolled": true
   },
   "outputs": [],
   "source": [
    "from sklearn import svm\n",
    "from sklearn.preprocessing import StandardScaler\n"
   ]
  },
  {
   "cell_type": "code",
   "execution_count": 30,
   "metadata": {},
   "outputs": [
    {
     "name": "stderr",
     "output_type": "stream",
     "text": [
      "C:\\ProgramData\\Anaconda3\\lib\\site-packages\\sklearn\\svm\\base.py:922: ConvergenceWarning: Liblinear failed to converge, increase the number of iterations.\n",
      "  \"the number of iterations.\", ConvergenceWarning)\n",
      "C:\\ProgramData\\Anaconda3\\lib\\site-packages\\sklearn\\svm\\base.py:922: ConvergenceWarning: Liblinear failed to converge, increase the number of iterations.\n",
      "  \"the number of iterations.\", ConvergenceWarning)\n"
     ]
    },
    {
     "name": "stdout",
     "output_type": "stream",
     "text": [
      "C=0.5,score=0.9309089694783944\n",
      "[[55559   387]\n",
      " [ 3751   195]]\n"
     ]
    },
    {
     "name": "stderr",
     "output_type": "stream",
     "text": [
      "C:\\ProgramData\\Anaconda3\\lib\\site-packages\\sklearn\\svm\\base.py:922: ConvergenceWarning: Liblinear failed to converge, increase the number of iterations.\n",
      "  \"the number of iterations.\", ConvergenceWarning)\n"
     ]
    },
    {
     "name": "stdout",
     "output_type": "stream",
     "text": [
      "C=1.0,score=0.9368363053496294\n",
      "[[55739   207]\n",
      " [ 3576   370]]\n"
     ]
    },
    {
     "name": "stderr",
     "output_type": "stream",
     "text": [
      "C:\\ProgramData\\Anaconda3\\lib\\site-packages\\sklearn\\svm\\base.py:922: ConvergenceWarning: Liblinear failed to converge, increase the number of iterations.\n",
      "  \"the number of iterations.\", ConvergenceWarning)\n"
     ]
    },
    {
     "name": "stdout",
     "output_type": "stream",
     "text": [
      "C=1.5,score=0.9364856742135844\n",
      "[[55768   178]\n",
      " [ 3626   320]]\n"
     ]
    },
    {
     "name": "stderr",
     "output_type": "stream",
     "text": [
      "C:\\ProgramData\\Anaconda3\\lib\\site-packages\\sklearn\\svm\\base.py:922: ConvergenceWarning: Liblinear failed to converge, increase the number of iterations.\n",
      "  \"the number of iterations.\", ConvergenceWarning)\n"
     ]
    },
    {
     "name": "stdout",
     "output_type": "stream",
     "text": [
      "C=2.0,score=0.7915915314232285\n",
      "[[46208  9738]\n",
      " [ 2744  1202]]\n"
     ]
    },
    {
     "name": "stderr",
     "output_type": "stream",
     "text": [
      "C:\\ProgramData\\Anaconda3\\lib\\site-packages\\sklearn\\svm\\base.py:922: ConvergenceWarning: Liblinear failed to converge, increase the number of iterations.\n",
      "  \"the number of iterations.\", ConvergenceWarning)\n"
     ]
    },
    {
     "name": "stdout",
     "output_type": "stream",
     "text": [
      "C=4.0,score=0.17391304347826086\n",
      "[[ 6896 49050]\n",
      " [  426  3520]]\n"
     ]
    },
    {
     "name": "stderr",
     "output_type": "stream",
     "text": [
      "C:\\ProgramData\\Anaconda3\\lib\\site-packages\\sklearn\\svm\\base.py:922: ConvergenceWarning: Liblinear failed to converge, increase the number of iterations.\n",
      "  \"the number of iterations.\", ConvergenceWarning)\n"
     ]
    },
    {
     "name": "stdout",
     "output_type": "stream",
     "text": [
      "C=8.0,score=0.9340479529820344\n",
      "[[55667   279]\n",
      " [ 3671   275]]\n",
      "C=10.0,score=0.9354337808054498\n",
      "[[55628   318]\n",
      " [ 3549   397]]\n"
     ]
    },
    {
     "name": "stderr",
     "output_type": "stream",
     "text": [
      "C:\\ProgramData\\Anaconda3\\lib\\site-packages\\sklearn\\svm\\base.py:922: ConvergenceWarning: Liblinear failed to converge, increase the number of iterations.\n",
      "  \"the number of iterations.\", ConvergenceWarning)\n"
     ]
    }
   ],
   "source": [
    "\n",
    "svm_test(X_train, y_train, X_test, y_test, 5000, [.5, 1.0, 1.5, 2.0, 4.0, 8.0, 10.0])"
   ]
  },
  {
   "cell_type": "code",
   "execution_count": 41,
   "metadata": {
    "scrolled": true
   },
   "outputs": [
    {
     "name": "stdout",
     "output_type": "stream",
     "text": [
      "Confusion Matrix:\n",
      "[[53181  2765]\n",
      " [ 3518   428]]\n",
      "\n",
      "\n",
      "Classification Report:\n",
      "              precision    recall  f1-score   support\n",
      "\n",
      "           0       0.94      0.95      0.94     55946\n",
      "           1       0.13      0.11      0.12      3946\n",
      "\n",
      "   micro avg       0.90      0.90      0.90     59892\n",
      "   macro avg       0.54      0.53      0.53     59892\n",
      "weighted avg       0.88      0.90      0.89     59892\n",
      "\n",
      "\n",
      "Accuracy Score: 0.8950945034395245\n"
     ]
    },
    {
     "name": "stderr",
     "output_type": "stream",
     "text": [
      "C:\\ProgramData\\Anaconda3\\lib\\site-packages\\sklearn\\svm\\base.py:922: ConvergenceWarning: Liblinear failed to converge, increase the number of iterations.\n",
      "  \"the number of iterations.\", ConvergenceWarning)\n"
     ]
    }
   ],
   "source": [
    "linSVC = svm.LinearSVC(random_state=50,  max_iter = 1000, C=4.0) # tol=1e-5,\n",
    "linSVC.fit(X_train, y_train)\n",
    "\n",
    "y_r_pred = linSVC.predict(X_test)\n",
    "\n",
    "#print('Confusion Matrix:')\n",
    "#print(confusion_matrix(y_test, y_r_pred))\n",
    "#print()\n",
    "print_stats(y_test, y_r_pred)"
   ]
  },
  {
   "cell_type": "code",
   "execution_count": null,
   "metadata": {},
   "outputs": [],
   "source": []
  },
  {
   "cell_type": "code",
   "execution_count": null,
   "metadata": {},
   "outputs": [],
   "source": []
  },
  {
   "cell_type": "markdown",
   "metadata": {},
   "source": [
    "## Annex - Ignore for now."
   ]
  },
  {
   "cell_type": "code",
   "execution_count": null,
   "metadata": {
    "scrolled": true
   },
   "outputs": [],
   "source": [
    "scaler = StandardScaler() # Standarize features\n",
    "X_std = scaler.fit_transform(X_train)\n",
    "\n",
    "svc = svm.SVC(class_weight='balanced', C=5.0, random_state=50, probability=True) # kernel='linear', \n",
    "\n"
   ]
  },
  {
   "cell_type": "code",
   "execution_count": null,
   "metadata": {
    "scrolled": true
   },
   "outputs": [],
   "source": [
    "# Train classifier\n",
    "model = svc.predict(X_std, y_train)\n",
    "\n"
   ]
  },
  {
   "cell_type": "code",
   "execution_count": null,
   "metadata": {
    "scrolled": true
   },
   "outputs": [],
   "source": [
    "\n"
   ]
  },
  {
   "cell_type": "code",
   "execution_count": null,
   "metadata": {
    "scrolled": true
   },
   "outputs": [],
   "source": [
    "print(svc.predict_proba(X_test))\n"
   ]
  },
  {
   "cell_type": "code",
   "execution_count": null,
   "metadata": {
    "scrolled": true
   },
   "outputs": [],
   "source": [
    "print(svc.predict_log_proba(X_test))"
   ]
  },
  {
   "cell_type": "code",
   "execution_count": null,
   "metadata": {
    "scrolled": true
   },
   "outputs": [],
   "source": [
    "print_stats(y_test, y_r_pred)"
   ]
  },
  {
   "cell_type": "code",
   "execution_count": null,
   "metadata": {
    "scrolled": true
   },
   "outputs": [],
   "source": []
  },
  {
   "cell_type": "code",
   "execution_count": null,
   "metadata": {
    "scrolled": true
   },
   "outputs": [],
   "source": []
  }
 ],
 "metadata": {
  "kernelspec": {
   "display_name": "Python 3",
   "language": "python",
   "name": "python3"
  },
  "language_info": {
   "codemirror_mode": {
    "name": "ipython",
    "version": 3
   },
   "file_extension": ".py",
   "mimetype": "text/x-python",
   "name": "python",
   "nbconvert_exporter": "python",
   "pygments_lexer": "ipython3",
   "version": "3.7.1"
  }
 },
 "nbformat": 4,
 "nbformat_minor": 2
}
