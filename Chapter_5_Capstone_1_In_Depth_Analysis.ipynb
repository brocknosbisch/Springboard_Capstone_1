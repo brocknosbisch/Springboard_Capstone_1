{
 "cells": [
  {
   "cell_type": "markdown",
   "metadata": {},
   "source": [
    "# Capstone Project 1 - In-Depth Analysis\n",
    "## Name: Brock Nosbisch\n",
    "\n",
    "# Summary:\n",
    "\n",
    "\n",
    "## Using the entire dataset:\n",
    "\n",
    "### Logistic Regression\n",
    "* Correctly predicted 617 defaults out of 3,946 total defaults (16%)\n",
    "* Correctly predicted 617 defaults out of 1,003 predicted defaults (62%)\n",
    "* Incorrectly predicted 386 defaults out of 55,946 non-defaults (1%)\n",
    "\n",
    "### Logistic Regression using GridSearchCV\n",
    "* Correctly predicted 673 defaults out of 3,946 total defaults (17%)\n",
    "* Correctly predicted 673 defaults out of 1,109 predicted defaults (61%)\n",
    "* Incorrectly predicted 436 defaults out of 55,946 non-defaults (1%)\n",
    "\n",
    "### Logistic Regression using Balanced Weight\n",
    "* Correctly predicted 2,577 defaults out of 3,946 total defaults (65%)\n",
    "* Correctly predicted 2,577 defaults out of 10,866 predicted defaults (24%)\n",
    "* Incorrectly predicted 8,289 defaults out of 55,946 non-defaults (15%)\n",
    "\n",
    "### k-NN with k=10\n",
    "* Correctly predicted 1 defaults out of 3,946 total defaults (<1%)\n",
    "* Correctly predicted 1 defaults out of 3 predicted defaults (33%)\n",
    "* Incorrectly predicted 2 defaults out of 55,946 non-defaults (<1%)\n",
    "\n",
    "### k-NN with Resampling\n",
    "* Correctly predicted 1,649 defaults out of 3,946 total defaults (42%)\n",
    "* Correctly predicted 1,649 defaults out of 17,653 predicted defaults (9%)\n",
    "* Incorrectly predicted 16,004 defaults out of 55,946 non-defaults (29%)\n",
    "\n",
    "### Random Forest\n",
    "* Correctly predicted 733 defaults out of 3,946 total defaults (19%)\n",
    "* Correctly predicted 733 defaults out of 1,335 predicted defaults (55%)\n",
    "* Incorrectly predicted 602 defaults out of 55,946 non-defaults (1%)\n",
    "\n",
    "### Random Forest using Balanced Weight\n",
    "* Correctly predicted 603 defaults out of 3,946 total defaults (15%)\n",
    "* Correctly predicted 603 defaults out of 1,085 predicted defaults (56%)\n",
    "* Incorrectly predicted 482 defaults out of 55,946 non-defaults (1%)\n",
    "\n",
    "### Random Forest using Balanced Dataset\n",
    "* Correctly predicted 1,567 defaults out of 3,946 total defaults (40%)\n",
    "* Correctly predicted 1,567 defaults out of 3,815 predicted defaults (41%)\n",
    "* Incorrectly predicted 2,248 defaults out of 55,946 non-defaults (4%)\n",
    "\n",
    "### SVM results were sub-par.\n",
    "\n",
    "\n",
    "## Splitting up the dataset based on monthly income.\n",
    "* < median monthly income\n",
    "* = median monthly income (I set all NULL and 0 monthly incomes to the median value)\n",
    "* \\> median monthly income\n",
    "\n",
    "### Logistic Regression (Monthly Income < median)\n",
    "* Correctly predicted 1,018 defaults out of 1,533 total defaults (66%)\n",
    "* Correctly predicted 1,018 defaults out of 3,595 predicted defaults (28%)\n",
    "* Incorrectly predicted 2,577 defaults out of 15,911 non-defaults (16%)\n",
    "\n",
    "### Logistic Regression (Monthly Income = median)\n",
    "* Correctly predicted 454 defaults out of 634 total defaults (66%)\n",
    "* Correctly predicted 454 defaults out of 2,192 predicted defaults (28%)\n",
    "* Incorrectly predicted 1,738 defaults out of 11,876 non-defaults (15%)\n",
    "\n",
    "### Logistic Regression (Monthly Income > median)\n",
    "* Correctly predicted 1,098 defaults out of 1,680 total defaults (65%)\n",
    "* Correctly predicted 1,098 defaults out of 5,661 predicted defaults (19%)\n",
    "* Incorrectly predicted 4,563 defaults out of 28,259 non-defaults (16%)\n",
    "\n",
    "### k-NN results with different buckets were sub-par.\n",
    "\n",
    "### Random Forest (Monthly Income < median)\n",
    "* Correctly predicted 329 defaults out of 1,533 total defaults (21%)\n",
    "* Correctly predicted 329 defaults out of 615 predicted defaults (53%)\n",
    "* Incorrectly predicted 286 defaults out of 15,911 non-defaults (2%)\n",
    "\n",
    "### Random Forest (Monthly Income = median)\n",
    "* Correctly predicted 157 defaults out of 634 total defaults (25%)\n",
    "* Correctly predicted 157 defaults out of 304 predicted defaults (52%)\n",
    "* Incorrectly predicted 147 defaults out of 11,876 non-defaults (1%)\n",
    "\n",
    "### Random Forest (Monthly Income > median)\n",
    "* Correctly predicted 277 defaults out of 1,680 total defaults (16%)\n",
    "* Correctly predicted 277 defaults out of 518 predicted defaults (53%)\n",
    "* Incorrectly predicted 241 defaults out of 28,259 non-defaults (1%)\n",
    "\n",
    "\n"
   ]
  },
  {
   "cell_type": "markdown",
   "metadata": {},
   "source": [
    "# Load Packages / Data / Notebooks"
   ]
  },
  {
   "cell_type": "code",
   "execution_count": 1,
   "metadata": {},
   "outputs": [],
   "source": [
    "import pandas as pd\n",
    "import numpy as np\n",
    "import matplotlib.pyplot as plt\n",
    "import seaborn as sns; sns.set(color_codes=True)\n",
    "from scipy import stats\n",
    "# from statsmodels.nonparametric.kernel_regression import KernelReg\n",
    "\n",
    "from sklearn.linear_model import LogisticRegression, Lasso\n",
    "from sklearn.model_selection import train_test_split, cross_val_score, GridSearchCV\n",
    "from sklearn.metrics import roc_curve, roc_auc_score, auc, confusion_matrix, classification_report, accuracy_score, SCORERS\n",
    "\n",
    "from sklearn.neighbors import KNeighborsClassifier\n",
    "\n",
    "file_name = 'eda_out.csv'\n",
    "df = pd.read_csv(file_name, header=0, na_values ='-1')\n",
    "df.set_index('id', inplace=True)\n",
    "# df.info()\n"
   ]
  },
  {
   "cell_type": "code",
   "execution_count": 3,
   "metadata": {},
   "outputs": [],
   "source": [
    "def pearsonr_ci(x,y,alpha=0.05):\n",
    "\n",
    "    r, p = stats.pearsonr(x,y)\n",
    "    r_z = np.arctanh(r)\n",
    "    se = 1/np.sqrt(x.size-3)\n",
    "    z = stats.norm.ppf(1-alpha/2)\n",
    "    low_z, high_z = r_z-z*se, r_z+z*se\n",
    "    low, high = np.tanh((low_z, high_z))\n",
    "    return r, p, low, high\n",
    "\n",
    "# Bootstrap Replicates\n",
    "def bootstrap_replicate_1d(data, func):\n",
    "    return func(np.random.choice(data, size=len(data)))\n",
    "\n",
    "# Test SVM\n",
    "# Pass X_train, y_train, X_test, y_test, Maximum Iterations you want, C values in a list \n",
    "def svm_test(X_train, y_train, X_test, y_test, maxiter=1000, crange=[0.01,0.1,1,10,100]):\n",
    "    # X_train, X_test, y_train, y_test = train_test_split(X,y,random_state=10)\n",
    "    model = svm.LinearSVC(C=1, random_state=50)\n",
    "    model.fit(X_train, y_train)\n",
    "    y_pred = model.predict(X_test)\n",
    "    #tune parameter C\n",
    "    # crange = [0.01,0.1,1,10,100,1000]\n",
    "    for num in crange:\n",
    "        model = svm.LinearSVC(C=num, max_iter = maxiter)\n",
    "        model.fit(X_train, y_train)\n",
    "        y_pred = model.predict(X_test)\n",
    "        print ('C=' + str(num) + ',score={}'.format(accuracy_score(y_test,y_pred)))\n",
    "        print(confusion_matrix(y_test, y_pred))\n",
    "        \n",
    "def print_stats(y_test, y_pred):\n",
    "    print('Confusion Matrix:')\n",
    "    print(confusion_matrix(y_test, y_pred))\n",
    "    print()\n",
    "    print()\n",
    "    print('Classification Report:')\n",
    "    print(classification_report(y_test, y_pred))\n",
    "    print()\n",
    "    print('Accuracy Score: {}'.format(accuracy_score(y_test, y_pred)))\n",
    "    "
   ]
  },
  {
   "cell_type": "code",
   "execution_count": 4,
   "metadata": {},
   "outputs": [
    {
     "name": "stderr",
     "output_type": "stream",
     "text": [
      "C:\\ProgramData\\Anaconda3\\lib\\site-packages\\ipykernel_launcher.py:3: SettingWithCopyWarning: \n",
      "A value is trying to be set on a copy of a slice from a DataFrame\n",
      "\n",
      "See the caveats in the documentation: http://pandas.pydata.org/pandas-docs/stable/indexing.html#indexing-view-versus-copy\n",
      "  This is separate from the ipykernel package so we can avoid doing imports until\n"
     ]
    }
   ],
   "source": [
    "\n",
    "# Find monthly income median\n",
    "df['monthly_income'][df['monthly_income'].isnull()] = 0\n",
    "df.astype({'monthly_income':'int64'})\n",
    "monthly_median = np.median(df['monthly_income'])\n",
    "df.loc[df.monthly_income == 0, 'monthly_income'] = monthly_median # Set the 0's to median value.\n",
    "\n",
    "# Need to do a little clean up on number_of_dependents\n",
    "df['number_of_dependents'] = df['number_of_dependents'].fillna(0)\n",
    "\n",
    "X = df.drop(columns = ['serious_delinquent','age_bucket_name','monthly_income_name']) # ,'monthly_income']) # Drop columns not needed.\n",
    "y = df['serious_delinquent']\n",
    "\n",
    "# Split the Training and Test Sets\n",
    "X_train, X_test, y_train, y_test = train_test_split(X, y, test_size=.4, random_state=50) \n"
   ]
  },
  {
   "cell_type": "code",
   "execution_count": null,
   "metadata": {},
   "outputs": [],
   "source": []
  },
  {
   "cell_type": "code",
   "execution_count": null,
   "metadata": {},
   "outputs": [],
   "source": []
  },
  {
   "cell_type": "markdown",
   "metadata": {},
   "source": [
    "# Logistic Regression"
   ]
  },
  {
   "cell_type": "markdown",
   "metadata": {},
   "source": [
    "### The Confusion Matrix is showing the below which looks good:\n",
    "* Accuracy was 94% (56,177 out of 59,892)\n",
    "* Precision was 94% (tp / (tp + fp))\n",
    "* Recall was 99% (tp / (tp + fn))\n",
    "* F1 Score is 96% (2 * ((p * r) / (p + r)))\n",
    "\n",
    "### But if I look at how well I did predicting the Defaults, the model predicted a total of 1,003 Defaults and 617 of those were actual Defaults.  The total actual count of Defaults was 3,946.  These results are not satisfactory.\n",
    "* Predicted 617 defaults out of 3,946 total defaults (16%)\n",
    "* Out of 1,003 predicted defaults, 617 were actual defaults (62%)\n",
    "* F1 Score is 25%\n"
   ]
  },
  {
   "cell_type": "code",
   "execution_count": 5,
   "metadata": {},
   "outputs": [
    {
     "name": "stdout",
     "output_type": "stream",
     "text": [
      "Confusion Matrix:\n",
      "[[55560   386]\n",
      " [ 3329   617]]\n",
      "\n",
      "\n",
      "Classification Report:\n",
      "              precision    recall  f1-score   support\n",
      "\n",
      "           0       0.94      0.99      0.97     55946\n",
      "           1       0.62      0.16      0.25      3946\n",
      "\n",
      "   micro avg       0.94      0.94      0.94     59892\n",
      "   macro avg       0.78      0.57      0.61     59892\n",
      "weighted avg       0.92      0.94      0.92     59892\n",
      "\n",
      "\n",
      "Accuracy Score: 0.9379716823615842\n"
     ]
    },
    {
     "name": "stderr",
     "output_type": "stream",
     "text": [
      "C:\\ProgramData\\Anaconda3\\lib\\site-packages\\sklearn\\svm\\base.py:922: ConvergenceWarning: Liblinear failed to converge, increase the number of iterations.\n",
      "  \"the number of iterations.\", ConvergenceWarning)\n"
     ]
    }
   ],
   "source": [
    "\n",
    "logreg = LogisticRegression(solver='liblinear') # Create the classifier\n",
    "logreg.fit(X_train, y_train) # Fit the classifier to the training data\n",
    "\n",
    "y_pred = logreg.predict(X_test) # Predict the labels of the test set\n",
    "\n",
    "print_stats(y_test, y_pred)\n"
   ]
  },
  {
   "cell_type": "markdown",
   "metadata": {},
   "source": [
    "### The Average 10-fold Cross Validation score is 93.8%."
   ]
  },
  {
   "cell_type": "code",
   "execution_count": 49,
   "metadata": {},
   "outputs": [
    {
     "name": "stderr",
     "output_type": "stream",
     "text": [
      "C:\\ProgramData\\Anaconda3\\lib\\site-packages\\sklearn\\svm\\base.py:922: ConvergenceWarning: Liblinear failed to converge, increase the number of iterations.\n",
      "  \"the number of iterations.\", ConvergenceWarning)\n",
      "C:\\ProgramData\\Anaconda3\\lib\\site-packages\\sklearn\\svm\\base.py:922: ConvergenceWarning: Liblinear failed to converge, increase the number of iterations.\n",
      "  \"the number of iterations.\", ConvergenceWarning)\n"
     ]
    },
    {
     "name": "stdout",
     "output_type": "stream",
     "text": [
      "CV Scores:\n",
      "[0.9360601  0.93739566 0.93689482 0.93789649 0.94156928 0.9375626\n",
      " 0.93937876 0.93904476 0.94071476 0.93553774]\n",
      "\n",
      "Average k-fold CV Score: 0.9382054983645645\n",
      "\n"
     ]
    }
   ],
   "source": [
    "# Cross Validation\n",
    "\n",
    "logreg3 = LogisticRegression(solver='liblinear') # Create the classifier\n",
    "cv_scores = cross_val_score(logreg3, X_test, y_test, cv=10)\n",
    "print('CV Scores:')\n",
    "print(cv_scores)\n",
    "print()\n",
    "cv_score_avg = np.mean(cv_scores)\n",
    "print('Average k-fold CV Score: ' + str(cv_score_avg))\n",
    "print()\n"
   ]
  },
  {
   "cell_type": "markdown",
   "metadata": {},
   "source": [
    "### It seems that using optimizing the parameters did not help much since the matrix is about the same as above."
   ]
  },
  {
   "cell_type": "code",
   "execution_count": 85,
   "metadata": {},
   "outputs": [
    {
     "name": "stdout",
     "output_type": "stream",
     "text": [
      "Confusion Matrix:\n",
      "[[55509   437]\n",
      " [ 3277   669]]\n",
      "\n",
      "\n",
      "Classification Report:\n",
      "              precision    recall  f1-score   support\n",
      "\n",
      "           0       0.94      0.99      0.97     55946\n",
      "           1       0.60      0.17      0.26      3946\n",
      "\n",
      "   micro avg       0.94      0.94      0.94     59892\n",
      "   macro avg       0.77      0.58      0.62     59892\n",
      "weighted avg       0.92      0.94      0.92     59892\n",
      "\n",
      "\n",
      "Accuracy Score: 0.9379883790823482\n"
     ]
    }
   ],
   "source": [
    "# GridSearchCV with LogReg\n",
    "\n",
    "logreg = LogisticRegression(solver='liblinear') # Create the classifier\n",
    "\n",
    "penalty = ['l1', 'l2'] # regularization penablty space\n",
    "C = np.logspace(0, 4, 10) # regularization hyperparameter space\n",
    "\n",
    "param_grid = dict(C=C, penalty=penalty)\n",
    "# scoring = {'AUC': 'roc_auc', 'ROC AUC SCORE': 'roc_auc_score', 'Balanced Accuracy': 'balanced_accuracy_score'}\n",
    "\n",
    "logreg_cv = GridSearchCV(logreg, param_grid, scoring='roc_auc', cv=5, n_jobs=-1) # 5 fold\n",
    "logreg_cv.fit(X_train, y_train) # Fit the classifier to the training data\n",
    "\n",
    "y_pred = logreg_cv.predict(X_test) # Predict the labels of the test set\n",
    "\n",
    "print_stats(y_test, y_pred)\n"
   ]
  },
  {
   "cell_type": "markdown",
   "metadata": {},
   "source": [
    "## Logistic Regression (Balanced)\n",
    "### After passing the class_weight='balanced' parameter, the Confusion Matrix is showing the below which appears to be worse than above.\n",
    "* Accuracy was 83.8% (50,234 / 59,892)\n",
    "* Precision was 97%\n",
    "* Recall was 85%\n",
    "* F1 Score is 91%\n",
    "\n",
    "### But since the weighting was balanced (n_samples / (n_classes * np.bincount(y))), the model predicted a total of 10,866 Defaults and 2,577 of those were actual Defaults.  The total actual count of Defaults was 3,946.\n",
    "* Predicted 2,577 defaults out of 3,946 total defaults (65%)\n",
    "* Out of 10,866 predicted defaults, 2,577 were actual defaults (24%)\n",
    "* F1 Score is 35%\n",
    "\n",
    "### So using the Balanced method gave us a much higher percentage (65%) of finding all the Defaults but 8,284 predicted defaults did not actually default (15% of all non-defaulters).  This may seem like the balanced model was worse but the model is being used to find the people who will default.  Since defaulters cost the company a lot more than the non-defaulters make in revenue then wrongly classifying a non-defaulter as a defaulter is an okay trade-off.\n"
   ]
  },
  {
   "cell_type": "code",
   "execution_count": 51,
   "metadata": {},
   "outputs": [
    {
     "name": "stdout",
     "output_type": "stream",
     "text": [
      "Confusion Matrix:\n",
      "[[47657  8289]\n",
      " [ 1369  2577]]\n",
      "\n",
      "\n",
      "Classification Report:\n",
      "              precision    recall  f1-score   support\n",
      "\n",
      "           0       0.97      0.85      0.91     55946\n",
      "           1       0.24      0.65      0.35      3946\n",
      "\n",
      "   micro avg       0.84      0.84      0.84     59892\n",
      "   macro avg       0.60      0.75      0.63     59892\n",
      "weighted avg       0.92      0.84      0.87     59892\n",
      "\n",
      "\n",
      "Accuracy Score: 0.838743070860883\n"
     ]
    }
   ],
   "source": [
    "# Logistic Regression (balanced)\n",
    "\n",
    "logreg_bal = LogisticRegression(solver='liblinear', penalty='l2', class_weight='balanced', C=1) # Create the classifier\n",
    "logreg_bal.fit(X_train, y_train) # Fit the classifier to the training data\n",
    "\n",
    "y_pred = logreg_bal.predict(X_test) # Predict the labels of the test set\n",
    "\n",
    "print_stats(y_test, y_pred)\n"
   ]
  },
  {
   "cell_type": "markdown",
   "metadata": {},
   "source": [
    "### The Average 10-fold Cross Validation score is 84%."
   ]
  },
  {
   "cell_type": "code",
   "execution_count": 52,
   "metadata": {},
   "outputs": [
    {
     "name": "stderr",
     "output_type": "stream",
     "text": [
      "C:\\ProgramData\\Anaconda3\\lib\\site-packages\\sklearn\\svm\\base.py:922: ConvergenceWarning: Liblinear failed to converge, increase the number of iterations.\n",
      "  \"the number of iterations.\", ConvergenceWarning)\n",
      "C:\\ProgramData\\Anaconda3\\lib\\site-packages\\sklearn\\svm\\base.py:922: ConvergenceWarning: Liblinear failed to converge, increase the number of iterations.\n",
      "  \"the number of iterations.\", ConvergenceWarning)\n",
      "C:\\ProgramData\\Anaconda3\\lib\\site-packages\\sklearn\\svm\\base.py:922: ConvergenceWarning: Liblinear failed to converge, increase the number of iterations.\n",
      "  \"the number of iterations.\", ConvergenceWarning)\n"
     ]
    },
    {
     "name": "stdout",
     "output_type": "stream",
     "text": [
      "CV Scores:\n",
      "[0.83422371 0.84173623 0.83689482 0.83689482 0.83889816 0.84774624\n",
      " 0.84335337 0.83750835 0.84051436 0.83767535]\n",
      "\n",
      "Average k-fold CV Score: 0.8395445426189051\n",
      "\n"
     ]
    }
   ],
   "source": [
    "# Cross Validation w/ Balance\n",
    "\n",
    "logreg3 = LogisticRegression(solver='liblinear', penalty='l2', class_weight='balanced', C=1) # Create the classifier\n",
    "cv_scores = cross_val_score(logreg3, X_test, y_test, cv=10)\n",
    "print('CV Scores:')\n",
    "print(cv_scores)\n",
    "print()\n",
    "cv_score_avg = np.mean(cv_scores)\n",
    "print('Average k-fold CV Score: ' + str(cv_score_avg))\n",
    "print()\n"
   ]
  },
  {
   "cell_type": "markdown",
   "metadata": {},
   "source": [
    "## ROC Curve of Balanced Logistic Regression"
   ]
  },
  {
   "cell_type": "code",
   "execution_count": 10,
   "metadata": {},
   "outputs": [
    {
     "name": "stdout",
     "output_type": "stream",
     "text": [
      "ROC AUC Score: 0.8254011602202247\n",
      "\n"
     ]
    },
    {
     "data": {
      "image/png": "[encoded data removed]",
      "text/plain": [
       "<Figure size 864x864 with 1 Axes>"
      ]
     },
     "metadata": {
      "needs_background": "light"
     },
     "output_type": "display_data"
    }
   ],
   "source": [
    "# ROC Curve\n",
    "y_pred_prob = logreg_bal.predict_proba(X_test)[:,1]\n",
    "\n",
    "auc_score = roc_auc_score(y_test, y_pred_prob)\n",
    "print('ROC AUC Score: ' + str(auc_score))\n",
    "print()\n",
    "\n",
    "fpr, tpr, thresholds = roc_curve(y_test, y_pred_prob) # False Positive, True Positive, Threshold\n",
    "\n",
    "plt.figure(figsize=(12,12))\n",
    "plt.plot([0,1], [0,1], 'k--')\n",
    "plt.plot(fpr, tpr)\n",
    "plt.xlabel('False Positive Rate')\n",
    "plt.ylabel('True Positive Rate')\n",
    "plt.title('ROC Curve')\n",
    "plt.show()\n"
   ]
  },
  {
   "cell_type": "markdown",
   "metadata": {},
   "source": [
    "# k-NN"
   ]
  },
  {
   "cell_type": "markdown",
   "metadata": {},
   "source": [
    "### Finding the Best Params / Score to use results in using 5 k-fold and results in a k-NN Score of 93.4%"
   ]
  },
  {
   "cell_type": "code",
   "execution_count": 53,
   "metadata": {},
   "outputs": [
    {
     "name": "stdout",
     "output_type": "stream",
     "text": [
      "k-NN Best Params: {'n_neighbors': 10}\n",
      "k-NN Best Score: 0.933925510363098\n"
     ]
    }
   ],
   "source": [
    "\n",
    "# X_train, X_test, y_train, y_test = train_test_split(X, y, test_size=.4, random_state=50)\n",
    "\n",
    "param_grid = {'n_neighbors': np.arange(1,12)}\n",
    "\n",
    "knn = KNeighborsClassifier()\n",
    "\n",
    "knn_cv = GridSearchCV(knn, param_grid, cv=5, n_jobs=-1) # 5 Fold Cross Validation\n",
    "\n",
    "knn_cv.fit(X_train, y_train)\n",
    "\n",
    "print('k-NN Best Params: {}'.format(knn_cv.best_params_))\n",
    "print('k-NN Best Score: {}'.format(knn_cv.best_score_))\n",
    "\n",
    "knn_neighbors = knn_cv.best_params_\n"
   ]
  },
  {
   "cell_type": "markdown",
   "metadata": {},
   "source": [
    "### Use the k-NN Best n-neighbors."
   ]
  },
  {
   "cell_type": "code",
   "execution_count": 55,
   "metadata": {},
   "outputs": [
    {
     "name": "stdout",
     "output_type": "stream",
     "text": [
      "Prediction: [0 0 0 ... 0 0 0]\n",
      "k-NN Score: 0.9340980431443264\n"
     ]
    }
   ],
   "source": [
    "knn = KNeighborsClassifier(n_neighbors=knn_neighbors['n_neighbors'], weights='uniform')\n",
    "\n",
    "knn.fit(X_train, y_train)\n",
    "\n",
    "y_pred = knn.predict(X_test)\n",
    "\n",
    "print('Prediction: {}'.format(y_pred))\n",
    "print('k-NN Score: {}'.format(knn.score(X_test, y_test)))"
   ]
  },
  {
   "cell_type": "markdown",
   "metadata": {},
   "source": [
    "### The Confusion Matrix for k-NN with k=10 has the below results which look really good!\n",
    "* Accuracy was 93% (55,944 / 59,892)\n",
    "* Precision was 93%\n",
    "* Recall was 100%\n",
    "* F1 Score is 97%\n",
    "\n",
    "### But the model basically just said that all but 3 people would not default.  This does not help us since we want to identify those defaulters.  Next I will upsample the defaults.\n"
   ]
  },
  {
   "cell_type": "code",
   "execution_count": 57,
   "metadata": {},
   "outputs": [
    {
     "name": "stdout",
     "output_type": "stream",
     "text": [
      "Confusion Matrix:\n",
      "[[55944     2]\n",
      " [ 3945     1]]\n",
      "\n",
      "\n",
      "Classification Report:\n",
      "              precision    recall  f1-score   support\n",
      "\n",
      "           0       0.93      1.00      0.97     55946\n",
      "           1       0.33      0.00      0.00      3946\n",
      "\n",
      "   micro avg       0.93      0.93      0.93     59892\n",
      "   macro avg       0.63      0.50      0.48     59892\n",
      "weighted avg       0.89      0.93      0.90     59892\n",
      "\n",
      "\n",
      "Accuracy Score: 0.9340980431443264\n"
     ]
    }
   ],
   "source": [
    "print_stats(y_test, y_pred)"
   ]
  },
  {
   "cell_type": "markdown",
   "metadata": {},
   "source": [
    "### Upsampling the Defaults so that the occurence of Defaults vs. non-Defaults is 50/50."
   ]
  },
  {
   "cell_type": "code",
   "execution_count": 58,
   "metadata": {},
   "outputs": [
    {
     "name": "stderr",
     "output_type": "stream",
     "text": [
      "C:\\ProgramData\\Anaconda3\\lib\\site-packages\\ipykernel_launcher.py:4: SettingWithCopyWarning: \n",
      "A value is trying to be set on a copy of a slice from a DataFrame.\n",
      "Try using .loc[row_indexer,col_indexer] = value instead\n",
      "\n",
      "See the caveats in the documentation: http://pandas.pydata.org/pandas-docs/stable/indexing.html#indexing-view-versus-copy\n",
      "  after removing the cwd from sys.path.\n"
     ]
    }
   ],
   "source": [
    "# Split the Training and Test Sets for upsampling.\n",
    "X_train_2, X_test_2, y_train_2, y_test_2 = train_test_split(X, y, test_size=.4, random_state=50) \n",
    "\n",
    "X_train_2['serious_delinquent'] = y_train_2\n"
   ]
  },
  {
   "cell_type": "code",
   "execution_count": 60,
   "metadata": {
    "scrolled": true
   },
   "outputs": [
    {
     "name": "stdout",
     "output_type": "stream",
     "text": [
      "Number of Defaults: 5933\n",
      "Number of Non-Defaults: 83905\n",
      "Difference: 77972\n",
      "\n",
      "Number of New Defaults (resampled): 77972\n",
      "\n",
      "Count of Records after Resampling: 167810\n"
     ]
    }
   ],
   "source": [
    "# Resampling to Upsample our Defaults.\n",
    "\n",
    "from sklearn.utils import resample\n",
    "\n",
    "# Separating default and non-defaults\n",
    "df_default = X_train_2[X_train_2['serious_delinquent'] == 1] \n",
    "df_no_default = X_train_2[X_train_2['serious_delinquent'] == 0]\n",
    "\n",
    "print('Number of Defaults: {}'.format(np.ma.count(df_default['serious_delinquent'])))\n",
    "print('Number of Non-Defaults: {}'.format(np.ma.count(df_no_default['serious_delinquent'])))\n",
    "\n",
    "resample_count = np.ma.count(df_no_default['serious_delinquent']) - np.ma.count(df_default['serious_delinquent'])\n",
    "print('Difference: {}'.format(resample_count)) # This is the amount of resamples I need to make\n",
    "print()\n",
    "\n",
    "df_default_samples = resample(df_default, replace=True, n_samples=resample_count, random_state=50) # Resampling\n",
    "print('Number of New Defaults (resampled): {}'.format(np.ma.count(df_default_samples['serious_delinquent'])))\n",
    "print()\n",
    "\n",
    "df_resampled = pd.concat([df_default, df_default_samples, df_no_default]) # combine all data\n",
    "print('Count of Records after Resampling: {}'.format(np.ma.count(df_resampled['serious_delinquent'])))\n",
    "\n"
   ]
  },
  {
   "cell_type": "markdown",
   "metadata": {},
   "source": [
    "### Resampling with k=10 (best param / score).  With this method we were able to predict 1,649 out of 3,986 defaults but mislabeled 16,004 non-defaults as defaults."
   ]
  },
  {
   "cell_type": "code",
   "execution_count": 62,
   "metadata": {},
   "outputs": [
    {
     "name": "stdout",
     "output_type": "stream",
     "text": [
      "Prediction: [1 0 0 ... 1 0 0]\n",
      "k-NN Score: 0.6944333132972684\n",
      "\n",
      "Confusion Matrix:\n",
      "[[39942 16004]\n",
      " [ 2297  1649]]\n",
      "\n",
      "\n",
      "Classification Report:\n",
      "              precision    recall  f1-score   support\n",
      "\n",
      "           0       0.95      0.71      0.81     55946\n",
      "           1       0.09      0.42      0.15      3946\n",
      "\n",
      "   micro avg       0.69      0.69      0.69     59892\n",
      "   macro avg       0.52      0.57      0.48     59892\n",
      "weighted avg       0.89      0.69      0.77     59892\n",
      "\n",
      "\n",
      "Accuracy Score: 0.6944333132972684\n"
     ]
    }
   ],
   "source": [
    "\n",
    "# Resampled dependent/independent.\n",
    "X_r = df_resampled.drop(columns = ['serious_delinquent']) # ,'age_bucket_name','monthly_income_name']) # Drop columns not needed.\n",
    "y_r = df_resampled['serious_delinquent']\n",
    "\n",
    "knn = KNeighborsClassifier(n_neighbors=knn_neighbors['n_neighbors'])\n",
    "\n",
    "X_r_train, X_r_test, y_r_train, y_r_test = train_test_split(X_r, y_r, test_size=.4, random_state=50)\n",
    "\n",
    "knn.fit(X_r_train, y_r_train)\n",
    "\n",
    "##################################################\n",
    "\n",
    "# Now running on the original dataset to see what our output is.\n",
    "y_r_pred = knn.predict(X_test)  # Use the actual dataset to test\n",
    "\n",
    "print('Prediction: {}'.format(y_r_pred))\n",
    "print('k-NN Score: {}'.format(knn.score(X_test, y_test)))\n",
    "print()\n",
    "\n",
    "# Running the below doesn't really tell us much because the prediction was run on the balanced dataset.\n",
    "\n",
    "print_stats(y_test, y_r_pred)\n"
   ]
  },
  {
   "cell_type": "markdown",
   "metadata": {},
   "source": [
    "### ROC Curve results in an AUC Score of 59.7%"
   ]
  },
  {
   "cell_type": "code",
   "execution_count": 63,
   "metadata": {},
   "outputs": [
    {
     "name": "stdout",
     "output_type": "stream",
     "text": [
      "ROC AUC Score: 0.5970523509482906\n",
      "\n"
     ]
    },
    {
     "data": {
      "image/png": "[encoded data removed]",
      "text/plain": [
       "<Figure size 864x864 with 1 Axes>"
      ]
     },
     "metadata": {
      "needs_background": "light"
     },
     "output_type": "display_data"
    }
   ],
   "source": [
    "# ROC Curve\n",
    "y_r_pred_prob = knn.predict_proba(X_test)[:,1]\n",
    "\n",
    "auc_score = roc_auc_score(y_test, y_r_pred_prob)\n",
    "print('ROC AUC Score: ' + str(auc_score))\n",
    "print()\n",
    "\n",
    "fpr, tpr, thresholds = roc_curve(y_test, y_r_pred_prob) # False Positive, True Positive, Threshold\n",
    "\n",
    "plt.figure(figsize=(12,12))\n",
    "plt.plot([0,1], [0,1], 'k--')\n",
    "plt.plot(fpr, tpr)\n",
    "plt.xlabel('False Positive Rate')\n",
    "plt.ylabel('True Positive Rate')\n",
    "plt.title('ROC Curve')\n",
    "plt.show()\n"
   ]
  },
  {
   "cell_type": "code",
   "execution_count": null,
   "metadata": {
    "scrolled": true
   },
   "outputs": [],
   "source": []
  },
  {
   "cell_type": "markdown",
   "metadata": {
    "scrolled": true
   },
   "source": [
    "# Random Forests"
   ]
  },
  {
   "cell_type": "code",
   "execution_count": 64,
   "metadata": {
    "scrolled": true
   },
   "outputs": [],
   "source": [
    "###########################################################\n",
    "# RANDOM FOREST\n",
    "\n",
    "from sklearn.ensemble import RandomForestClassifier\n",
    "# from sklearn.datasets import make_classification\n",
    "\n"
   ]
  },
  {
   "cell_type": "markdown",
   "metadata": {},
   "source": [
    "### Finding the Best Features to Use results in Age (10.4%), Debt Ratio (14.7%), Monthly Income (11.6%), and Unsecured Lines (17%) being the best features."
   ]
  },
  {
   "cell_type": "code",
   "execution_count": 19,
   "metadata": {},
   "outputs": [
    {
     "name": "stdout",
     "output_type": "stream",
     "text": [
      "('age', 0.10415494783280503)\n",
      "('age_bucket', 0.031253023646079854)\n",
      "('debt_ratio', 0.14709674909171985)\n",
      "('debt_ratio_bucket', 0.027006214800039098)\n",
      "('debt_ratio_name', 0.026826965061575777)\n",
      "('monthly_income', 0.11637439653958102)\n",
      "('monthly_income_bucket', 0.031472455842119884)\n",
      "('past_due_30_59', 0.03543735229983863)\n",
      "('past_due_30_59_flag', 0.014810692978250412)\n",
      "('past_due_60_89', 0.023327999714990246)\n",
      "('past_due_60_89_flag', 0.017014642318784353)\n",
      "('past_due_90_plus', 0.052225674522146284)\n",
      "('past_due_90_plus_flag', 0.041534394540609774)\n",
      "('open_credit_lines', 0.0869968850499308)\n",
      "('unsecured_lines', 0.1705596201949941)\n",
      "('real_estate_loans', 0.032959304331599125)\n",
      "('number_of_dependents', 0.0409486812349354)\n"
     ]
    }
   ],
   "source": [
    "# Feature Importance\n",
    "\n",
    "features = X_train.keys() # Store Feature Names\n",
    "\n",
    "clf = RandomForestClassifier(n_estimators=1000,  random_state=50, n_jobs=-1) # 1000 Trees\n",
    "clf.fit(X_train, y_train)\n",
    "\n",
    "for feature in zip(features, clf.feature_importances_): # Print each feature with gini score.\n",
    "    print(feature)"
   ]
  },
  {
   "cell_type": "markdown",
   "metadata": {},
   "source": [
    "### Using all Features in the actual data set gives not so good results.  Only 733 of the 3,946 defaults were predicted."
   ]
  },
  {
   "cell_type": "code",
   "execution_count": 65,
   "metadata": {},
   "outputs": [
    {
     "name": "stdout",
     "output_type": "stream",
     "text": [
      "Confusion Matrix:\n",
      "[[55344   602]\n",
      " [ 3213   733]]\n",
      "\n",
      "\n",
      "Classification Report:\n",
      "              precision    recall  f1-score   support\n",
      "\n",
      "           0       0.95      0.99      0.97     55946\n",
      "           1       0.55      0.19      0.28      3946\n",
      "\n",
      "   micro avg       0.94      0.94      0.94     59892\n",
      "   macro avg       0.75      0.59      0.62     59892\n",
      "weighted avg       0.92      0.94      0.92     59892\n",
      "\n",
      "\n",
      "Accuracy Score: 0.93630201028518\n"
     ]
    }
   ],
   "source": [
    "# Using the actual data\n",
    "\n",
    "clf = RandomForestClassifier(n_estimators=1000,  random_state=50, n_jobs=-1) # max_depth=100,\n",
    "clf.fit(X_train, y_train)\n",
    "\n",
    "y_pred = clf.predict(X_test)\n",
    "\n",
    "print_stats(y_test, y_pred)\n"
   ]
  },
  {
   "cell_type": "markdown",
   "metadata": {},
   "source": [
    "### Using the Balanced class weight did a little worse in that it only predicted 603 out of the 3,946 defaults."
   ]
  },
  {
   "cell_type": "code",
   "execution_count": 66,
   "metadata": {
    "scrolled": true
   },
   "outputs": [
    {
     "name": "stdout",
     "output_type": "stream",
     "text": [
      "Confusion Matrix:\n",
      "[[55464   482]\n",
      " [ 3343   603]]\n",
      "\n",
      "\n",
      "Classification Report:\n",
      "              precision    recall  f1-score   support\n",
      "\n",
      "           0       0.94      0.99      0.97     55946\n",
      "           1       0.56      0.15      0.24      3946\n",
      "\n",
      "   micro avg       0.94      0.94      0.94     59892\n",
      "   macro avg       0.75      0.57      0.60     59892\n",
      "weighted avg       0.92      0.94      0.92     59892\n",
      "\n",
      "\n",
      "Accuracy Score: 0.9361350430775396\n"
     ]
    }
   ],
   "source": [
    "# Using the Actual Dataset with Class_Weight = 'balanced'\n",
    "\n",
    "clf = RandomForestClassifier(n_estimators=1000,  random_state=50, class_weight = 'balanced', n_jobs=-1) # max_depth=100,\n",
    "clf.fit(X_train, y_train)\n",
    "\n",
    "y_pred = clf.predict(X_test)\n",
    "\n",
    "print_stats(y_test, y_pred)\n"
   ]
  },
  {
   "cell_type": "markdown",
   "metadata": {},
   "source": [
    "### Instead of using the Balanced class weight parameter, I am going to use my balanced dataset where the number of default records is the same as the number of non-default records.\n",
    "### This results in what looks to be pretty decent results.  1,567 out of the 3,946 defaults were predicted and 2,248 non-defaulters were predicted to default."
   ]
  },
  {
   "cell_type": "code",
   "execution_count": 67,
   "metadata": {
    "scrolled": true
   },
   "outputs": [
    {
     "name": "stdout",
     "output_type": "stream",
     "text": [
      "Confusion Matrix:\n",
      "[[53698  2248]\n",
      " [ 2379  1567]]\n",
      "\n",
      "\n",
      "Classification Report:\n",
      "              precision    recall  f1-score   support\n",
      "\n",
      "           0       0.96      0.96      0.96     55946\n",
      "           1       0.41      0.40      0.40      3946\n",
      "\n",
      "   micro avg       0.92      0.92      0.92     59892\n",
      "   macro avg       0.68      0.68      0.68     59892\n",
      "weighted avg       0.92      0.92      0.92     59892\n",
      "\n",
      "\n",
      "Accuracy Score: 0.9227442730247779\n"
     ]
    }
   ],
   "source": [
    "# Using the Balanced Dataset\n",
    "\n",
    "clf = RandomForestClassifier(n_estimators=1000, random_state=50, n_jobs=-1) # max_depth=100,\n",
    "clf.fit(X_r_train, y_r_train)\n",
    "\n",
    "y_r_pred = clf.predict(X_test) # Use the actual dataset to test\n",
    "\n",
    "print_stats(y_test, y_r_pred)\n"
   ]
  },
  {
   "cell_type": "markdown",
   "metadata": {},
   "source": [
    "### The ROC AUC Score is 84.4."
   ]
  },
  {
   "cell_type": "code",
   "execution_count": 68,
   "metadata": {
    "scrolled": true
   },
   "outputs": [
    {
     "name": "stdout",
     "output_type": "stream",
     "text": [
      "ROC AUC Score: 0.8437428141237272\n",
      "\n"
     ]
    },
    {
     "data": {
      "image/png": "[encoded data removed]",
      "text/plain": [
       "<Figure size 864x864 with 1 Axes>"
      ]
     },
     "metadata": {
      "needs_background": "light"
     },
     "output_type": "display_data"
    }
   ],
   "source": [
    "# ROC Curve\n",
    "y_r_pred_prob = clf.predict_proba(X_test)[:,1]\n",
    "\n",
    "auc_score = roc_auc_score(y_test, y_r_pred_prob)\n",
    "print('ROC AUC Score: ' + str(auc_score))\n",
    "print()\n",
    "\n",
    "fpr, tpr, thresholds = roc_curve(y_test, y_r_pred_prob) # False Positive, True Positive, Threshold\n",
    "\n",
    "plt.figure(figsize=(12,12))\n",
    "plt.plot([0,1], [0,1], 'k--')\n",
    "plt.plot(fpr, tpr)\n",
    "plt.xlabel('False Positive Rate')\n",
    "plt.ylabel('True Positive Rate')\n",
    "plt.title('ROC Curve')\n",
    "plt.show()\n"
   ]
  },
  {
   "cell_type": "code",
   "execution_count": null,
   "metadata": {
    "scrolled": true
   },
   "outputs": [],
   "source": []
  },
  {
   "cell_type": "code",
   "execution_count": null,
   "metadata": {
    "scrolled": true
   },
   "outputs": [],
   "source": []
  },
  {
   "cell_type": "code",
   "execution_count": null,
   "metadata": {
    "scrolled": true
   },
   "outputs": [],
   "source": []
  },
  {
   "cell_type": "markdown",
   "metadata": {
    "scrolled": true
   },
   "source": [
    "# SVM"
   ]
  },
  {
   "cell_type": "markdown",
   "metadata": {},
   "source": [
    "## The SVM results were all sub-par since not many of the defaults were predicted."
   ]
  },
  {
   "cell_type": "code",
   "execution_count": 69,
   "metadata": {
    "scrolled": true
   },
   "outputs": [],
   "source": [
    "from sklearn import svm\n",
    "from sklearn.preprocessing import StandardScaler\n"
   ]
  },
  {
   "cell_type": "code",
   "execution_count": 25,
   "metadata": {},
   "outputs": [
    {
     "name": "stderr",
     "output_type": "stream",
     "text": [
      "C:\\ProgramData\\Anaconda3\\lib\\site-packages\\sklearn\\svm\\base.py:922: ConvergenceWarning: Liblinear failed to converge, increase the number of iterations.\n",
      "  \"the number of iterations.\", ConvergenceWarning)\n",
      "C:\\ProgramData\\Anaconda3\\lib\\site-packages\\sklearn\\svm\\base.py:922: ConvergenceWarning: Liblinear failed to converge, increase the number of iterations.\n",
      "  \"the number of iterations.\", ConvergenceWarning)\n"
     ]
    },
    {
     "name": "stdout",
     "output_type": "stream",
     "text": [
      "C=0.5,score=0.9360515594737193\n",
      "[[55680   266]\n",
      " [ 3564   382]]\n"
     ]
    },
    {
     "name": "stderr",
     "output_type": "stream",
     "text": [
      "C:\\ProgramData\\Anaconda3\\lib\\site-packages\\sklearn\\svm\\base.py:922: ConvergenceWarning: Liblinear failed to converge, increase the number of iterations.\n",
      "  \"the number of iterations.\", ConvergenceWarning)\n"
     ]
    },
    {
     "name": "stdout",
     "output_type": "stream",
     "text": [
      "C=1.0,score=0.9357343217792026\n",
      "[[55798   148]\n",
      " [ 3701   245]]\n"
     ]
    },
    {
     "name": "stderr",
     "output_type": "stream",
     "text": [
      "C:\\ProgramData\\Anaconda3\\lib\\site-packages\\sklearn\\svm\\base.py:922: ConvergenceWarning: Liblinear failed to converge, increase the number of iterations.\n",
      "  \"the number of iterations.\", ConvergenceWarning)\n"
     ]
    },
    {
     "name": "stdout",
     "output_type": "stream",
     "text": [
      "C=1.5,score=0.935550657850798\n",
      "[[55726   220]\n",
      " [ 3640   306]]\n"
     ]
    },
    {
     "name": "stderr",
     "output_type": "stream",
     "text": [
      "C:\\ProgramData\\Anaconda3\\lib\\site-packages\\sklearn\\svm\\base.py:922: ConvergenceWarning: Liblinear failed to converge, increase the number of iterations.\n",
      "  \"the number of iterations.\", ConvergenceWarning)\n"
     ]
    },
    {
     "name": "stdout",
     "output_type": "stream",
     "text": [
      "C=2.0,score=0.9365357643758766\n",
      "[[55774   172]\n",
      " [ 3629   317]]\n"
     ]
    },
    {
     "name": "stderr",
     "output_type": "stream",
     "text": [
      "C:\\ProgramData\\Anaconda3\\lib\\site-packages\\sklearn\\svm\\base.py:922: ConvergenceWarning: Liblinear failed to converge, increase the number of iterations.\n",
      "  \"the number of iterations.\", ConvergenceWarning)\n"
     ]
    },
    {
     "name": "stdout",
     "output_type": "stream",
     "text": [
      "C=4.0,score=0.9349662726240566\n",
      "[[55792   154]\n",
      " [ 3741   205]]\n"
     ]
    },
    {
     "name": "stderr",
     "output_type": "stream",
     "text": [
      "C:\\ProgramData\\Anaconda3\\lib\\site-packages\\sklearn\\svm\\base.py:922: ConvergenceWarning: Liblinear failed to converge, increase the number of iterations.\n",
      "  \"the number of iterations.\", ConvergenceWarning)\n"
     ]
    },
    {
     "name": "stdout",
     "output_type": "stream",
     "text": [
      "C=8.0,score=0.9359680758698992\n",
      "[[55749   197]\n",
      " [ 3638   308]]\n",
      "C=10.0,score=0.9359513791491351\n",
      "[[55743   203]\n",
      " [ 3633   313]]\n"
     ]
    },
    {
     "name": "stderr",
     "output_type": "stream",
     "text": [
      "C:\\ProgramData\\Anaconda3\\lib\\site-packages\\sklearn\\svm\\base.py:922: ConvergenceWarning: Liblinear failed to converge, increase the number of iterations.\n",
      "  \"the number of iterations.\", ConvergenceWarning)\n"
     ]
    }
   ],
   "source": [
    "\n",
    "svm_test(X_train, y_train, X_test, y_test, 5000, [.5, 1.0, 1.5, 2.0, 4.0, 8.0, 10.0])"
   ]
  },
  {
   "cell_type": "code",
   "execution_count": 26,
   "metadata": {
    "scrolled": true
   },
   "outputs": [
    {
     "name": "stdout",
     "output_type": "stream",
     "text": [
      "Confusion Matrix:\n",
      "[[53181  2765]\n",
      " [ 3518   428]]\n",
      "\n",
      "\n",
      "Classification Report:\n",
      "              precision    recall  f1-score   support\n",
      "\n",
      "           0       0.94      0.95      0.94     55946\n",
      "           1       0.13      0.11      0.12      3946\n",
      "\n",
      "   micro avg       0.90      0.90      0.90     59892\n",
      "   macro avg       0.54      0.53      0.53     59892\n",
      "weighted avg       0.88      0.90      0.89     59892\n",
      "\n",
      "\n",
      "Accuracy Score: 0.8950945034395245\n"
     ]
    },
    {
     "name": "stderr",
     "output_type": "stream",
     "text": [
      "C:\\ProgramData\\Anaconda3\\lib\\site-packages\\sklearn\\svm\\base.py:922: ConvergenceWarning: Liblinear failed to converge, increase the number of iterations.\n",
      "  \"the number of iterations.\", ConvergenceWarning)\n"
     ]
    }
   ],
   "source": [
    "linSVC = svm.LinearSVC(random_state=50,  max_iter = 1000, C=4.0) # tol=1e-5,\n",
    "linSVC.fit(X_train, y_train)\n",
    "\n",
    "y_r_pred = linSVC.predict(X_test)\n",
    "\n",
    "print_stats(y_test, y_r_pred)"
   ]
  },
  {
   "cell_type": "code",
   "execution_count": null,
   "metadata": {},
   "outputs": [],
   "source": []
  },
  {
   "cell_type": "markdown",
   "metadata": {},
   "source": [
    "# Splitting Up Data Based on Monthly Income"
   ]
  },
  {
   "cell_type": "markdown",
   "metadata": {},
   "source": [
    "### Splitting up the dataset by Monthly Income into 3 buckets.  \n",
    "* < median monthly income\n",
    "* = median monthly income (I set all NULL and 0 monthly incomes to the median value)\n",
    "* \\> median monthly income"
   ]
  },
  {
   "cell_type": "code",
   "execution_count": 80,
   "metadata": {},
   "outputs": [],
   "source": [
    "\n",
    "# Lower than Monthly Income median\n",
    "df_low = df[df['monthly_income'] < df['monthly_income'].median()].copy()\n",
    "\n",
    "X_low = df_low.drop(columns = ['serious_delinquent','age_bucket_name','monthly_income_name']) # ,'monthly_income']) # Drop columns not needed.\n",
    "y_low = df_low['serious_delinquent']\n",
    "\n",
    "# Split the Training and Test Sets\n",
    "X_low_train, X_low_test, y_low_train, y_low_test = train_test_split(X_low, y_low, test_size=.4, random_state=50) \n",
    "\n",
    "\n",
    "# Median Monthly Income median (I set all 0s to median value)\n",
    "df_med = df[df['monthly_income'] == df['monthly_income'].median()].copy()\n",
    "\n",
    "X_med = df_med.drop(columns = ['serious_delinquent','age_bucket_name','monthly_income_name']) # ,'monthly_income']) # Drop columns not needed.\n",
    "y_med = df_med['serious_delinquent']\n",
    "\n",
    "# Split the Training and Test Sets\n",
    "X_med_train, X_med_test, y_med_train, y_med_test = train_test_split(X_med, y_med, test_size=.4, random_state=50) \n",
    "\n",
    "\n",
    "# Higher (or equal to) than Monthly Income median\n",
    "df_high = df[df['monthly_income'] > df['monthly_income'].median()].copy()\n",
    "\n",
    "X_high = df_high.drop(columns = ['serious_delinquent','age_bucket_name','monthly_income_name']) # ,'monthly_income']) # Drop columns not needed.\n",
    "y_high = df_high['serious_delinquent']\n",
    "\n",
    "# Split the Training and Test Sets\n",
    "X_high_train, X_high_test, y_high_train, y_high_test = train_test_split(X_high, y_high, test_size=.4, random_state=50) \n"
   ]
  },
  {
   "cell_type": "markdown",
   "metadata": {},
   "source": [
    "## Logistic Regression"
   ]
  },
  {
   "cell_type": "markdown",
   "metadata": {},
   "source": [
    "### Splitting up the Monthly Income into the 3 buckets produced okay results for each bucket.  The predictions were about the same as using balanced Logistic Regression with the entire training dataset.\n",
    "#### Monthly Income < median\n",
    "    * Predicted 1,018 out of 1,533 defaults. (66%)\n",
    "    * Mislabeled 2,577 non-defaults as defaults. (16%)\n",
    "#### Monthly Income = median\n",
    "    * Predicted 454 out of 634 defaults. (72%)\n",
    "    * Mislabeled 1,738 non-defaults as defaults. (15%)\n",
    "#### Monthly Income > median\n",
    "    * Predicted 1,098 out of 1,680 defaults. (65%)\n",
    "    * Mislabeled 4,563 non-defaults as defaults. (16%)\n",
    "        "
   ]
  },
  {
   "cell_type": "code",
   "execution_count": 73,
   "metadata": {},
   "outputs": [
    {
     "name": "stdout",
     "output_type": "stream",
     "text": [
      "Confusion Matrix:\n",
      "[[13334  2577]\n",
      " [  515  1018]]\n",
      "\n",
      "\n",
      "Classification Report:\n",
      "              precision    recall  f1-score   support\n",
      "\n",
      "           0       0.96      0.84      0.90     15911\n",
      "           1       0.28      0.66      0.40      1533\n",
      "\n",
      "   micro avg       0.82      0.82      0.82     17444\n",
      "   macro avg       0.62      0.75      0.65     17444\n",
      "weighted avg       0.90      0.82      0.85     17444\n",
      "\n",
      "\n",
      "Accuracy Score: 0.8227470763586333\n"
     ]
    }
   ],
   "source": [
    "\n",
    "logreg_low = LogisticRegression(solver='liblinear', class_weight='balanced', C=2.0) # Create the classifier\n",
    "logreg_low.fit(X_low_train, y_low_train) # Fit the classifier to the training data\n",
    "\n",
    "y_pred_low = logreg_low.predict(X_low_test) # Predict the labels of the test set\n",
    "\n",
    "print_stats(y_low_test, y_pred_low)\n"
   ]
  },
  {
   "cell_type": "code",
   "execution_count": 74,
   "metadata": {},
   "outputs": [
    {
     "name": "stdout",
     "output_type": "stream",
     "text": [
      "Confusion Matrix:\n",
      "[[10138  1738]\n",
      " [  180   454]]\n",
      "\n",
      "\n",
      "Classification Report:\n",
      "              precision    recall  f1-score   support\n",
      "\n",
      "           0       0.98      0.85      0.91     11876\n",
      "           1       0.21      0.72      0.32       634\n",
      "\n",
      "   micro avg       0.85      0.85      0.85     12510\n",
      "   macro avg       0.59      0.78      0.62     12510\n",
      "weighted avg       0.94      0.85      0.88     12510\n",
      "\n",
      "\n",
      "Accuracy Score: 0.8466826538768985\n"
     ]
    }
   ],
   "source": [
    "\n",
    "logreg_med = LogisticRegression(solver='liblinear', class_weight='balanced', C=2.0) # Create the classifier\n",
    "logreg_med.fit(X_med_train, y_med_train) # Fit the classifier to the training data\n",
    "\n",
    "y_pred_med = logreg_med.predict(X_med_test) # Predict the labels of the test set\n",
    "\n",
    "print_stats(y_med_test, y_pred_med)\n"
   ]
  },
  {
   "cell_type": "code",
   "execution_count": 75,
   "metadata": {},
   "outputs": [
    {
     "name": "stdout",
     "output_type": "stream",
     "text": [
      "Confusion Matrix:\n",
      "[[23696  4563]\n",
      " [  582  1098]]\n",
      "\n",
      "\n",
      "Classification Report:\n",
      "              precision    recall  f1-score   support\n",
      "\n",
      "           0       0.98      0.84      0.90     28259\n",
      "           1       0.19      0.65      0.30      1680\n",
      "\n",
      "   micro avg       0.83      0.83      0.83     29939\n",
      "   macro avg       0.58      0.75      0.60     29939\n",
      "weighted avg       0.93      0.83      0.87     29939\n",
      "\n",
      "\n",
      "Accuracy Score: 0.8281505728314239\n"
     ]
    }
   ],
   "source": [
    "\n",
    "logreg_high = LogisticRegression(solver='liblinear', class_weight='balanced', C=2.0) # Create the classifier\n",
    "logreg_high.fit(X_high_train, y_high_train) # Fit the classifier to the training data\n",
    "\n",
    "y_pred_high = logreg_high.predict(X_high_test) # Predict the labels of the test set\n",
    "\n",
    "print_stats(y_high_test, y_pred_high)\n"
   ]
  },
  {
   "cell_type": "code",
   "execution_count": null,
   "metadata": {},
   "outputs": [],
   "source": []
  },
  {
   "cell_type": "code",
   "execution_count": null,
   "metadata": {},
   "outputs": [],
   "source": []
  },
  {
   "cell_type": "markdown",
   "metadata": {},
   "source": [
    "## k-NN"
   ]
  },
  {
   "cell_type": "markdown",
   "metadata": {},
   "source": [
    "### Splitting up the Monthly Income into the 3 buckets produced high accuracy but this is because there were very little defaults predicted.\n",
    "        "
   ]
  },
  {
   "cell_type": "code",
   "execution_count": 33,
   "metadata": {},
   "outputs": [
    {
     "name": "stdout",
     "output_type": "stream",
     "text": [
      "k-NN Best Params: {'n_neighbors': 8}\n",
      "k-NN Best Score: 0.9098066192769243\n"
     ]
    }
   ],
   "source": [
    "\n",
    "param_grid = {'n_neighbors': np.arange(1,12)}\n",
    "\n",
    "knn_low = KNeighborsClassifier()\n",
    "\n",
    "knn_low_cv = GridSearchCV(knn_low, param_grid, cv=5, n_jobs=-1) # 5 Fold Cross Validation\n",
    "\n",
    "knn_low_cv.fit(X_low_train, y_low_train)\n",
    "\n",
    "print('k-NN Best Params: {}'.format(knn_low_cv.best_params_))\n",
    "print('k-NN Best Score: {}'.format(knn_low_cv.best_score_))\n",
    "\n",
    "knn_neighbors_low = knn_low_cv.best_params_\n"
   ]
  },
  {
   "cell_type": "code",
   "execution_count": 78,
   "metadata": {},
   "outputs": [
    {
     "name": "stdout",
     "output_type": "stream",
     "text": [
      "Prediction: [0 0 0 ... 0 0 0]\n",
      "k-NN Score: 0.9097684017427196\n"
     ]
    }
   ],
   "source": [
    "knn_low = KNeighborsClassifier(n_neighbors=knn_neighbors_low['n_neighbors'], weights='distance', n_jobs=-1)\n",
    "\n",
    "# X_train, X_test, y_train, y_test = train_test_split(X, y, test_size=.4, random_state=50)\n",
    "\n",
    "knn_low.fit(X_low_train, y_low_train)\n",
    "\n",
    "y_pred_low = knn_low.predict(X_low_test)\n",
    "\n",
    "print('Prediction: {}'.format(y_pred_low))\n",
    "print('k-NN Score: {}'.format(knn_low.score(X_low_test, y_low_test)))"
   ]
  },
  {
   "cell_type": "code",
   "execution_count": 79,
   "metadata": {},
   "outputs": [
    {
     "name": "stdout",
     "output_type": "stream",
     "text": [
      "Confusion Matrix:\n",
      "[[15855    56]\n",
      " [ 1518    15]]\n",
      "\n",
      "\n",
      "Classification Report:\n",
      "              precision    recall  f1-score   support\n",
      "\n",
      "           0       0.91      1.00      0.95     15911\n",
      "           1       0.21      0.01      0.02      1533\n",
      "\n",
      "   micro avg       0.91      0.91      0.91     17444\n",
      "   macro avg       0.56      0.50      0.49     17444\n",
      "weighted avg       0.85      0.91      0.87     17444\n",
      "\n",
      "\n",
      "Accuracy Score: 0.9097684017427196\n"
     ]
    }
   ],
   "source": [
    "print_stats(y_low_test, y_pred_low)"
   ]
  },
  {
   "cell_type": "code",
   "execution_count": 82,
   "metadata": {},
   "outputs": [
    {
     "name": "stdout",
     "output_type": "stream",
     "text": [
      "k-NN Best Params: {'n_neighbors': 10}\n",
      "k-NN Best Score: 0.9446813046258793\n",
      "\n",
      "Prediction: [0 0 0 ... 0 0 0]\n",
      "k-NN Score: 0.9492406075139888\n",
      "\n",
      "Confusion Matrix:\n",
      "[[11874     2]\n",
      " [  633     1]]\n",
      "\n",
      "\n",
      "Classification Report:\n",
      "              precision    recall  f1-score   support\n",
      "\n",
      "           0       0.95      1.00      0.97     11876\n",
      "           1       0.33      0.00      0.00       634\n",
      "\n",
      "   micro avg       0.95      0.95      0.95     12510\n",
      "   macro avg       0.64      0.50      0.49     12510\n",
      "weighted avg       0.92      0.95      0.92     12510\n",
      "\n",
      "\n",
      "Accuracy Score: 0.9492406075139888\n"
     ]
    }
   ],
   "source": [
    "\n",
    "# X_train, X_test, y_train, y_test = train_test_split(X, y, test_size=.4, random_state=50)\n",
    "\n",
    "param_grid = {'n_neighbors': np.arange(1,12)}\n",
    "\n",
    "knn_med = KNeighborsClassifier()\n",
    "\n",
    "knn_med_cv = GridSearchCV(knn_med, param_grid, cv=5, n_jobs=-1) # 5 Fold Cross Validation\n",
    "\n",
    "knn_med_cv.fit(X_med_train, y_med_train)\n",
    "\n",
    "print('k-NN Best Params: {}'.format(knn_med_cv.best_params_))\n",
    "print('k-NN Best Score: {}'.format(knn_med_cv.best_score_))\n",
    "print()\n",
    "\n",
    "knn_neighbors_med = knn_med_cv.best_params_\n",
    "\n",
    "\n",
    "knn_med = KNeighborsClassifier(n_neighbors=knn_neighbors_med['n_neighbors'], weights='uniform')\n",
    "\n",
    "# X_train, X_test, y_train, y_test = train_test_split(X, y, test_size=.4, random_state=50)\n",
    "\n",
    "knn_med.fit(X_med_train, y_med_train)\n",
    "\n",
    "y_pred_med = knn_med.predict(X_med_test)\n",
    "\n",
    "print('Prediction: {}'.format(y_pred_med))\n",
    "print('k-NN Score: {}'.format(knn_med.score(X_med_test, y_med_test)))\n",
    "print()\n",
    "\n",
    "print_stats(y_med_test, y_pred_med)"
   ]
  },
  {
   "cell_type": "code",
   "execution_count": 83,
   "metadata": {},
   "outputs": [
    {
     "name": "stdout",
     "output_type": "stream",
     "text": [
      "k-NN Best Params: {'n_neighbors': 8}\n",
      "k-NN Best Score: 0.9413677155009241\n",
      "\n",
      "Prediction: [0 0 0 ... 0 0 0]\n",
      "k-NN Score: 0.9438859013327099\n",
      "\n",
      "Confusion Matrix:\n",
      "[[28258     1]\n",
      " [ 1679     1]]\n",
      "\n",
      "\n",
      "Classification Report:\n",
      "              precision    recall  f1-score   support\n",
      "\n",
      "           0       0.94      1.00      0.97     28259\n",
      "           1       0.50      0.00      0.00      1680\n",
      "\n",
      "   micro avg       0.94      0.94      0.94     29939\n",
      "   macro avg       0.72      0.50      0.49     29939\n",
      "weighted avg       0.92      0.94      0.92     29939\n",
      "\n",
      "\n",
      "Accuracy Score: 0.9438859013327099\n"
     ]
    }
   ],
   "source": [
    "\n",
    "\n",
    "# X_train, X_test, y_train, y_test = train_test_split(X, y, test_size=.4, random_state=50)\n",
    "\n",
    "param_grid = {'n_neighbors': np.arange(1,12)}\n",
    "\n",
    "knn_high = KNeighborsClassifier()\n",
    "\n",
    "knn_high_cv = GridSearchCV(knn_high, param_grid, cv=5, n_jobs=-1) # 5 Fold Cross Validation\n",
    "\n",
    "knn_high_cv.fit(X_high_train, y_high_train)\n",
    "\n",
    "print('k-NN Best Params: {}'.format(knn_high_cv.best_params_))\n",
    "print('k-NN Best Score: {}'.format(knn_high_cv.best_score_))\n",
    "print()\n",
    "\n",
    "knn_neighbors_high = knn_high_cv.best_params_\n",
    "\n",
    "\n",
    "knn_high = KNeighborsClassifier(n_neighbors=knn_neighbors_high['n_neighbors'], weights='uniform')\n",
    "\n",
    "knn_high.fit(X_high_train, y_high_train)\n",
    "\n",
    "y_pred_high = knn_high.predict(X_high_test)\n",
    "\n",
    "print('Prediction: {}'.format(y_pred_high))\n",
    "print('k-NN Score: {}'.format(knn_high.score(X_high_test, y_high_test)))\n",
    "print()\n",
    "\n",
    "print_stats(y_high_test, y_pred_high)"
   ]
  },
  {
   "cell_type": "code",
   "execution_count": null,
   "metadata": {},
   "outputs": [],
   "source": []
  },
  {
   "cell_type": "markdown",
   "metadata": {},
   "source": [
    "## Random Forests"
   ]
  },
  {
   "cell_type": "markdown",
   "metadata": {},
   "source": [
    "### Splitting up the Monthly Income into the 3 buckets produced okay results for each bucket.\n",
    "#### Monthly Income < median\n",
    "    * Predicted 329 out of 1,533 defaults. (21%)\n",
    "    * Mislabeled 286 non-defaults as defaults. (2%)\n",
    "#### Monthly Income = median\n",
    "    * Predicted 157 out of 634 defaults. (25%)\n",
    "    * Mislabeled 147 non-defaults as defaults. (1%)\n",
    "#### Monthly Income > median\n",
    "    * Predicted 277 out of 1,680 defaults. (16%)\n",
    "    * Mislabeled 241 non-defaults as defaults. (1%)\n",
    "        "
   ]
  },
  {
   "cell_type": "code",
   "execution_count": 84,
   "metadata": {},
   "outputs": [
    {
     "name": "stdout",
     "output_type": "stream",
     "text": [
      "Confusion Matrix:\n",
      "[[15625   286]\n",
      " [ 1204   329]]\n",
      "\n",
      "\n",
      "Classification Report:\n",
      "              precision    recall  f1-score   support\n",
      "\n",
      "           0       0.93      0.98      0.95     15911\n",
      "           1       0.53      0.21      0.31      1533\n",
      "\n",
      "   micro avg       0.91      0.91      0.91     17444\n",
      "   macro avg       0.73      0.60      0.63     17444\n",
      "weighted avg       0.89      0.91      0.90     17444\n",
      "\n",
      "\n",
      "Accuracy Score: 0.9145838110525109\n"
     ]
    }
   ],
   "source": [
    "# Using the actual data\n",
    "\n",
    "clf_low = RandomForestClassifier(n_estimators=1000,  random_state=50, n_jobs=-1) # max_depth=100,\n",
    "clf_low.fit(X_low_train, y_low_train)\n",
    "\n",
    "y_pred_low = clf_low.predict(X_low_test)\n",
    "\n",
    "print_stats(y_low_test, y_pred_low)\n",
    "# print()\n",
    "# print('Feature Scores: {}'.format(clf.feature_importances_))\n"
   ]
  },
  {
   "cell_type": "code",
   "execution_count": 39,
   "metadata": {},
   "outputs": [
    {
     "name": "stdout",
     "output_type": "stream",
     "text": [
      "Confusion Matrix:\n",
      "[[11729   147]\n",
      " [  477   157]]\n",
      "\n",
      "\n",
      "Classification Report:\n",
      "              precision    recall  f1-score   support\n",
      "\n",
      "           0       0.96      0.99      0.97     11876\n",
      "           1       0.52      0.25      0.33       634\n",
      "\n",
      "   micro avg       0.95      0.95      0.95     12510\n",
      "   macro avg       0.74      0.62      0.65     12510\n",
      "weighted avg       0.94      0.95      0.94     12510\n",
      "\n",
      "\n",
      "Accuracy Score: 0.9501199040767386\n"
     ]
    }
   ],
   "source": [
    "# Using the actual data\n",
    "\n",
    "clf_med = RandomForestClassifier(n_estimators=1000,  random_state=50, n_jobs=-1) # max_depth=100,\n",
    "clf_med.fit(X_med_train, y_med_train)\n",
    "\n",
    "y_pred_med = clf_med.predict(X_med_test)\n",
    "\n",
    "print_stats(y_med_test, y_pred_med)\n",
    "# print()\n",
    "# print('Feature Scores: {}'.format(clf.feature_importances_))\n"
   ]
  },
  {
   "cell_type": "code",
   "execution_count": 40,
   "metadata": {},
   "outputs": [
    {
     "name": "stdout",
     "output_type": "stream",
     "text": [
      "Confusion Matrix:\n",
      "[[28018   241]\n",
      " [ 1403   277]]\n",
      "\n",
      "\n",
      "Classification Report:\n",
      "              precision    recall  f1-score   support\n",
      "\n",
      "           0       0.95      0.99      0.97     28259\n",
      "           1       0.53      0.16      0.25      1680\n",
      "\n",
      "   micro avg       0.95      0.95      0.95     29939\n",
      "   macro avg       0.74      0.58      0.61     29939\n",
      "weighted avg       0.93      0.95      0.93     29939\n",
      "\n",
      "\n",
      "Accuracy Score: 0.9450883463041517\n"
     ]
    }
   ],
   "source": [
    "# Using the actual data\n",
    "# X_train, X_test, y_train, y_test = train_test_split(X, y, test_size=.4, random_state=50)\n",
    "clf_high = RandomForestClassifier(n_estimators=1000,  random_state=50, n_jobs=-1) # max_depth=100,\n",
    "clf_high.fit(X_high_train, y_high_train)\n",
    "\n",
    "y_pred_high = clf_high.predict(X_high_test)\n",
    "\n",
    "print_stats(y_high_test, y_pred_high)\n",
    "# print()\n",
    "# print('Feature Scores: {}'.format(clf.feature_importances_))\n",
    "\n",
    "\n"
   ]
  },
  {
   "cell_type": "code",
   "execution_count": null,
   "metadata": {},
   "outputs": [],
   "source": []
  },
  {
   "cell_type": "markdown",
   "metadata": {},
   "source": []
  },
  {
   "cell_type": "code",
   "execution_count": null,
   "metadata": {},
   "outputs": [],
   "source": []
  },
  {
   "cell_type": "markdown",
   "metadata": {},
   "source": [
    "## Annex"
   ]
  },
  {
   "cell_type": "code",
   "execution_count": 44,
   "metadata": {
    "scrolled": true
   },
   "outputs": [],
   "source": [
    "scaler = StandardScaler() # Standarize features\n",
    "X_std = scaler.fit_transform(X_train)\n",
    "\n",
    "svc = svm.SVC(class_weight='balanced', C=5.0, random_state=50, probability=True) # kernel='linear', \n"
   ]
  },
  {
   "cell_type": "code",
   "execution_count": 45,
   "metadata": {
    "scrolled": true
   },
   "outputs": [],
   "source": [
    "# Train classifier\n",
    "model = svc.predict(X_std, y_train)\n"
   ]
  },
  {
   "cell_type": "code",
   "execution_count": null,
   "metadata": {
    "scrolled": true
   },
   "outputs": [],
   "source": [
    "\n"
   ]
  },
  {
   "cell_type": "code",
   "execution_count": 46,
   "metadata": {
    "scrolled": true
   },
   "outputs": [],
   "source": [
    "print(svc.predict_proba(X_test))"
   ]
  },
  {
   "cell_type": "code",
   "execution_count": 47,
   "metadata": {
    "scrolled": true
   },
   "outputs": [],
   "source": [
    "print(svc.predict_log_proba(X_test))"
   ]
  },
  {
   "cell_type": "code",
   "execution_count": 48,
   "metadata": {
    "scrolled": true
   },
   "outputs": [],
   "source": [
    "print_stats(y_test, y_r_pred)"
   ]
  },
  {
   "cell_type": "code",
   "execution_count": null,
   "metadata": {
    "scrolled": true
   },
   "outputs": [],
   "source": [
    "# GridSearchCV with LogReg \n",
    "\n",
    "logreg_low = LogisticRegression(solver='liblinear', class_weight='balanced') # Create the classifier\n",
    "\n",
    "penalty = ['l1', 'l2'] # regularization penablty space\n",
    "C = (0.1, 0.5, 1.0, 2.0, 4.0, 10.0) #  np.logspace(0, 4, 10) # regularization hyperparameter space\n",
    "\n",
    "param_grid = dict(C=C, penalty=penalty)\n",
    "\n",
    "logreg_low_cv = GridSearchCV(logreg_low, param_grid, scoring='roc_auc', cv=5, n_jobs=-1) # 5 fold\n",
    "logreg_low_cv.fit(X_low_train, y_low_train) # Fit the classifier to the training data\n",
    "\n",
    "y_pred_low = logreg_low_cv.predict(X_low_test) # Predict the labels of the test set\n",
    "\n",
    "print_stats(y_low_test, y_pred_low)\n"
   ]
  },
  {
   "cell_type": "markdown",
   "metadata": {},
   "source": [
    "## SVM"
   ]
  },
  {
   "cell_type": "code",
   "execution_count": null,
   "metadata": {
    "scrolled": true
   },
   "outputs": [],
   "source": [
    "svm_test(X_low_train, y_low_train, X_low_test, y_low_test, 5000, [.5, 1.0, 1.5, 2.0, 4.0, 8.0, 10.0])\n",
    "svm_test(X_med_train, y_med_train, X_med_test, y_med_test, 5000, [.5, 1.0, 1.5, 2.0, 4.0, 8.0, 10.0])\n",
    "svm_test(X_high_train, y_high_train, X_high_test, y_high_test, 5000, [.5, 1.0, 1.5, 2.0, 4.0, 8.0, 10.0])"
   ]
  }
 ],
 "metadata": {
  "kernelspec": {
   "display_name": "Python 3",
   "language": "python",
   "name": "python3"
  },
  "language_info": {
   "codemirror_mode": {
    "name": "ipython",
    "version": 3
   },
   "file_extension": ".py",
   "mimetype": "text/x-python",
   "name": "python",
   "nbconvert_exporter": "python",
   "pygments_lexer": "ipython3",
   "version": "3.7.1"
  }
 },
 "nbformat": 4,
 "nbformat_minor": 2
}
