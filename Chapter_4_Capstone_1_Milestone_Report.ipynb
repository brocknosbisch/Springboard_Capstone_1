{
 "cells": [
  {
   "cell_type": "markdown",
   "metadata": {},
   "source": [
    "# Capstone Project 1 - Milestone Report\n",
    "## Name: Brock Nosbisch\n",
    "\n",
    "This capstone project's end goal is to output the probability that a person applying for a loan will default (\"be delinquent\").  There were several steps taken to:\n",
    "* Define the project\n",
    "* Clean the Data\n",
    "* Perform EDA \n",
    "\n",
    "My client is any bank, credit union, etc. that gives loans to individuals. Predicting whether someone will default on their loan is key to the company deciding on whether to give that loan or to raise the interest rate. You can read more on the Project Definition <a href=\"https://github.com/brocknosbisch/Springboard_Capstone_1/blob/master/Capstone_1_Proposal-Defaulting.ipynb\">here</a>.\n",
    "\n",
    "The dataset used in this project came from a <a href=\"https://www.kaggle.com/c/GiveMeSomeCredit \">Kaggle</a> competition and the dataset was manually downloaded and imported into the <a href=\"https://github.com/brocknosbisch/Springboard_Capstone_1/blob/master/Chapter_1_Capstone_1_Data_Wrangling.ipynb\">Data Wrangling</a> notebook.  Although I am using an existing Kaggle competition's dataset, the end result (or goal) of this project is a little different than the competition's.  I am emphasizing on the fact to use several algorithms (yet to be defined) and review the performance, strengths, and weaknesses of each.  \n",
    "\n",
    "The dataset was not clean so some Data Wrangling had to be performed.  I used several packages to figure out the null values, \"bad\" data, outliers, etc.  Some data was removed from the dataset, some null values set to -1, buckets/bins created for fields, etc.  More details on cleaning/wrangling the data can be found in the <a href=\"https://github.com/brocknosbisch/Springboard_Capstone_1/blob/master/Chapter_1_Capstone_1_Data_Wrangling.ipynb\">Data Wrangling</a> notebook.\n",
    "\n",
    "During EDA, several observations of interest were found.  Here are the high-level results but you can find the details <a href=\"https://github.com/brocknosbisch/Springboard_Capstone_1/blob/master/Chapter_2_Capstone_1_Data_Story.ipynb\">here</a>.\n",
    "* The younger in age you are, the higher the probability that you will be 60-89 Days Past Due, 90+ Days Past Due, and/or Serious Delinquent.\n",
    "* The 1000-2499 and 2500-4999 Monthly Income Ranges are most likely to be Past Due when compared to other income ranges.\n",
    "* The Debt Ratio quantiles show that the Past Due Bucket averages gradually increase from the 0-10% quantile, dip a little bit after the 11-20% quantile, stay flat until the 41-50% quantile, and then keep rising up to the 71-80% quantile where the average is highest.\n",
    "* The 60-89, 90+, and Serious Delinquent averages are flat after the # of Open Credit Lines reaches ~4 and above.  (Do note that any Open Credit Limits with < 500 people are excluded (# > 23))\n",
    "\n",
    "To confirm some of the above observations that may prove to be useful, I applied inferential statistics and found the correlations that are of statistical significance and a few that have practical significance.  The details of the below high-level results can be found <a href=\"https://github.com/brocknosbisch/Springboard_Capstone_1/blob/master/Chapter_3_Capstone_1_EDA.ipynb\">here</a>.\n",
    "* Past Due Buckets correlated to Serious Delinquency (Statistical and Practical Significance)\n",
    "* Monthly Income Buckets, Debt Ratio, and Open Credit Lines correlated to Serious Delinquency (Statistical Significance)\n",
    "* Past Due Buckets correlated to Age (Statistical Significance)\n",
    "\n",
    "Also, the 95% confidence interval of the dataset to be Seriously Delinquent is from 6.474% to 6.725%.\n",
    "\n",
    "Again, to summarize, you can view the details for each step here:\n",
    "* <a href=\"https://github.com/brocknosbisch/Springboard_Capstone_1/blob/master/Capstone_1_Proposal-Defaulting.ipynb\">Project Definition</a>\n",
    "* <a href=\"https://github.com/brocknosbisch/Springboard_Capstone_1/blob/master/Chapter_1_Capstone_1_Data_Wrangling.ipynb\">Data Wrangling</a>\n",
    "* <a href=\"https://github.com/brocknosbisch/Springboard_Capstone_1/blob/master/Chapter_2_Capstone_1_Data_Story.ipynb\">EDA #1 (Initial Data Story Telling)</a>\n",
    "* <a href=\"https://github.com/brocknosbisch/Springboard_Capstone_1/blob/master/Chapter_3_Capstone_1_EDA.ipynb\">EDA #2</a>\n"
   ]
  }
 ],
 "metadata": {
  "kernelspec": {
   "display_name": "Python 3",
   "language": "python",
   "name": "python3"
  },
  "language_info": {
   "codemirror_mode": {
    "name": "ipython",
    "version": 3
   },
   "file_extension": ".py",
   "mimetype": "text/x-python",
   "name": "python",
   "nbconvert_exporter": "python",
   "pygments_lexer": "ipython3",
   "version": "3.7.1"
  }
 },
 "nbformat": 4,
 "nbformat_minor": 2
}
