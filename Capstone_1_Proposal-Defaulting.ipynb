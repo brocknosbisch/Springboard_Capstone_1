{
 "cells": [
  {
   "cell_type": "code",
   "execution_count": null,
   "metadata": {},
   "outputs": [],
   "source": []
  },
  {
   "cell_type": "markdown",
   "metadata": {},
   "source": [
    "### Probability of Defaulting\n",
    "By Brock Nosbisch\n",
    "<br>\n",
    "<br>\n",
    "**What is the problem you want to solve?**\n",
    "<br>\n",
    "The problem I am trying to solve is to predict the probability of someone defaulting on payment (>90 days late).\n",
    "\n",
    "**Who is your client and why do they care about this problem? In other words, what will your client do or decide based on your analysis that they wouldn’t have done otherwise?**\n",
    "<br>\n",
    "My client is any bank, credit union, etc. that gives loans to individuals.  Predicting whether someone will default on their loan is key to the company deciding on whether to give that loan or to raise the interest rate. <br>\n",
    "This model will take an certain inputs (TBD) and output the probability that the person will be 90+ days late making a payment in the next 1 year? 2 years? <br>\n",
    "\n",
    "**What data are you using? How will you acquire the data?**\n",
    "<br>\n",
    "The data used for this project comes from an old Kaggle competition.  I will be manually downloading the file, extract the files, and then load, parse, and clean the data in python.  There are a total of 2 datasets that I will be using to train and test the model. <br><br>\n",
    "**Datasets:** <br>\n",
    "&nbsp;&nbsp;&nbsp;&nbsp;&nbsp;&nbsp;Credit Scoring: <br>\n",
    "&nbsp;&nbsp;&nbsp;&nbsp;&nbsp;&nbsp;&nbsp;&nbsp;&nbsp;&nbsp;&nbsp;&nbsp;ID <br>\n",
    "&nbsp;&nbsp;&nbsp;&nbsp;&nbsp;&nbsp;&nbsp;&nbsp;&nbsp;&nbsp;&nbsp;&nbsp;Serious Deliquent in 2 Years Flag <br>\n",
    "&nbsp;&nbsp;&nbsp;&nbsp;&nbsp;&nbsp;&nbsp;&nbsp;&nbsp;&nbsp;&nbsp;&nbsp;Utilization of Unsecured Lines <br>\n",
    "&nbsp;&nbsp;&nbsp;&nbsp;&nbsp;&nbsp;&nbsp;&nbsp;&nbsp;&nbsp;&nbsp;&nbsp;Number of Times Past Due (30-59 Days) <br>\n",
    "&nbsp;&nbsp;&nbsp;&nbsp;&nbsp;&nbsp;&nbsp;&nbsp;&nbsp;&nbsp;&nbsp;&nbsp;Debt Ratio <br>\n",
    "&nbsp;&nbsp;&nbsp;&nbsp;&nbsp;&nbsp;&nbsp;&nbsp;&nbsp;&nbsp;&nbsp;&nbsp;Monthly Income <br>\n",
    "&nbsp;&nbsp;&nbsp;&nbsp;&nbsp;&nbsp;&nbsp;&nbsp;&nbsp;&nbsp;&nbsp;&nbsp;Number of Open Loans <br>\n",
    "&nbsp;&nbsp;&nbsp;&nbsp;&nbsp;&nbsp;&nbsp;&nbsp;&nbsp;&nbsp;&nbsp;&nbsp;Number of Times Past Due (90+ Days) <br>\n",
    "&nbsp;&nbsp;&nbsp;&nbsp;&nbsp;&nbsp;&nbsp;&nbsp;&nbsp;&nbsp;&nbsp;&nbsp;Number of Real Estate Loans or Lines <br>\n",
    "&nbsp;&nbsp;&nbsp;&nbsp;&nbsp;&nbsp;&nbsp;&nbsp;&nbsp;&nbsp;&nbsp;&nbsp;Number of Times Past Due (60-89 Days) <br>\n",
    "&nbsp;&nbsp;&nbsp;&nbsp;&nbsp;&nbsp;&nbsp;&nbsp;&nbsp;&nbsp;&nbsp;&nbsp;Number of Dependents <br>\n",
    "&nbsp;&nbsp;&nbsp;&nbsp;&nbsp;&nbsp;Site: https://www.kaggle.com/c/GiveMeSomeCredit\n",
    "<br>\n",
    "&nbsp;&nbsp;&nbsp;&nbsp;&nbsp;&nbsp;Files: cs-training.csv, cs-test.csv, sampleEntry.csv\n",
    "\n",
    "\n",
    "\n",
    "**Briefly outline how you’ll solve this problem. Your approach may change later, but this is a good first step to get you thinking about a method and solution.**\n",
    "<br>\n",
    "I will first download all file and extract the zip file.  I will then do Data Wrangling, EDA, and test different machine learning algorithms to calculate the probability of each person being 90+ Days Late in the next 1 year and 2 years. \n",
    "\n",
    "**What are your deliverables? Typically, this includes code, a paper, or a slide deck.**\n",
    "<br>\n",
    "My deliverables will be a jupyter notebook and slide deck that will be published to my github account.  I will include all my findings and all documented python code.\n",
    "\n",
    "\n"
   ]
  },
  {
   "cell_type": "code",
   "execution_count": null,
   "metadata": {},
   "outputs": [],
   "source": []
  },
  {
   "cell_type": "code",
   "execution_count": null,
   "metadata": {},
   "outputs": [],
   "source": []
  }
 ],
 "metadata": {
  "kernelspec": {
   "display_name": "Python 3",
   "language": "python",
   "name": "python3"
  },
  "language_info": {
   "codemirror_mode": {
    "name": "ipython",
    "version": 3
   },
   "file_extension": ".py",
   "mimetype": "text/x-python",
   "name": "python",
   "nbconvert_exporter": "python",
   "pygments_lexer": "ipython3",
   "version": "3.7.1"
  }
 },
 "nbformat": 4,
 "nbformat_minor": 2
}
