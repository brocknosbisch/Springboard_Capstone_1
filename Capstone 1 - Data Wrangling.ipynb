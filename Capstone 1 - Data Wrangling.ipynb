{
 "cells": [
  {
   "cell_type": "markdown",
   "metadata": {},
   "source": [
    "# Capstone Project 1 - Data Wrangling\n",
    "## Name: Brock Nosbisch\n",
    "\n",
    "#### Summary:\n",
    "The below code imports the pandas, numpy, and matplotlib.pyplot and then reads in a file named \"cs-training.csv\".  I then set the index and reordered the columns so that it is easier to see the correlations in a table format.  Two functions (one for min/max values and one for most/least common values) were created so that they can be used when reviewing the data values.  Then I reviewed the DataFrame and each field/column individually and made notes on if there appeared to be any NULL values, \"bad\" data, outliers, etc.  \n",
    "After reviewing the data, I started cleaning the data by first removing the record where the Age was 0.  This was only a single record in the dataset.  Then I had originally removed all records where Monthly Income was NULL but I am now including this set of records in the dataset.  I also removed the records that had 96 or 98 in the past due columns.  NULL Monthly Incomes are set to -1.  Next I updated all \"Number of Dependents\" values to -1 where the value was NULL.  I want to review the correlation of the Nulls and 96/98 values to the other data to see if I see trends before deciding what to do with the data.  I also added a new column to store Monthly Incomes by bucket/bin and converted any datatypes that were wrong.\n",
    "\n"
   ]
  },
  {
   "cell_type": "markdown",
   "metadata": {},
   "source": [
    "# Load Data"
   ]
  },
  {
   "cell_type": "code",
   "execution_count": 1,
   "metadata": {},
   "outputs": [],
   "source": [
    "import pandas as pd\n",
    "import numpy as np\n",
    "import matplotlib.pyplot as plt\n",
    "\n",
    "file_name = 'cs-training.csv'\n",
    "col_names = ['id', 'serious_delinquent', 'unsecured_lines', 'age', 'past_due_30_59', 'debt_ratio', 'monthly_income', \n",
    "            'open_credit_lines', 'past_due_90_plus', 'real_estate_loans', 'past_due_60_89', 'number_of_dependents']\n",
    "\n",
    "# Read in the file with new column names.\n",
    "df = pd.read_csv(file_name, header=0, names=col_names, na_values='-1')\n",
    "df.set_index('id', inplace=True)\n",
    "\n",
    "# Reorder columns\n",
    "new_col_ordering = [ 'age', 'debt_ratio', 'monthly_income', \n",
    "            'open_credit_lines', 'past_due_30_59', 'past_due_60_89', 'past_due_90_plus', 'serious_delinquent',\n",
    "             'unsecured_lines', 'real_estate_loans', 'number_of_dependents']\n",
    "df = df[new_col_ordering]\n",
    "\n",
    "# Define functions where I am repeating the same processes\n"
   ]
  },
  {
   "cell_type": "code",
   "execution_count": 2,
   "metadata": {},
   "outputs": [],
   "source": [
    "\n",
    "# Function: print_counts\n",
    "# Description: This function returns the Least Frequent and Most Frequent values of the field passed in.\n",
    "#              We have hardcoded the df DataFrame.\n",
    "# Valid values for parameters:\n",
    "# dataframe = DataFrame\n",
    "# field_name = name of field in the DF dataframe.\n",
    "# sorting = asc or desc\n",
    "# num = The number of records you want returned.\n",
    "def print_counts(dataframe, field_name, sorting = 'asc', num = '5'):\n",
    "    \n",
    "    if sorting == 'asc':\n",
    "        tmpSort = True\n",
    "    else:\n",
    "        tmpSort = False\n",
    "        \n",
    "    #20190305 - tmp = 'df[\\'' + field_name + '\\'].value_counts(ascending=' + tmpSort + ').head(' + num + ')'\n",
    "    print(dataframe[field_name].value_counts(ascending=tmpSort).head(int(num)))\n",
    "    \n",
    "    return None\n",
    "\n",
    "# eval(print_counts('serious_delinquent', 'asc', '5'))"
   ]
  },
  {
   "cell_type": "code",
   "execution_count": 3,
   "metadata": {},
   "outputs": [],
   "source": [
    "\n",
    "# Function: print_min_max\n",
    "# Description: This function returns the Minimum or Maximum values of the field passed in.\n",
    "#              We have hardcoded the df DataFrame.\n",
    "# Valid values for parameters:\n",
    "# dataframe = DataFrame\n",
    "# field_name = name of field in the DF dataframe.\n",
    "# min_max = min or max\n",
    "# num = The number of records you want returned.\n",
    "def print_min_max(dataframe, field_name, min_max = 'max', num = '5'):\n",
    "    \n",
    "    if min_max == 'max':\n",
    "        tmpMinMax = False\n",
    "    else:\n",
    "        tmpMinMax = True\n",
    "        \n",
    "    #20190305 - tmp = 'df[\\'' + field_name + '\\'].value_counts().to_frame().reset_index().sort_values(\\'index\\', ascending=' + tmpMinMax + ').head(' + num + ')'\n",
    "    print(dataframe[field_name].value_counts().to_frame().reset_index().sort_values('index', ascending=tmpMinMax).head(int(num)))\n",
    "    \n",
    "    return None\n",
    "    \n",
    "# eval(print_min_max('unsecured_lines', 'min', '5'))"
   ]
  },
  {
   "cell_type": "code",
   "execution_count": 4,
   "metadata": {},
   "outputs": [],
   "source": [
    "# Function: add_value_labels\n",
    "# Description: Creates labels for each bar in a bar graph\n",
    "# Valid values for parameters:\n",
    "# ax = pass your dataframe\n",
    "# spacing = the space between the label and bar graph\n",
    "def add_value_labels(ax, spacing=5):\n",
    "\n",
    "    for rect in ax.patches:\n",
    "        y_value = rect.get_height()\n",
    "        x_value = rect.get_x() + rect.get_width() / 2\n",
    "\n",
    "        space = spacing\n",
    "        va = 'bottom'\n",
    "\n",
    "        if y_value < 0:\n",
    "            space *= -1\n",
    "            # Vertical alignment\n",
    "            va = 'top'\n",
    "\n",
    "        label = \"{:}\".format(y_value)  # Use :.1f if wanting decimals.\n",
    "\n",
    "        # Create annotation\n",
    "        ax.annotate(label, (x_value, y_value), xytext=(0, space), textcoords=\"offset points\", ha='center', va=va) "
   ]
  },
  {
   "cell_type": "markdown",
   "metadata": {},
   "source": [
    "# Review DataFrame Details\n",
    "\n",
    "\n",
    "A few initial findings:  \n",
    "* 2 of the fields contain null values.\n",
    "* The minimum age is 0.\n",
    "* The past due maximum values seem off since the dataset is only for 24 months."
   ]
  },
  {
   "cell_type": "code",
   "execution_count": 5,
   "metadata": {},
   "outputs": [
    {
     "name": "stdout",
     "output_type": "stream",
     "text": [
      "<class 'pandas.core.frame.DataFrame'>\n",
      "Int64Index: 150000 entries, 1 to 150000\n",
      "Data columns (total 11 columns):\n",
      "age                     150000 non-null int64\n",
      "debt_ratio              150000 non-null float64\n",
      "monthly_income          120269 non-null float64\n",
      "open_credit_lines       150000 non-null int64\n",
      "past_due_30_59          150000 non-null int64\n",
      "past_due_60_89          150000 non-null int64\n",
      "past_due_90_plus        150000 non-null int64\n",
      "serious_delinquent      150000 non-null int64\n",
      "unsecured_lines         150000 non-null float64\n",
      "real_estate_loans       150000 non-null int64\n",
      "number_of_dependents    146076 non-null float64\n",
      "dtypes: float64(4), int64(7)\n",
      "memory usage: 13.7 MB\n",
      "\n",
      "\n",
      "                 age     debt_ratio  monthly_income  open_credit_lines  \\\n",
      "count  150000.000000  150000.000000    1.202690e+05      150000.000000   \n",
      "mean       52.295207     353.005076    6.670221e+03           8.452760   \n",
      "std        14.771866    2037.818523    1.438467e+04           5.145951   \n",
      "min         0.000000       0.000000    0.000000e+00           0.000000   \n",
      "25%        41.000000       0.175074    3.400000e+03           5.000000   \n",
      "50%        52.000000       0.366508    5.400000e+03           8.000000   \n",
      "75%        63.000000       0.868254    8.249000e+03          11.000000   \n",
      "max       109.000000  329664.000000    3.008750e+06          58.000000   \n",
      "\n",
      "       past_due_30_59  past_due_60_89  past_due_90_plus  serious_delinquent  \\\n",
      "count   150000.000000   150000.000000     150000.000000       150000.000000   \n",
      "mean         0.421033        0.240387          0.265973            0.066840   \n",
      "std          4.192781        4.155179          4.169304            0.249746   \n",
      "min          0.000000        0.000000          0.000000            0.000000   \n",
      "25%          0.000000        0.000000          0.000000            0.000000   \n",
      "50%          0.000000        0.000000          0.000000            0.000000   \n",
      "75%          0.000000        0.000000          0.000000            0.000000   \n",
      "max         98.000000       98.000000         98.000000            1.000000   \n",
      "\n",
      "       unsecured_lines  real_estate_loans  number_of_dependents  \n",
      "count    150000.000000      150000.000000         146076.000000  \n",
      "mean          6.048438           1.018240              0.757222  \n",
      "std         249.755371           1.129771              1.115086  \n",
      "min           0.000000           0.000000              0.000000  \n",
      "25%           0.029867           0.000000              0.000000  \n",
      "50%           0.154181           1.000000              0.000000  \n",
      "75%           0.559046           2.000000              1.000000  \n",
      "max       50708.000000          54.000000             20.000000  \n",
      "    age   debt_ratio  monthly_income  open_credit_lines  past_due_30_59  \\\n",
      "id                                                                        \n",
      "1    45     0.802982          9120.0                 13               2   \n",
      "2    40     0.121876          2600.0                  4               0   \n",
      "3    38     0.085113          3042.0                  2               1   \n",
      "4    30     0.036050          3300.0                  5               0   \n",
      "5    49     0.024926         63588.0                  7               1   \n",
      "6    74     0.375607          3500.0                  3               0   \n",
      "7    57  5710.000000             NaN                  8               0   \n",
      "8    39     0.209940          3500.0                  8               0   \n",
      "9    27    46.000000             NaN                  2               0   \n",
      "10   57     0.606291         23684.0                  9               0   \n",
      "11   30     0.309476          2500.0                  5               0   \n",
      "12   51     0.531529          6501.0                  7               0   \n",
      "13   46     0.298354         12454.0                 13               0   \n",
      "14   40     0.382965         13700.0                  9               3   \n",
      "15   76   477.000000             0.0                  6               0   \n",
      "\n",
      "    past_due_60_89  past_due_90_plus  serious_delinquent  unsecured_lines  \\\n",
      "id                                                                          \n",
      "1                0                 0                   1         0.766127   \n",
      "2                0                 0                   0         0.957151   \n",
      "3                0                 1                   0         0.658180   \n",
      "4                0                 0                   0         0.233810   \n",
      "5                0                 0                   0         0.907239   \n",
      "6                0                 0                   0         0.213179   \n",
      "7                0                 0                   0         0.305682   \n",
      "8                0                 0                   0         0.754464   \n",
      "9                0                 0                   0         0.116951   \n",
      "10               0                 0                   0         0.189169   \n",
      "11               0                 0                   0         0.644226   \n",
      "12               0                 0                   0         0.018798   \n",
      "13               0                 0                   0         0.010352   \n",
      "14               1                 3                   1         0.964673   \n",
      "15               0                 0                   0         0.019657   \n",
      "\n",
      "    real_estate_loans  number_of_dependents  \n",
      "id                                           \n",
      "1                   6                   2.0  \n",
      "2                   0                   1.0  \n",
      "3                   0                   0.0  \n",
      "4                   0                   0.0  \n",
      "5                   1                   0.0  \n",
      "6                   1                   1.0  \n",
      "7                   3                   0.0  \n",
      "8                   0                   0.0  \n",
      "9                   0                   NaN  \n",
      "10                  4                   2.0  \n",
      "11                  0                   0.0  \n",
      "12                  2                   2.0  \n",
      "13                  2                   2.0  \n",
      "14                  1                   2.0  \n",
      "15                  1                   0.0  \n"
     ]
    }
   ],
   "source": [
    "df.info()\n",
    "print('')\n",
    "print('')\n",
    "\n",
    "print(df.describe())\n",
    "print(df.head(15))"
   ]
  },
  {
   "cell_type": "markdown",
   "metadata": {},
   "source": [
    "## Person experienced 90 days past due delinquency or worse \n",
    " There are only 2 distinct values and both are valid."
   ]
  },
  {
   "cell_type": "code",
   "execution_count": 6,
   "metadata": {},
   "outputs": [
    {
     "name": "stdout",
     "output_type": "stream",
     "text": [
      "All Values\n",
      "0    139974\n",
      "1     10026\n",
      "Name: serious_delinquent, dtype: int64\n"
     ]
    }
   ],
   "source": [
    "print('All Values')\n",
    "print_counts(df, 'serious_delinquent', 'desc', '5')"
   ]
  },
  {
   "cell_type": "markdown",
   "metadata": {},
   "source": [
    "## Total balance on credit cards and personal lines of credit except real estate and no installment debt like car loans divided by the sum of credit limits.\n",
    "The higher the amount, the worse a person is."
   ]
  },
  {
   "cell_type": "code",
   "execution_count": 7,
   "metadata": {},
   "outputs": [
    {
     "name": "stdout",
     "output_type": "stream",
     "text": [
      "Maximum 5 Values\n",
      "          index  unsecured_lines\n",
      "38807   50708.0                1\n",
      "107425  29110.0                1\n",
      "112115  22198.0                1\n",
      "113030  22000.0                1\n",
      "106240  20514.0                1\n"
     ]
    }
   ],
   "source": [
    "print('Maximum 5 Values')\n",
    "print_min_max(df, 'unsecured_lines', 'max', '5')"
   ]
  },
  {
   "cell_type": "code",
   "execution_count": 8,
   "metadata": {},
   "outputs": [
    {
     "name": "stdout",
     "output_type": "stream",
     "text": [
      "Minimum 5 Values\n",
      "           index  unsecured_lines\n",
      "0       0.000000            10878\n",
      "108764  0.000008                1\n",
      "108487  0.000010                1\n",
      "91171   0.000013                1\n",
      "104642  0.000014                1\n"
     ]
    }
   ],
   "source": [
    "print('Minimum 5 Values')\n",
    "print_min_max(df, 'unsecured_lines', 'min', '5')"
   ]
  },
  {
   "cell_type": "markdown",
   "metadata": {},
   "source": [
    "## Age of borrower in years"
   ]
  },
  {
   "cell_type": "code",
   "execution_count": 9,
   "metadata": {},
   "outputs": [
    {
     "name": "stdout",
     "output_type": "stream",
     "text": [
      "Youngest\n",
      "*The person with an Age of 0 must be bad data.  Will need to exclude this person\n",
      "    index  age\n",
      "85      0    1\n",
      "69     21  183\n",
      "63     22  434\n",
      "59     23  641\n",
      "56     24  816\n"
     ]
    }
   ],
   "source": [
    "print('Youngest')\n",
    "print('*The person with an Age of 0 must be bad data.  Will need to exclude this person')\n",
    "\n",
    "print_min_max(df, 'age', 'min', '5')"
   ]
  },
  {
   "cell_type": "code",
   "execution_count": 10,
   "metadata": {},
   "outputs": [
    {
     "name": "stdout",
     "output_type": "stream",
     "text": [
      "Oldest\n",
      "    index  age\n",
      "82    109    2\n",
      "83    107    1\n",
      "84    105    1\n",
      "79    103    3\n",
      "80    102    3\n"
     ]
    }
   ],
   "source": [
    "print('Oldest')\n",
    "print_min_max(df, 'age', 'max', '5')"
   ]
  },
  {
   "cell_type": "markdown",
   "metadata": {},
   "source": [
    "## Number of times borrower has been 30-59 days past due but no worse in the last 2 years.\n",
    "Need to clean up data for borrowers with 90+ times."
   ]
  },
  {
   "cell_type": "code",
   "execution_count": 11,
   "metadata": {},
   "outputs": [
    {
     "name": "stdout",
     "output_type": "stream",
     "text": [
      "    index  past_due_30_59\n",
      "6      98             264\n",
      "11     96               5\n",
      "14     13               1\n",
      "13     12               2\n",
      "15     11               1\n",
      "12     10               4\n",
      "10      9              12\n",
      "9       8              25\n",
      "8       7              54\n",
      "7       6             140\n",
      "5       5             342\n",
      "4       4             747\n",
      "3       3            1754\n",
      "2       2            4598\n",
      "1       1           16033\n",
      "0       0          126018\n"
     ]
    }
   ],
   "source": [
    "print_min_max(df, 'past_due_30_59', 'max', '25')"
   ]
  },
  {
   "cell_type": "markdown",
   "metadata": {},
   "source": [
    "## Monthly debt payments, alimony, living costs divided by monthy gross income\n",
    "There are a lot of high Debt Ratios because we do not have Monthly Income data.\n",
    "Looking at both the Top/Bottom Counts and Maximum/Minimum Values.\n",
    "\n",
    "Need to figure out what to exclude."
   ]
  },
  {
   "cell_type": "code",
   "execution_count": 12,
   "metadata": {},
   "outputs": [
    {
     "name": "stdout",
     "output_type": "stream",
     "text": [
      "Top 5 Counts\n",
      "0.0    4113\n",
      "1.0     229\n",
      "4.0     174\n",
      "2.0     170\n",
      "3.0     162\n",
      "Name: debt_ratio, dtype: int64\n"
     ]
    }
   ],
   "source": [
    "print('Top 5 Counts')\n",
    "print_counts(df, 'debt_ratio', 'desc', '5')"
   ]
  },
  {
   "cell_type": "code",
   "execution_count": 13,
   "metadata": {},
   "outputs": [
    {
     "name": "stdout",
     "output_type": "stream",
     "text": [
      "Bottom 5 Counts\n",
      "0.656276    1\n",
      "0.457568    1\n",
      "0.755290    1\n",
      "0.037634    1\n",
      "0.367271    1\n",
      "Name: debt_ratio, dtype: int64\n"
     ]
    }
   ],
   "source": [
    "print('Bottom 5 Counts')\n",
    "print_counts(df, 'debt_ratio', 'asc', '5')"
   ]
  },
  {
   "cell_type": "code",
   "execution_count": 14,
   "metadata": {},
   "outputs": [
    {
     "name": "stdout",
     "output_type": "stream",
     "text": [
      "Maximum 5 Values\n",
      "          index  debt_ratio\n",
      "65434  329664.0           1\n",
      "94692  326442.0           1\n",
      "30212  307001.0           1\n",
      "32221  220516.0           1\n",
      "93903  168835.0           1\n"
     ]
    }
   ],
   "source": [
    "print('Maximum 5 Values')\n",
    "print_min_max(df, 'debt_ratio', 'max', '5')"
   ]
  },
  {
   "cell_type": "code",
   "execution_count": 15,
   "metadata": {},
   "outputs": [
    {
     "name": "stdout",
     "output_type": "stream",
     "text": [
      "Minimum 5 Values\n",
      "           index  debt_ratio\n",
      "0       0.000000        4113\n",
      "73558   0.000026           1\n",
      "106536  0.000037           1\n",
      "79450   0.000039           1\n",
      "106251  0.000066           1\n"
     ]
    }
   ],
   "source": [
    "print('Minimum 5 Values')\n",
    "print_min_max(df, 'debt_ratio', 'min', '5')"
   ]
  },
  {
   "cell_type": "markdown",
   "metadata": {},
   "source": [
    "## Monthly Income"
   ]
  },
  {
   "cell_type": "code",
   "execution_count": 16,
   "metadata": {},
   "outputs": [
    {
     "name": "stdout",
     "output_type": "stream",
     "text": [
      "As seen in df.info, confirming there are null values.\n",
      "id\n",
      "7    NaN\n",
      "9    NaN\n",
      "17   NaN\n",
      "33   NaN\n",
      "42   NaN\n",
      "Name: monthly_income, dtype: float64\n"
     ]
    }
   ],
   "source": [
    "print('As seen in df.info, confirming there are null values.')\n",
    "print(df['monthly_income'][df['monthly_income'].isna()].head(5))\n",
    "\n"
   ]
  },
  {
   "cell_type": "code",
   "execution_count": 17,
   "metadata": {},
   "outputs": [
    {
     "name": "stdout",
     "output_type": "stream",
     "text": [
      "Top 5 Counts\n",
      "5000.0    2757\n",
      "4000.0    2106\n",
      "6000.0    1934\n",
      "3000.0    1758\n",
      "0.0       1634\n",
      "Name: monthly_income, dtype: int64\n"
     ]
    }
   ],
   "source": [
    "print('Top 5 Counts')\n",
    "print_counts(df, 'monthly_income', 'desc', '5')"
   ]
  },
  {
   "cell_type": "code",
   "execution_count": 18,
   "metadata": {},
   "outputs": [
    {
     "name": "stdout",
     "output_type": "stream",
     "text": [
      "Bottom 5 Counts\n",
      "1037.0     1\n",
      "13023.0    1\n",
      "14210.0    1\n",
      "10113.0    1\n",
      "3847.0     1\n",
      "Name: monthly_income, dtype: int64\n"
     ]
    }
   ],
   "source": [
    "print('Bottom 5 Counts')\n",
    "print_counts(df, 'monthly_income', 'asc', '5')"
   ]
  },
  {
   "cell_type": "code",
   "execution_count": 19,
   "metadata": {},
   "outputs": [
    {
     "name": "stdout",
     "output_type": "stream",
     "text": [
      "Maximum 10 Values\n",
      "           index  monthly_income\n",
      "11964  3008750.0               1\n",
      "13361  1794060.0               1\n",
      "11439  1560100.0               1\n",
      "9858   1072500.0               1\n",
      "10384   835040.0               1\n",
      "10707   730483.0               1\n",
      "11091   702500.0               1\n",
      "11045   699530.0               1\n",
      "13427   649587.0               1\n",
      "12264   629000.0               1\n"
     ]
    }
   ],
   "source": [
    "print('Maximum 10 Values')\n",
    "print_min_max(df, 'monthly_income', 'max', '10')"
   ]
  },
  {
   "cell_type": "code",
   "execution_count": 20,
   "metadata": {},
   "outputs": [
    {
     "name": "stdout",
     "output_type": "stream",
     "text": [
      "Minimum 10 Values\n",
      "       index  monthly_income\n",
      "4        0.0            1634\n",
      "17       1.0             605\n",
      "2523     2.0               6\n",
      "7580     4.0               2\n",
      "8769     5.0               2\n",
      "12364    7.0               1\n",
      "12139    9.0               1\n",
      "7354    10.0               2\n",
      "12023   11.0               1\n",
      "11317   15.0               1\n"
     ]
    }
   ],
   "source": [
    "print('Minimum 10 Values')\n",
    "print_min_max(df, 'monthly_income', 'min', '10')"
   ]
  },
  {
   "cell_type": "code",
   "execution_count": 21,
   "metadata": {},
   "outputs": [
    {
     "name": "stdout",
     "output_type": "stream",
     "text": [
      "STD, MEAN, MEDIAN\n",
      "14384.674215282244\n",
      "6670.221237392844\n",
      "5400.0\n"
     ]
    }
   ],
   "source": [
    "print('STD, MEAN, MEDIAN')\n",
    "print(df['monthly_income'].std())\n",
    "print(df['monthly_income'].mean())\n",
    "print(df['monthly_income'].median())"
   ]
  },
  {
   "cell_type": "code",
   "execution_count": 22,
   "metadata": {},
   "outputs": [
    {
     "name": "stdout",
     "output_type": "stream",
     "text": [
      "Review Monthly Income in Histogram\n",
      "\n",
      "Look at high values because they are causing severe outliers.\n",
      "My initial thinking is that we can exclude all with a high income.\n"
     ]
    },
    {
     "data": {
      "image/png": "[encoded data removed]",
      "text/plain": [
       "<Figure size 432x288 with 1 Axes>"
      ]
     },
     "metadata": {
      "needs_background": "light"
     },
     "output_type": "display_data"
    },
    {
     "name": "stdout",
     "output_type": "stream",
     "text": [
      "\n",
      "Plot only values < 50000 into bins of 30\n",
      "I chose other values as well but 50k seems okay.\n"
     ]
    },
    {
     "data": {
      "image/png": "[encoded data removed]",
      "text/plain": [
       "<Figure size 432x288 with 1 Axes>"
      ]
     },
     "metadata": {
      "needs_background": "light"
     },
     "output_type": "display_data"
    },
    {
     "name": "stdout",
     "output_type": "stream",
     "text": [
      "\n",
      "Plot only values < 50000 into bins of 100\n",
      "I chose other values as well but 50k seems okay.\n"
     ]
    },
    {
     "data": {
      "image/png": "[encoded data removed]",
      "text/plain": [
       "<Figure size 432x288 with 1 Axes>"
      ]
     },
     "metadata": {
      "needs_background": "light"
     },
     "output_type": "display_data"
    },
    {
     "name": "stdout",
     "output_type": "stream",
     "text": [
      "\n",
      "Box Plot for < 50000\n"
     ]
    },
    {
     "data": {
      "image/png": "[encoded data removed]",
      "text/plain": [
       "<Figure size 432x288 with 1 Axes>"
      ]
     },
     "metadata": {
      "needs_background": "light"
     },
     "output_type": "display_data"
    }
   ],
   "source": [
    "\n",
    "print('Review Monthly Income in Histogram')\n",
    "df['monthly_income'][df['monthly_income']].plot(kind='hist', bins=30)\n",
    "\n",
    "print('')\n",
    "print('Look at high values because they are causing severe outliers.')\n",
    "print('My initial thinking is that we can exclude all with a high income.')\n",
    "plt.show()\n",
    "print('')\n",
    "print('Plot only values < 50000 into bins of 30')\n",
    "print('I chose other values as well but 50k seems okay.')\n",
    "df['monthly_income'][df['monthly_income'] < 50000].plot(kind='hist', bins=30)\n",
    "plt.show()\n",
    "\n",
    "print('')\n",
    "print('Plot only values < 50000 into bins of 100')\n",
    "print('I chose other values as well but 50k seems okay.')\n",
    "df['monthly_income'][df['monthly_income'] < 50000].reindex().plot(kind='hist', bins=100)\n",
    "plt.show()\n",
    "\n",
    "print('')\n",
    "print('Box Plot for < 50000')\n",
    "df['monthly_income'][df['monthly_income'] < 50000].plot(kind='box')\n",
    "plt.show()\n",
    "\n"
   ]
  },
  {
   "cell_type": "markdown",
   "metadata": {},
   "source": [
    "## Number of Open loans (installment like car loan or mortgage) and Lines of credit (e.g. credit cards)"
   ]
  },
  {
   "cell_type": "code",
   "execution_count": 23,
   "metadata": {},
   "outputs": [
    {
     "name": "stdout",
     "output_type": "stream",
     "text": [
      "Top 5 Counts\n",
      "6    13614\n",
      "7    13245\n",
      "5    12931\n",
      "8    12562\n",
      "4    11609\n",
      "Name: open_credit_lines, dtype: int64\n"
     ]
    }
   ],
   "source": [
    "print('Top 5 Counts')\n",
    "print_counts(df, 'open_credit_lines', 'desc', '5')"
   ]
  },
  {
   "cell_type": "code",
   "execution_count": 24,
   "metadata": {},
   "outputs": [
    {
     "name": "stdout",
     "output_type": "stream",
     "text": [
      "Bottom 5 Counts\n",
      "58    1\n",
      "53    1\n",
      "44    2\n",
      "47    2\n",
      "50    2\n",
      "Name: open_credit_lines, dtype: int64\n"
     ]
    }
   ],
   "source": [
    "print('Bottom 5 Counts')\n",
    "print_counts(df, 'open_credit_lines', 'asc', '5')"
   ]
  },
  {
   "cell_type": "code",
   "execution_count": 25,
   "metadata": {},
   "outputs": [
    {
     "name": "stdout",
     "output_type": "stream",
     "text": [
      "Maximum 10 Values\n",
      "    index  open_credit_lines\n",
      "57     58                  1\n",
      "52     57                  2\n",
      "51     56                  2\n",
      "46     54                  4\n",
      "56     53                  1\n",
      "49     52                  3\n",
      "50     51                  2\n",
      "53     50                  2\n",
      "47     49                  4\n",
      "44     48                  6\n"
     ]
    }
   ],
   "source": [
    "print('Maximum 10 Values')\n",
    "print_min_max(df, 'open_credit_lines', 'max', '10')"
   ]
  },
  {
   "cell_type": "code",
   "execution_count": 26,
   "metadata": {},
   "outputs": [
    {
     "name": "stdout",
     "output_type": "stream",
     "text": [
      "Minimum 10 Values\n",
      "    index  open_credit_lines\n",
      "17      0               1888\n",
      "13      1               4438\n",
      "10      2               6666\n",
      "7       3               9058\n",
      "4       4              11609\n",
      "2       5              12931\n",
      "0       6              13614\n",
      "1       7              13245\n",
      "3       8              12562\n",
      "5       9              11355\n"
     ]
    }
   ],
   "source": [
    "print('Minimum 10 Values')\n",
    "print_min_max(df, 'open_credit_lines', 'min', '10')"
   ]
  },
  {
   "cell_type": "markdown",
   "metadata": {},
   "source": [
    "## Number of times borrower has been 90 days or more past due."
   ]
  },
  {
   "cell_type": "code",
   "execution_count": 27,
   "metadata": {},
   "outputs": [
    {
     "name": "stdout",
     "output_type": "stream",
     "text": [
      "Top 5 Counts\n",
      "0    141662\n",
      "1      5243\n",
      "2      1555\n",
      "3       667\n",
      "4       291\n",
      "Name: past_due_90_plus, dtype: int64\n"
     ]
    }
   ],
   "source": [
    "print('Top 5 Counts')\n",
    "print_counts(df, 'past_due_90_plus', 'desc', '5')"
   ]
  },
  {
   "cell_type": "code",
   "execution_count": 28,
   "metadata": {},
   "outputs": [
    {
     "name": "stdout",
     "output_type": "stream",
     "text": [
      "Bottom 5 Counts\n",
      "17    1\n",
      "15    2\n",
      "14    2\n",
      "12    2\n",
      "13    4\n",
      "Name: past_due_90_plus, dtype: int64\n"
     ]
    }
   ],
   "source": [
    "print('Bottom 5 Counts')\n",
    "print_counts(df, 'past_due_90_plus', 'asc', '5')"
   ]
  },
  {
   "cell_type": "code",
   "execution_count": 29,
   "metadata": {},
   "outputs": [
    {
     "name": "stdout",
     "output_type": "stream",
     "text": [
      "Maximum 10 Values\n",
      "    index  past_due_90_plus\n",
      "5      98               264\n",
      "13     96                 5\n",
      "18     17                 1\n",
      "17     15                 2\n",
      "16     14                 2\n",
      "14     13                 4\n",
      "15     12                 2\n",
      "12     11                 5\n",
      "11     10                 8\n",
      "10      9                19\n"
     ]
    }
   ],
   "source": [
    "print('Maximum 10 Values')\n",
    "print_min_max(df, 'past_due_90_plus', 'max', '10')"
   ]
  },
  {
   "cell_type": "code",
   "execution_count": 30,
   "metadata": {},
   "outputs": [
    {
     "name": "stdout",
     "output_type": "stream",
     "text": [
      "Minimum 10 Values\n",
      "    index  past_due_90_plus\n",
      "0       0            141662\n",
      "1       1              5243\n",
      "2       2              1555\n",
      "3       3               667\n",
      "4       4               291\n",
      "6       5               131\n",
      "7       6                80\n",
      "8       7                38\n",
      "9       8                21\n",
      "10      9                19\n"
     ]
    }
   ],
   "source": [
    "print('Minimum 10 Values')\n",
    "print_min_max(df, 'past_due_90_plus', 'min', '10')"
   ]
  },
  {
   "cell_type": "markdown",
   "metadata": {},
   "source": [
    "## Number of mortgage and real estate loans including home equity lines of credit"
   ]
  },
  {
   "cell_type": "code",
   "execution_count": 31,
   "metadata": {},
   "outputs": [
    {
     "name": "stdout",
     "output_type": "stream",
     "text": [
      "Top 5 Counts\n",
      "0    56188\n",
      "1    52338\n",
      "2    31522\n",
      "3     6300\n",
      "4     2170\n",
      "Name: real_estate_loans, dtype: int64\n"
     ]
    }
   ],
   "source": [
    "print('Top 5 Counts')\n",
    "print_counts(df, 'real_estate_loans', 'desc', '5')"
   ]
  },
  {
   "cell_type": "code",
   "execution_count": 32,
   "metadata": {},
   "outputs": [
    {
     "name": "stdout",
     "output_type": "stream",
     "text": [
      "Bottom 5 Counts\n",
      "54    1\n",
      "29    1\n",
      "26    1\n",
      "21    1\n",
      "32    1\n",
      "Name: real_estate_loans, dtype: int64\n"
     ]
    }
   ],
   "source": [
    "print('Bottom 5 Counts')\n",
    "print_counts(df, 'real_estate_loans', 'asc', '5')"
   ]
  },
  {
   "cell_type": "code",
   "execution_count": 33,
   "metadata": {},
   "outputs": [
    {
     "name": "stdout",
     "output_type": "stream",
     "text": [
      "Maximum 10 Values\n",
      "    index  real_estate_loans\n",
      "27     54                  1\n",
      "23     32                  1\n",
      "26     29                  1\n",
      "25     26                  1\n",
      "18     25                  3\n",
      "22     23                  2\n",
      "24     21                  1\n",
      "21     20                  2\n",
      "20     19                  2\n",
      "19     18                  2\n"
     ]
    }
   ],
   "source": [
    "print('Maximum 10 Values')\n",
    "print_min_max(df, 'real_estate_loans', 'max', '10')"
   ]
  },
  {
   "cell_type": "code",
   "execution_count": 34,
   "metadata": {},
   "outputs": [
    {
     "name": "stdout",
     "output_type": "stream",
     "text": [
      "Minimum 10 Values\n",
      "    index  real_estate_loans\n",
      "27     54                  1\n",
      "23     32                  1\n",
      "26     29                  1\n",
      "25     26                  1\n",
      "18     25                  3\n",
      "22     23                  2\n",
      "24     21                  1\n",
      "21     20                  2\n",
      "20     19                  2\n",
      "19     18                  2\n"
     ]
    }
   ],
   "source": [
    "print('Minimum 10 Values')\n",
    "print_min_max(df, 'real_estate_loans', 'max', '10')"
   ]
  },
  {
   "cell_type": "markdown",
   "metadata": {},
   "source": [
    "## Number of times borrower has been 60-89 days past due but no worse in the last 2 years."
   ]
  },
  {
   "cell_type": "code",
   "execution_count": 35,
   "metadata": {},
   "outputs": [
    {
     "name": "stdout",
     "output_type": "stream",
     "text": [
      "Top 5 Counts\n",
      "0     142396\n",
      "1       5731\n",
      "2       1118\n",
      "3        318\n",
      "98       264\n",
      "Name: past_due_60_89, dtype: int64\n"
     ]
    }
   ],
   "source": [
    "print('Top 5 Counts')\n",
    "print_counts(df, 'past_due_60_89', 'desc', '5')"
   ]
  },
  {
   "cell_type": "code",
   "execution_count": 36,
   "metadata": {},
   "outputs": [
    {
     "name": "stdout",
     "output_type": "stream",
     "text": [
      "Bottom 5 Counts\n",
      "9     1\n",
      "11    1\n",
      "8     2\n",
      "96    5\n",
      "7     9\n",
      "Name: past_due_60_89, dtype: int64\n"
     ]
    }
   ],
   "source": [
    "print('Bottom 5 Counts')\n",
    "print_counts(df, 'past_due_60_89', 'asc', '5')"
   ]
  },
  {
   "cell_type": "code",
   "execution_count": 37,
   "metadata": {},
   "outputs": [
    {
     "name": "stdout",
     "output_type": "stream",
     "text": [
      "Maximum 10 Values\n",
      "    index  past_due_60_89\n",
      "4      98             264\n",
      "9      96               5\n",
      "11     11               1\n",
      "12      9               1\n",
      "10      8               2\n",
      "8       7               9\n",
      "7       6              16\n",
      "6       5              34\n",
      "5       4             105\n",
      "3       3             318\n"
     ]
    }
   ],
   "source": [
    "print('Maximum 10 Values')\n",
    "print_min_max(df, 'past_due_60_89', 'max', '10')"
   ]
  },
  {
   "cell_type": "code",
   "execution_count": 38,
   "metadata": {},
   "outputs": [
    {
     "name": "stdout",
     "output_type": "stream",
     "text": [
      "Minimum 10 Values\n",
      "    index  past_due_60_89\n",
      "0       0          142396\n",
      "1       1            5731\n",
      "2       2            1118\n",
      "3       3             318\n",
      "5       4             105\n",
      "6       5              34\n",
      "7       6              16\n",
      "8       7               9\n",
      "10      8               2\n",
      "12      9               1\n"
     ]
    }
   ],
   "source": [
    "print('Minimum 10 Values')\n",
    "print_min_max(df, 'past_due_60_89', 'min', '10')"
   ]
  },
  {
   "cell_type": "markdown",
   "metadata": {},
   "source": [
    "## Number of dependents in family excluding themselves (spouse, children etc.)"
   ]
  },
  {
   "cell_type": "code",
   "execution_count": 39,
   "metadata": {},
   "outputs": [
    {
     "name": "stdout",
     "output_type": "stream",
     "text": [
      "Top 5 Counts\n",
      "0.0    86902\n",
      "1.0    26316\n",
      "2.0    19522\n",
      "3.0     9483\n",
      "4.0     2862\n",
      "Name: number_of_dependents, dtype: int64\n"
     ]
    }
   ],
   "source": [
    "print('Top 5 Counts')\n",
    "print_counts(df, 'number_of_dependents', 'desc', '5')"
   ]
  },
  {
   "cell_type": "code",
   "execution_count": 40,
   "metadata": {},
   "outputs": [
    {
     "name": "stdout",
     "output_type": "stream",
     "text": [
      "Bottom 5 Counts\n",
      "20.0     1\n",
      "13.0     1\n",
      "10.0     5\n",
      "9.0      5\n",
      "8.0     24\n",
      "Name: number_of_dependents, dtype: int64\n"
     ]
    }
   ],
   "source": [
    "print('Bottom 5 Counts')\n",
    "print_counts(df, 'number_of_dependents', 'asc', '5')"
   ]
  },
  {
   "cell_type": "code",
   "execution_count": 41,
   "metadata": {},
   "outputs": [
    {
     "name": "stdout",
     "output_type": "stream",
     "text": [
      "Maximum 10 Values\n",
      "    index  number_of_dependents\n",
      "12   20.0                     1\n",
      "11   13.0                     1\n",
      "10   10.0                     5\n",
      "9     9.0                     5\n",
      "8     8.0                    24\n",
      "7     7.0                    51\n",
      "6     6.0                   158\n",
      "5     5.0                   746\n",
      "4     4.0                  2862\n",
      "3     3.0                  9483\n"
     ]
    }
   ],
   "source": [
    "print('Maximum 10 Values')\n",
    "print_min_max(df, 'number_of_dependents', 'max', '10')"
   ]
  },
  {
   "cell_type": "code",
   "execution_count": 42,
   "metadata": {},
   "outputs": [
    {
     "name": "stdout",
     "output_type": "stream",
     "text": [
      "Minimum 10 Values\n",
      "   index  number_of_dependents\n",
      "0    0.0                 86902\n",
      "1    1.0                 26316\n",
      "2    2.0                 19522\n",
      "3    3.0                  9483\n",
      "4    4.0                  2862\n",
      "5    5.0                   746\n",
      "6    6.0                   158\n",
      "7    7.0                    51\n",
      "8    8.0                    24\n",
      "9    9.0                     5\n"
     ]
    }
   ],
   "source": [
    "print('Minimum 10 Values')\n",
    "print_min_max(df, 'number_of_dependents', 'min', '10')"
   ]
  },
  {
   "cell_type": "markdown",
   "metadata": {},
   "source": [
    "# Cleaning Data"
   ]
  },
  {
   "cell_type": "code",
   "execution_count": 43,
   "metadata": {
    "scrolled": true
   },
   "outputs": [
    {
     "name": "stdout",
     "output_type": "stream",
     "text": [
      "Exclude Record(s) that have an Age of 0.\n",
      "\n",
      "Any records in df where age = 0? (Empty DataFrame means No)\n",
      "Empty DataFrame\n",
      "Columns: [age, debt_ratio, monthly_income, open_credit_lines, past_due_30_59, past_due_60_89, past_due_90_plus, serious_delinquent, unsecured_lines, real_estate_loans, number_of_dependents]\n",
      "Index: []\n"
     ]
    }
   ],
   "source": [
    "print('Exclude Record(s) that have an Age of 0.')\n",
    "df = (df[df['age'] != 0])\n",
    "print()\n",
    "print('Any records in df where age = 0? (Empty DataFrame means No)')\n",
    "print(df[df['age'] == 0])\n"
   ]
  },
  {
   "cell_type": "code",
   "execution_count": 44,
   "metadata": {},
   "outputs": [
    {
     "name": "stdout",
     "output_type": "stream",
     "text": [
      "Update Records where Monthly Income is null.  Need to update to -1 so that we can convert the data type.\n",
      "    age   debt_ratio  monthly_income  open_credit_lines  past_due_30_59  \\\n",
      "id                                                                        \n",
      "1    45     0.802982          9120.0                 13               2   \n",
      "2    40     0.121876          2600.0                  4               0   \n",
      "3    38     0.085113          3042.0                  2               1   \n",
      "4    30     0.036050          3300.0                  5               0   \n",
      "5    49     0.024926         63588.0                  7               1   \n",
      "6    74     0.375607          3500.0                  3               0   \n",
      "7    57  5710.000000            -1.0                  8               0   \n",
      "8    39     0.209940          3500.0                  8               0   \n",
      "9    27    46.000000            -1.0                  2               0   \n",
      "10   57     0.606291         23684.0                  9               0   \n",
      "\n",
      "    past_due_60_89  past_due_90_plus  serious_delinquent  unsecured_lines  \\\n",
      "id                                                                          \n",
      "1                0                 0                   1         0.766127   \n",
      "2                0                 0                   0         0.957151   \n",
      "3                0                 1                   0         0.658180   \n",
      "4                0                 0                   0         0.233810   \n",
      "5                0                 0                   0         0.907239   \n",
      "6                0                 0                   0         0.213179   \n",
      "7                0                 0                   0         0.305682   \n",
      "8                0                 0                   0         0.754464   \n",
      "9                0                 0                   0         0.116951   \n",
      "10               0                 0                   0         0.189169   \n",
      "\n",
      "    real_estate_loans  number_of_dependents  \n",
      "id                                           \n",
      "1                   6                   2.0  \n",
      "2                   0                   1.0  \n",
      "3                   0                   0.0  \n",
      "4                   0                   0.0  \n",
      "5                   1                   0.0  \n",
      "6                   1                   1.0  \n",
      "7                   3                   0.0  \n",
      "8                   0                   0.0  \n",
      "9                   0                   NaN  \n",
      "10                  4                   2.0  \n"
     ]
    }
   ],
   "source": [
    "\n",
    "print('Update Records where Monthly Income is null.  Need to update to -1 so that we can convert the data type.')\n",
    "df['monthly_income'][df['monthly_income'].isnull()] = -1\n",
    "print(df.head(10))\n",
    "\n"
   ]
  },
  {
   "cell_type": "code",
   "execution_count": 45,
   "metadata": {},
   "outputs": [
    {
     "name": "stdout",
     "output_type": "stream",
     "text": [
      "Update Number of Dependents column to -1 for those that are NULL.\n"
     ]
    }
   ],
   "source": [
    "print('Update Number of Dependents column to -1 for those that are NULL.')\n",
    "df['number_of_dependents'][df['number_of_dependents'].isnull()] = -1\n",
    "\n",
    "\n",
    "\n"
   ]
  },
  {
   "cell_type": "code",
   "execution_count": 46,
   "metadata": {},
   "outputs": [
    {
     "name": "stdout",
     "output_type": "stream",
     "text": [
      "Create Monthly Income Buckets (may need to adjust later)\n",
      "Buckets are:\n",
      "1 = 0-499; 2 = 500-999; 3 = 1000-2499;\n",
      "4 = 2500-4999; 5 = 5000-7499; 6 = 7500-9999;\n",
      "7 = 10000-24999; 8 = 25000-49999; 9 = 50000+\n",
      "\n",
      "Verify the new column was added and is populating correctly.\n",
      "    monthly_income  monthly_income_bucket monthly_income_name\n",
      "id                                                           \n",
      "1           9120.0                    6.0           7500-9999\n",
      "2           2600.0                    4.0           2500-4999\n",
      "3           3042.0                    4.0           2500-4999\n",
      "4           3300.0                    4.0           2500-4999\n",
      "5          63588.0                    9.0              50000+\n",
      "6           3500.0                    4.0           2500-4999\n",
      "7             -1.0                    0.0            No Value\n",
      "8           3500.0                    4.0           2500-4999\n",
      "9             -1.0                    0.0            No Value\n",
      "10         23684.0                    7.0         10000-24999\n"
     ]
    }
   ],
   "source": [
    "print('Create Monthly Income Buckets (may need to adjust later)')\n",
    "print('Buckets are:')\n",
    "print('1 = 0-499; 2 = 500-999; 3 = 1000-2499;')\n",
    "print('4 = 2500-4999; 5 = 5000-7499; 6 = 7500-9999;')\n",
    "print('7 = 10000-24999; 8 = 25000-49999; 9 = 50000+')\n",
    "# Create income buckets\n",
    "df.loc[df['monthly_income'] <0, 'monthly_income_bucket'] = 0\n",
    "df.loc[df['monthly_income'] >=0, 'monthly_income_bucket'] = 1\n",
    "df.loc[df['monthly_income'] >=500, 'monthly_income_bucket'] = 2\n",
    "df.loc[df['monthly_income'] >=1000, 'monthly_income_bucket'] = 3\n",
    "df.loc[df['monthly_income'] >=2500, 'monthly_income_bucket'] = 4\n",
    "df.loc[df['monthly_income'] >=5000, 'monthly_income_bucket'] = 5\n",
    "df.loc[df['monthly_income'] >=7500, 'monthly_income_bucket'] = 6\n",
    "df.loc[df['monthly_income'] >=10000, 'monthly_income_bucket'] = 7\n",
    "df.loc[df['monthly_income'] >=25000, 'monthly_income_bucket'] = 8\n",
    "df.loc[df['monthly_income'] >=50000, 'monthly_income_bucket'] = 9\n",
    "\n",
    "# Create income bucket names\n",
    "df.loc[df['monthly_income'] <0, 'monthly_income_name'] = 'No Value'\n",
    "df.loc[df['monthly_income'] >=0, 'monthly_income_name'] = '0-499'\n",
    "df.loc[df['monthly_income'] >=500, 'monthly_income_name'] = '500-999'\n",
    "df.loc[df['monthly_income'] >=1000, 'monthly_income_name'] = '1000-2499'\n",
    "df.loc[df['monthly_income'] >=2500, 'monthly_income_name'] = '2500-4999'\n",
    "df.loc[df['monthly_income'] >=5000, 'monthly_income_name'] = '5000-7499'\n",
    "df.loc[df['monthly_income'] >=7500, 'monthly_income_name'] = '7500-9999'\n",
    "df.loc[df['monthly_income'] >=10000, 'monthly_income_name'] = '10000-24999'\n",
    "df.loc[df['monthly_income'] >=25000, 'monthly_income_name'] = '25000-49999'\n",
    "df.loc[df['monthly_income'] >=50000, 'monthly_income_name'] = '50000+'\n",
    "\n",
    "print()\n",
    "print('Verify the new column was added and is populating correctly.')\n",
    "print(df[['monthly_income','monthly_income_bucket','monthly_income_name']].head(10))\n"
   ]
  },
  {
   "cell_type": "code",
   "execution_count": 47,
   "metadata": {},
   "outputs": [
    {
     "name": "stdout",
     "output_type": "stream",
     "text": [
      "Evaluate the 96/98 records where the 30-59, 60-89, or 90+ past due buckets\n",
      "\n",
      "    index  past_due_30_59\n",
      "6      98             264\n",
      "11     96               5\n",
      "14     13               1\n",
      "13     12               2\n",
      "15     11               1\n",
      "12     10               4\n",
      "10      9              12\n",
      "9       8              25\n",
      "8       7              54\n",
      "7       6             140\n",
      "\n",
      "    index  past_due_60_89\n",
      "4      98             264\n",
      "9      96               5\n",
      "11     11               1\n",
      "12      9               1\n",
      "10      8               2\n",
      "8       7               9\n",
      "7       6              16\n",
      "6       5              34\n",
      "5       4             105\n",
      "3       3             318\n",
      "\n",
      "    index  past_due_90_plus\n",
      "5      98               264\n",
      "13     96                 5\n",
      "18     17                 1\n",
      "17     15                 2\n",
      "16     14                 2\n",
      "14     13                 4\n",
      "15     12                 2\n",
      "12     11                 5\n",
      "11     10                 8\n",
      "10      9                19\n",
      "\n",
      "I am removing these 96/98 records since there are only 269 out of 150k records.\n",
      "\n",
      "Any records in df where past due columns are > 25? (Empty DataFrame means No)\n",
      "\n",
      "Empty DataFrame\n",
      "Columns: [age, debt_ratio, monthly_income, open_credit_lines, past_due_30_59, past_due_60_89, past_due_90_plus, serious_delinquent, unsecured_lines, real_estate_loans, number_of_dependents, monthly_income_bucket, monthly_income_name]\n",
      "Index: []\n",
      "\n",
      "Empty DataFrame\n",
      "Columns: [age, debt_ratio, monthly_income, open_credit_lines, past_due_30_59, past_due_60_89, past_due_90_plus, serious_delinquent, unsecured_lines, real_estate_loans, number_of_dependents, monthly_income_bucket, monthly_income_name]\n",
      "Index: []\n",
      "\n",
      "Empty DataFrame\n",
      "Columns: [age, debt_ratio, monthly_income, open_credit_lines, past_due_30_59, past_due_60_89, past_due_90_plus, serious_delinquent, unsecured_lines, real_estate_loans, number_of_dependents, monthly_income_bucket, monthly_income_name]\n",
      "Index: []\n"
     ]
    }
   ],
   "source": [
    "print('Evaluate the 96/98 records where the 30-59, 60-89, or 90+ past due buckets')\n",
    "print()\n",
    "print_min_max(df, 'past_due_30_59', 'max', '10')\n",
    "print()\n",
    "print_min_max(df, 'past_due_60_89', 'max', '10')\n",
    "print()\n",
    "print_min_max(df, 'past_due_90_plus', 'max', '10')\n",
    "print()\n",
    "print('I am removing these 96/98 records since there are only 269 out of 150k records.')\n",
    "df = (df[df['past_due_30_59'] < 25])\n",
    "df = (df[df['past_due_60_89'] < 25])\n",
    "df = (df[df['past_due_90_plus'] < 25])\n",
    "print()\n",
    "print('Any records in df where past due columns are > 25? (Empty DataFrame means No)')\n",
    "print()\n",
    "print(df[df['past_due_30_59'] > 25])\n",
    "print()\n",
    "print(df[df['past_due_60_89'] > 25])\n",
    "print()\n",
    "print(df[df['past_due_90_plus'] > 25])\n",
    "\n"
   ]
  },
  {
   "cell_type": "code",
   "execution_count": 48,
   "metadata": {},
   "outputs": [
    {
     "name": "stdout",
     "output_type": "stream",
     "text": [
      "Convert float to int64 where no decimals are needed.\n",
      "<class 'pandas.core.frame.DataFrame'>\n",
      "Int64Index: 149730 entries, 1 to 150000\n",
      "Data columns (total 13 columns):\n",
      "age                      149730 non-null int64\n",
      "debt_ratio               149730 non-null float64\n",
      "monthly_income           149730 non-null int64\n",
      "open_credit_lines        149730 non-null int64\n",
      "past_due_30_59           149730 non-null int64\n",
      "past_due_60_89           149730 non-null int64\n",
      "past_due_90_plus         149730 non-null int64\n",
      "serious_delinquent       149730 non-null int64\n",
      "unsecured_lines          149730 non-null float64\n",
      "real_estate_loans        149730 non-null int64\n",
      "number_of_dependents     149730 non-null int64\n",
      "monthly_income_bucket    149730 non-null int64\n",
      "monthly_income_name      149730 non-null object\n",
      "dtypes: float64(2), int64(10), object(1)\n",
      "memory usage: 16.0+ MB\n",
      "None\n"
     ]
    }
   ],
   "source": [
    "print('Convert float to int64 where no decimals are needed.')\n",
    "df = df.astype({'monthly_income_bucket':'int64', 'monthly_income':'int64', 'number_of_dependents':'int64' })\n",
    "print(df.info())"
   ]
  },
  {
   "cell_type": "code",
   "execution_count": 49,
   "metadata": {},
   "outputs": [
    {
     "name": "stdout",
     "output_type": "stream",
     "text": [
      "Final DataFrame Columns:\n",
      "Index(['age', 'debt_ratio', 'monthly_income', 'open_credit_lines',\n",
      "       'past_due_30_59', 'past_due_60_89', 'past_due_90_plus',\n",
      "       'serious_delinquent', 'unsecured_lines', 'real_estate_loans',\n",
      "       'number_of_dependents', 'monthly_income_bucket', 'monthly_income_name'],\n",
      "      dtype='object')\n"
     ]
    }
   ],
   "source": [
    "print('Final DataFrame Columns:')\n",
    "print(df.columns)"
   ]
  },
  {
   "cell_type": "code",
   "execution_count": 50,
   "metadata": {},
   "outputs": [
    {
     "name": "stdout",
     "output_type": "stream",
     "text": [
      "DF Info:\n",
      "<class 'pandas.core.frame.DataFrame'>\n",
      "Int64Index: 149730 entries, 1 to 150000\n",
      "Data columns (total 13 columns):\n",
      "age                      149730 non-null int64\n",
      "debt_ratio               149730 non-null float64\n",
      "monthly_income           149730 non-null int64\n",
      "open_credit_lines        149730 non-null int64\n",
      "past_due_30_59           149730 non-null int64\n",
      "past_due_60_89           149730 non-null int64\n",
      "past_due_90_plus         149730 non-null int64\n",
      "serious_delinquent       149730 non-null int64\n",
      "unsecured_lines          149730 non-null float64\n",
      "real_estate_loans        149730 non-null int64\n",
      "number_of_dependents     149730 non-null int64\n",
      "monthly_income_bucket    149730 non-null int64\n",
      "monthly_income_name      149730 non-null object\n",
      "dtypes: float64(2), int64(10), object(1)\n",
      "memory usage: 16.0+ MB\n",
      "None\n"
     ]
    }
   ],
   "source": [
    "print('DF Info:')\n",
    "print(df.info())"
   ]
  },
  {
   "cell_type": "code",
   "execution_count": 51,
   "metadata": {},
   "outputs": [
    {
     "name": "stdout",
     "output_type": "stream",
     "text": [
      "DF Describe:\n",
      "                 age     debt_ratio  monthly_income  open_credit_lines  \\\n",
      "count  149730.000000  149730.000000    1.497300e+05      149730.000000   \n",
      "mean       52.327984     353.631316    5.355018e+03           8.467949   \n",
      "std        14.754371    2039.601344    1.316254e+04           5.138107   \n",
      "min        21.000000       0.000000   -1.000000e+00           0.000000   \n",
      "25%        41.000000       0.175994    1.583000e+03           5.000000   \n",
      "50%        52.000000       0.367119    4.375000e+03           8.000000   \n",
      "75%        63.000000       0.870023    7.400000e+03          11.000000   \n",
      "max       109.000000  329664.000000    3.008750e+06          58.000000   \n",
      "\n",
      "       past_due_30_59  past_due_60_89  past_due_90_plus  serious_delinquent  \\\n",
      "count   149730.000000   149730.000000     149730.000000       149730.000000   \n",
      "mean         0.245789        0.064823          0.090456            0.065979   \n",
      "std          0.697779        0.330074          0.485529            0.248246   \n",
      "min          0.000000        0.000000          0.000000            0.000000   \n",
      "25%          0.000000        0.000000          0.000000            0.000000   \n",
      "50%          0.000000        0.000000          0.000000            0.000000   \n",
      "75%          0.000000        0.000000          0.000000            0.000000   \n",
      "max         13.000000       11.000000         17.000000            1.000000   \n",
      "\n",
      "       unsecured_lines  real_estate_loans  number_of_dependents  \\\n",
      "count    149730.000000      149730.000000         149730.000000   \n",
      "mean          6.057542           1.020063              0.712142   \n",
      "std         249.980364           1.129961              1.135775   \n",
      "min           0.000000           0.000000             -1.000000   \n",
      "25%           0.029771           0.000000              0.000000   \n",
      "50%           0.153488           1.000000              0.000000   \n",
      "75%           0.555592           2.000000              1.000000   \n",
      "max       50708.000000          54.000000             20.000000   \n",
      "\n",
      "       monthly_income_bucket  \n",
      "count          149730.000000  \n",
      "mean                3.888967  \n",
      "std                 2.316560  \n",
      "min                 0.000000  \n",
      "25%                 3.000000  \n",
      "50%                 4.000000  \n",
      "75%                 5.000000  \n",
      "max                 9.000000  \n"
     ]
    }
   ],
   "source": [
    "print('DF Describe:')\n",
    "print(df.describe())"
   ]
  },
  {
   "cell_type": "code",
   "execution_count": 52,
   "metadata": {},
   "outputs": [
    {
     "name": "stdout",
     "output_type": "stream",
     "text": [
      "Sample Data:\n",
      "    age   debt_ratio  monthly_income  open_credit_lines  past_due_30_59  \\\n",
      "id                                                                        \n",
      "1    45     0.802982            9120                 13               2   \n",
      "2    40     0.121876            2600                  4               0   \n",
      "3    38     0.085113            3042                  2               1   \n",
      "4    30     0.036050            3300                  5               0   \n",
      "5    49     0.024926           63588                  7               1   \n",
      "6    74     0.375607            3500                  3               0   \n",
      "7    57  5710.000000              -1                  8               0   \n",
      "8    39     0.209940            3500                  8               0   \n",
      "9    27    46.000000              -1                  2               0   \n",
      "10   57     0.606291           23684                  9               0   \n",
      "\n",
      "    past_due_60_89  past_due_90_plus  serious_delinquent  unsecured_lines  \\\n",
      "id                                                                          \n",
      "1                0                 0                   1         0.766127   \n",
      "2                0                 0                   0         0.957151   \n",
      "3                0                 1                   0         0.658180   \n",
      "4                0                 0                   0         0.233810   \n",
      "5                0                 0                   0         0.907239   \n",
      "6                0                 0                   0         0.213179   \n",
      "7                0                 0                   0         0.305682   \n",
      "8                0                 0                   0         0.754464   \n",
      "9                0                 0                   0         0.116951   \n",
      "10               0                 0                   0         0.189169   \n",
      "\n",
      "    real_estate_loans  number_of_dependents  monthly_income_bucket  \\\n",
      "id                                                                   \n",
      "1                   6                     2                      6   \n",
      "2                   0                     1                      4   \n",
      "3                   0                     0                      4   \n",
      "4                   0                     0                      4   \n",
      "5                   1                     0                      9   \n",
      "6                   1                     1                      4   \n",
      "7                   3                     0                      0   \n",
      "8                   0                     0                      4   \n",
      "9                   0                    -1                      0   \n",
      "10                  4                     2                      7   \n",
      "\n",
      "   monthly_income_name  \n",
      "id                      \n",
      "1            7500-9999  \n",
      "2            2500-4999  \n",
      "3            2500-4999  \n",
      "4            2500-4999  \n",
      "5               50000+  \n",
      "6            2500-4999  \n",
      "7             No Value  \n",
      "8            2500-4999  \n",
      "9             No Value  \n",
      "10         10000-24999  \n"
     ]
    }
   ],
   "source": [
    "print('Sample Data:')\n",
    "print(df.head(10))"
   ]
  },
  {
   "cell_type": "code",
   "execution_count": 53,
   "metadata": {},
   "outputs": [
    {
     "name": "stdout",
     "output_type": "stream",
     "text": [
      "Create Age Buckets (may need to adjust later)\n"
     ]
    },
    {
     "data": {
      "text/html": [
       "<div>\n",
       "<style scoped>\n",
       "    .dataframe tbody tr th:only-of-type {\n",
       "        vertical-align: middle;\n",
       "    }\n",
       "\n",
       "    .dataframe tbody tr th {\n",
       "        vertical-align: top;\n",
       "    }\n",
       "\n",
       "    .dataframe thead th {\n",
       "        text-align: right;\n",
       "    }\n",
       "</style>\n",
       "<table border=\"1\" class=\"dataframe\">\n",
       "  <thead>\n",
       "    <tr style=\"text-align: right;\">\n",
       "      <th></th>\n",
       "      <th>age</th>\n",
       "      <th>debt_ratio</th>\n",
       "      <th>monthly_income</th>\n",
       "      <th>open_credit_lines</th>\n",
       "      <th>past_due_30_59</th>\n",
       "      <th>past_due_60_89</th>\n",
       "      <th>past_due_90_plus</th>\n",
       "      <th>serious_delinquent</th>\n",
       "      <th>unsecured_lines</th>\n",
       "      <th>real_estate_loans</th>\n",
       "      <th>number_of_dependents</th>\n",
       "      <th>monthly_income_bucket</th>\n",
       "      <th>monthly_income_name</th>\n",
       "      <th>age_bucket</th>\n",
       "      <th>age_bucket_name</th>\n",
       "    </tr>\n",
       "    <tr>\n",
       "      <th>id</th>\n",
       "      <th></th>\n",
       "      <th></th>\n",
       "      <th></th>\n",
       "      <th></th>\n",
       "      <th></th>\n",
       "      <th></th>\n",
       "      <th></th>\n",
       "      <th></th>\n",
       "      <th></th>\n",
       "      <th></th>\n",
       "      <th></th>\n",
       "      <th></th>\n",
       "      <th></th>\n",
       "      <th></th>\n",
       "      <th></th>\n",
       "    </tr>\n",
       "  </thead>\n",
       "  <tbody>\n",
       "    <tr>\n",
       "      <th>1</th>\n",
       "      <td>45</td>\n",
       "      <td>0.802982</td>\n",
       "      <td>9120</td>\n",
       "      <td>13</td>\n",
       "      <td>2</td>\n",
       "      <td>0</td>\n",
       "      <td>0</td>\n",
       "      <td>1</td>\n",
       "      <td>0.766127</td>\n",
       "      <td>6</td>\n",
       "      <td>2</td>\n",
       "      <td>6</td>\n",
       "      <td>7500-9999</td>\n",
       "      <td>3.0</td>\n",
       "      <td>40-49</td>\n",
       "    </tr>\n",
       "    <tr>\n",
       "      <th>2</th>\n",
       "      <td>40</td>\n",
       "      <td>0.121876</td>\n",
       "      <td>2600</td>\n",
       "      <td>4</td>\n",
       "      <td>0</td>\n",
       "      <td>0</td>\n",
       "      <td>0</td>\n",
       "      <td>0</td>\n",
       "      <td>0.957151</td>\n",
       "      <td>0</td>\n",
       "      <td>1</td>\n",
       "      <td>4</td>\n",
       "      <td>2500-4999</td>\n",
       "      <td>3.0</td>\n",
       "      <td>40-49</td>\n",
       "    </tr>\n",
       "    <tr>\n",
       "      <th>3</th>\n",
       "      <td>38</td>\n",
       "      <td>0.085113</td>\n",
       "      <td>3042</td>\n",
       "      <td>2</td>\n",
       "      <td>1</td>\n",
       "      <td>0</td>\n",
       "      <td>1</td>\n",
       "      <td>0</td>\n",
       "      <td>0.658180</td>\n",
       "      <td>0</td>\n",
       "      <td>0</td>\n",
       "      <td>4</td>\n",
       "      <td>2500-4999</td>\n",
       "      <td>2.0</td>\n",
       "      <td>30-39</td>\n",
       "    </tr>\n",
       "    <tr>\n",
       "      <th>4</th>\n",
       "      <td>30</td>\n",
       "      <td>0.036050</td>\n",
       "      <td>3300</td>\n",
       "      <td>5</td>\n",
       "      <td>0</td>\n",
       "      <td>0</td>\n",
       "      <td>0</td>\n",
       "      <td>0</td>\n",
       "      <td>0.233810</td>\n",
       "      <td>0</td>\n",
       "      <td>0</td>\n",
       "      <td>4</td>\n",
       "      <td>2500-4999</td>\n",
       "      <td>2.0</td>\n",
       "      <td>30-39</td>\n",
       "    </tr>\n",
       "    <tr>\n",
       "      <th>5</th>\n",
       "      <td>49</td>\n",
       "      <td>0.024926</td>\n",
       "      <td>63588</td>\n",
       "      <td>7</td>\n",
       "      <td>1</td>\n",
       "      <td>0</td>\n",
       "      <td>0</td>\n",
       "      <td>0</td>\n",
       "      <td>0.907239</td>\n",
       "      <td>1</td>\n",
       "      <td>0</td>\n",
       "      <td>9</td>\n",
       "      <td>50000+</td>\n",
       "      <td>3.0</td>\n",
       "      <td>40-49</td>\n",
       "    </tr>\n",
       "  </tbody>\n",
       "</table>\n",
       "</div>"
      ],
      "text/plain": [
       "    age  debt_ratio  monthly_income  open_credit_lines  past_due_30_59  \\\n",
       "id                                                                       \n",
       "1    45    0.802982            9120                 13               2   \n",
       "2    40    0.121876            2600                  4               0   \n",
       "3    38    0.085113            3042                  2               1   \n",
       "4    30    0.036050            3300                  5               0   \n",
       "5    49    0.024926           63588                  7               1   \n",
       "\n",
       "    past_due_60_89  past_due_90_plus  serious_delinquent  unsecured_lines  \\\n",
       "id                                                                          \n",
       "1                0                 0                   1         0.766127   \n",
       "2                0                 0                   0         0.957151   \n",
       "3                0                 1                   0         0.658180   \n",
       "4                0                 0                   0         0.233810   \n",
       "5                0                 0                   0         0.907239   \n",
       "\n",
       "    real_estate_loans  number_of_dependents  monthly_income_bucket  \\\n",
       "id                                                                   \n",
       "1                   6                     2                      6   \n",
       "2                   0                     1                      4   \n",
       "3                   0                     0                      4   \n",
       "4                   0                     0                      4   \n",
       "5                   1                     0                      9   \n",
       "\n",
       "   monthly_income_name  age_bucket age_bucket_name  \n",
       "id                                                  \n",
       "1            7500-9999         3.0           40-49  \n",
       "2            2500-4999         3.0           40-49  \n",
       "3            2500-4999         2.0           30-39  \n",
       "4            2500-4999         2.0           30-39  \n",
       "5               50000+         3.0           40-49  "
      ]
     },
     "execution_count": 53,
     "metadata": {},
     "output_type": "execute_result"
    }
   ],
   "source": [
    "print('Create Age Buckets (may need to adjust later)')\n",
    "\n",
    "# Create age buckets\n",
    "df.loc[df['age'] >=20, 'age_bucket'] = 1\n",
    "df.loc[df['age'] >=30, 'age_bucket'] = 2\n",
    "df.loc[df['age'] >=40, 'age_bucket'] = 3\n",
    "df.loc[df['age'] >=50, 'age_bucket'] = 4\n",
    "df.loc[df['age'] >=60, 'age_bucket'] = 5\n",
    "df.loc[df['age'] >=70, 'age_bucket'] = 6\n",
    "df.loc[df['age'] >=80, 'age_bucket'] = 7\n",
    "df.loc[df['age'] >=90, 'age_bucket'] = 8\n",
    "df.loc[df['age'] >=100, 'age_bucket'] = 9\n",
    "\n",
    "df.loc[df['age'] >=20, 'age_bucket_name'] = '20-29'\n",
    "df.loc[df['age'] >=30, 'age_bucket_name'] = '30-39'\n",
    "df.loc[df['age'] >=40, 'age_bucket_name'] = '40-49'\n",
    "df.loc[df['age'] >=50, 'age_bucket_name'] = '50-59'\n",
    "df.loc[df['age'] >=60, 'age_bucket_name'] = '60-69'\n",
    "df.loc[df['age'] >=70, 'age_bucket_name'] = '70-79'\n",
    "df.loc[df['age'] >=80, 'age_bucket_name'] = '80-89'\n",
    "df.loc[df['age'] >=90, 'age_bucket_name'] = '90-99'\n",
    "df.loc[df['age'] >=100, 'age_bucket_name'] = 'Over 100'\n",
    "\n",
    "df.head(5)"
   ]
  },
  {
   "cell_type": "code",
   "execution_count": 54,
   "metadata": {},
   "outputs": [
    {
     "data": {
      "text/html": [
       "<div>\n",
       "<style scoped>\n",
       "    .dataframe tbody tr th:only-of-type {\n",
       "        vertical-align: middle;\n",
       "    }\n",
       "\n",
       "    .dataframe tbody tr th {\n",
       "        vertical-align: top;\n",
       "    }\n",
       "\n",
       "    .dataframe thead th {\n",
       "        text-align: right;\n",
       "    }\n",
       "</style>\n",
       "<table border=\"1\" class=\"dataframe\">\n",
       "  <thead>\n",
       "    <tr style=\"text-align: right;\">\n",
       "      <th></th>\n",
       "      <th>age</th>\n",
       "      <th>debt_ratio</th>\n",
       "      <th>monthly_income</th>\n",
       "      <th>open_credit_lines</th>\n",
       "      <th>past_due_30_59</th>\n",
       "      <th>past_due_60_89</th>\n",
       "      <th>past_due_90_plus</th>\n",
       "      <th>serious_delinquent</th>\n",
       "      <th>unsecured_lines</th>\n",
       "      <th>real_estate_loans</th>\n",
       "      <th>number_of_dependents</th>\n",
       "      <th>monthly_income_bucket</th>\n",
       "      <th>monthly_income_name</th>\n",
       "      <th>age_bucket</th>\n",
       "      <th>age_bucket_name</th>\n",
       "      <th>debt_ratio_bucket</th>\n",
       "      <th>debt_ratio_name</th>\n",
       "      <th>past_due_90_plus_flag</th>\n",
       "      <th>past_due_60_89_flag</th>\n",
       "      <th>past_due_30_59_flag</th>\n",
       "    </tr>\n",
       "    <tr>\n",
       "      <th>id</th>\n",
       "      <th></th>\n",
       "      <th></th>\n",
       "      <th></th>\n",
       "      <th></th>\n",
       "      <th></th>\n",
       "      <th></th>\n",
       "      <th></th>\n",
       "      <th></th>\n",
       "      <th></th>\n",
       "      <th></th>\n",
       "      <th></th>\n",
       "      <th></th>\n",
       "      <th></th>\n",
       "      <th></th>\n",
       "      <th></th>\n",
       "      <th></th>\n",
       "      <th></th>\n",
       "      <th></th>\n",
       "      <th></th>\n",
       "      <th></th>\n",
       "    </tr>\n",
       "  </thead>\n",
       "  <tbody>\n",
       "    <tr>\n",
       "      <th>1</th>\n",
       "      <td>45</td>\n",
       "      <td>0.802982</td>\n",
       "      <td>9120</td>\n",
       "      <td>13</td>\n",
       "      <td>2</td>\n",
       "      <td>0</td>\n",
       "      <td>0</td>\n",
       "      <td>1</td>\n",
       "      <td>0.766127</td>\n",
       "      <td>6</td>\n",
       "      <td>2</td>\n",
       "      <td>6</td>\n",
       "      <td>7500-9999</td>\n",
       "      <td>3.0</td>\n",
       "      <td>40-49</td>\n",
       "      <td>7.0</td>\n",
       "      <td>0.650162</td>\n",
       "      <td>0.0</td>\n",
       "      <td>0.0</td>\n",
       "      <td>1.0</td>\n",
       "    </tr>\n",
       "    <tr>\n",
       "      <th>2</th>\n",
       "      <td>40</td>\n",
       "      <td>0.121876</td>\n",
       "      <td>2600</td>\n",
       "      <td>4</td>\n",
       "      <td>0</td>\n",
       "      <td>0</td>\n",
       "      <td>0</td>\n",
       "      <td>0</td>\n",
       "      <td>0.957151</td>\n",
       "      <td>0</td>\n",
       "      <td>1</td>\n",
       "      <td>4</td>\n",
       "      <td>2500-4999</td>\n",
       "      <td>3.0</td>\n",
       "      <td>40-49</td>\n",
       "      <td>1.0</td>\n",
       "      <td>0.032376</td>\n",
       "      <td>0.0</td>\n",
       "      <td>0.0</td>\n",
       "      <td>0.0</td>\n",
       "    </tr>\n",
       "    <tr>\n",
       "      <th>3</th>\n",
       "      <td>38</td>\n",
       "      <td>0.085113</td>\n",
       "      <td>3042</td>\n",
       "      <td>2</td>\n",
       "      <td>1</td>\n",
       "      <td>0</td>\n",
       "      <td>1</td>\n",
       "      <td>0</td>\n",
       "      <td>0.658180</td>\n",
       "      <td>0</td>\n",
       "      <td>0</td>\n",
       "      <td>4</td>\n",
       "      <td>2500-4999</td>\n",
       "      <td>2.0</td>\n",
       "      <td>30-39</td>\n",
       "      <td>1.0</td>\n",
       "      <td>0.032376</td>\n",
       "      <td>1.0</td>\n",
       "      <td>0.0</td>\n",
       "      <td>1.0</td>\n",
       "    </tr>\n",
       "    <tr>\n",
       "      <th>4</th>\n",
       "      <td>30</td>\n",
       "      <td>0.036050</td>\n",
       "      <td>3300</td>\n",
       "      <td>5</td>\n",
       "      <td>0</td>\n",
       "      <td>0</td>\n",
       "      <td>0</td>\n",
       "      <td>0</td>\n",
       "      <td>0.233810</td>\n",
       "      <td>0</td>\n",
       "      <td>0</td>\n",
       "      <td>4</td>\n",
       "      <td>2500-4999</td>\n",
       "      <td>2.0</td>\n",
       "      <td>30-39</td>\n",
       "      <td>1.0</td>\n",
       "      <td>0.032376</td>\n",
       "      <td>0.0</td>\n",
       "      <td>0.0</td>\n",
       "      <td>0.0</td>\n",
       "    </tr>\n",
       "    <tr>\n",
       "      <th>5</th>\n",
       "      <td>49</td>\n",
       "      <td>0.024926</td>\n",
       "      <td>63588</td>\n",
       "      <td>7</td>\n",
       "      <td>1</td>\n",
       "      <td>0</td>\n",
       "      <td>0</td>\n",
       "      <td>0</td>\n",
       "      <td>0.907239</td>\n",
       "      <td>1</td>\n",
       "      <td>0</td>\n",
       "      <td>9</td>\n",
       "      <td>50000+</td>\n",
       "      <td>3.0</td>\n",
       "      <td>40-49</td>\n",
       "      <td>0.0</td>\n",
       "      <td>0.000000</td>\n",
       "      <td>0.0</td>\n",
       "      <td>0.0</td>\n",
       "      <td>1.0</td>\n",
       "    </tr>\n",
       "  </tbody>\n",
       "</table>\n",
       "</div>"
      ],
      "text/plain": [
       "    age  debt_ratio  monthly_income  open_credit_lines  past_due_30_59  \\\n",
       "id                                                                       \n",
       "1    45    0.802982            9120                 13               2   \n",
       "2    40    0.121876            2600                  4               0   \n",
       "3    38    0.085113            3042                  2               1   \n",
       "4    30    0.036050            3300                  5               0   \n",
       "5    49    0.024926           63588                  7               1   \n",
       "\n",
       "    past_due_60_89  past_due_90_plus  serious_delinquent  unsecured_lines  \\\n",
       "id                                                                          \n",
       "1                0                 0                   1         0.766127   \n",
       "2                0                 0                   0         0.957151   \n",
       "3                0                 1                   0         0.658180   \n",
       "4                0                 0                   0         0.233810   \n",
       "5                0                 0                   0         0.907239   \n",
       "\n",
       "    real_estate_loans  number_of_dependents  monthly_income_bucket  \\\n",
       "id                                                                   \n",
       "1                   6                     2                      6   \n",
       "2                   0                     1                      4   \n",
       "3                   0                     0                      4   \n",
       "4                   0                     0                      4   \n",
       "5                   1                     0                      9   \n",
       "\n",
       "   monthly_income_name  age_bucket age_bucket_name  debt_ratio_bucket  \\\n",
       "id                                                                      \n",
       "1            7500-9999         3.0           40-49                7.0   \n",
       "2            2500-4999         3.0           40-49                1.0   \n",
       "3            2500-4999         2.0           30-39                1.0   \n",
       "4            2500-4999         2.0           30-39                1.0   \n",
       "5               50000+         3.0           40-49                0.0   \n",
       "\n",
       "    debt_ratio_name  past_due_90_plus_flag  past_due_60_89_flag  \\\n",
       "id                                                                \n",
       "1          0.650162                    0.0                  0.0   \n",
       "2          0.032376                    0.0                  0.0   \n",
       "3          0.032376                    1.0                  0.0   \n",
       "4          0.032376                    0.0                  0.0   \n",
       "5          0.000000                    0.0                  0.0   \n",
       "\n",
       "    past_due_30_59_flag  \n",
       "id                       \n",
       "1                   1.0  \n",
       "2                   0.0  \n",
       "3                   1.0  \n",
       "4                   0.0  \n",
       "5                   1.0  "
      ]
     },
     "execution_count": 54,
     "metadata": {},
     "output_type": "execute_result"
    }
   ],
   "source": [
    "# Create age buckets\n",
    "# Buckets are:\n",
    "# 1 = 20-29; 2 = 30-39; 3 = 40-49;\n",
    "# 4 = 50-59; 5 = 60-69; 6 = 70-79;\n",
    "# 7 = 80-89; 8 = 90-99; 9 = 100+\n",
    "df.loc[df['age'] >=20, 'age_bucket'] = 1\n",
    "df.loc[df['age'] >=30, 'age_bucket'] = 2\n",
    "df.loc[df['age'] >=40, 'age_bucket'] = 3\n",
    "df.loc[df['age'] >=50, 'age_bucket'] = 4\n",
    "df.loc[df['age'] >=60, 'age_bucket'] = 5\n",
    "df.loc[df['age'] >=70, 'age_bucket'] = 6\n",
    "df.loc[df['age'] >=80, 'age_bucket'] = 7\n",
    "df.loc[df['age'] >=90, 'age_bucket'] = 8\n",
    "df.loc[df['age'] >=100, 'age_bucket'] = 9\n",
    "\n",
    "df.loc[df['age'] >=20, 'age_bucket_name'] = '20-29'\n",
    "df.loc[df['age'] >=30, 'age_bucket_name'] = '30-39'\n",
    "df.loc[df['age'] >=40, 'age_bucket_name'] = '40-49'\n",
    "df.loc[df['age'] >=50, 'age_bucket_name'] = '50-59'\n",
    "df.loc[df['age'] >=60, 'age_bucket_name'] = '60-69'\n",
    "df.loc[df['age'] >=70, 'age_bucket_name'] = '70-79'\n",
    "df.loc[df['age'] >=80, 'age_bucket_name'] = '80-89'\n",
    "df.loc[df['age'] >=90, 'age_bucket_name'] = '90-99'\n",
    "df.loc[df['age'] >=100, 'age_bucket_name'] = 'Over 100'\n",
    "\n",
    "# Create a Debt Ratio bucket based on every 10% quantile\n",
    "df.loc[df['debt_ratio'] >= 0, 'debt_ratio_bucket'] = 0\n",
    "df.loc[df['debt_ratio'] > df['debt_ratio'].quantile(.1), 'debt_ratio_bucket'] = 1\n",
    "df.loc[df['debt_ratio'] > df['debt_ratio'].quantile(.2), 'debt_ratio_bucket'] = 2\n",
    "df.loc[df['debt_ratio'] > df['debt_ratio'].quantile(.3), 'debt_ratio_bucket'] = 3\n",
    "df.loc[df['debt_ratio'] > df['debt_ratio'].quantile(.4), 'debt_ratio_bucket'] = 4\n",
    "df.loc[df['debt_ratio'] > df['debt_ratio'].quantile(.5), 'debt_ratio_bucket'] = 5\n",
    "df.loc[df['debt_ratio'] > df['debt_ratio'].quantile(.6), 'debt_ratio_bucket'] = 6\n",
    "df.loc[df['debt_ratio'] > df['debt_ratio'].quantile(.7), 'debt_ratio_bucket'] = 7\n",
    "df.loc[df['debt_ratio'] > df['debt_ratio'].quantile(.8), 'debt_ratio_bucket'] = 8\n",
    "df.loc[df['debt_ratio'] > df['debt_ratio'].quantile(.9), 'debt_ratio_bucket'] = 9\n",
    "\n",
    "# Create a Debt Ratio bucket based on every 10% quantile\n",
    "df.loc[df['debt_ratio'] >= 0, 'debt_ratio_name'] = 0\n",
    "df.loc[df['debt_ratio'] > df['debt_ratio'].quantile(.1), 'debt_ratio_name'] = df['debt_ratio'].quantile(.1)\n",
    "df.loc[df['debt_ratio'] > df['debt_ratio'].quantile(.2), 'debt_ratio_name'] = df['debt_ratio'].quantile(.2)\n",
    "df.loc[df['debt_ratio'] > df['debt_ratio'].quantile(.3), 'debt_ratio_name'] = df['debt_ratio'].quantile(.3)\n",
    "df.loc[df['debt_ratio'] > df['debt_ratio'].quantile(.4), 'debt_ratio_name'] = df['debt_ratio'].quantile(.4)\n",
    "df.loc[df['debt_ratio'] > df['debt_ratio'].quantile(.5), 'debt_ratio_name'] = df['debt_ratio'].quantile(.5)\n",
    "df.loc[df['debt_ratio'] > df['debt_ratio'].quantile(.6), 'debt_ratio_name'] = df['debt_ratio'].quantile(.6)\n",
    "df.loc[df['debt_ratio'] > df['debt_ratio'].quantile(.7), 'debt_ratio_name'] = df['debt_ratio'].quantile(.7)\n",
    "df.loc[df['debt_ratio'] > df['debt_ratio'].quantile(.8), 'debt_ratio_name'] = df['debt_ratio'].quantile(.8)\n",
    "df.loc[df['debt_ratio'] > df['debt_ratio'].quantile(.9), 'debt_ratio_name'] = df['debt_ratio'].quantile(.9)\n",
    "\n",
    "# Create column names for later use.\n",
    "# debt_ratio_column_names = ('0-10%','11-20%','21-30%','31-40%','41-50%','51-60%','61-70%','71-80%','81-90%','91-100%')\n",
    "\n",
    "# Create new flag for each past due column.\n",
    "df.loc[df['past_due_90_plus'] > 0, 'past_due_90_plus_flag'] = 1\n",
    "df.loc[df['past_due_90_plus'] <= 0, 'past_due_90_plus_flag'] = 0\n",
    "\n",
    "df.loc[df['past_due_60_89'] > 0, 'past_due_60_89_flag'] = 1\n",
    "df.loc[df['past_due_60_89'] <= 0, 'past_due_60_89_flag'] = 0\n",
    "\n",
    "df.loc[df['past_due_30_59'] > 0, 'past_due_30_59_flag'] = 1\n",
    "df.loc[df['past_due_30_59'] <= 0, 'past_due_30_59_flag'] = 0\n",
    "\n",
    "df.head(5)\n",
    "\n"
   ]
  },
  {
   "cell_type": "markdown",
   "metadata": {},
   "source": [
    "### Write data to file to use in Data Story"
   ]
  },
  {
   "cell_type": "code",
   "execution_count": 55,
   "metadata": {},
   "outputs": [],
   "source": [
    "filename = 'data_wrangling_out.csv'\n",
    "df.to_csv(filename)"
   ]
  }
 ],
 "metadata": {
  "kernelspec": {
   "display_name": "Python 3",
   "language": "python",
   "name": "python3"
  },
  "language_info": {
   "codemirror_mode": {
    "name": "ipython",
    "version": 3
   },
   "file_extension": ".py",
   "mimetype": "text/x-python",
   "name": "python",
   "nbconvert_exporter": "python",
   "pygments_lexer": "ipython3",
   "version": "3.7.1"
  }
 },
 "nbformat": 4,
 "nbformat_minor": 2
}
