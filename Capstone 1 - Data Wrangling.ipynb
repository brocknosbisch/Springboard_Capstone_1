{
 "cells": [
  {
   "cell_type": "markdown",
   "metadata": {},
   "source": [
    "# Capstone Project 1 - Data Wrangling\n",
    "## Name: Brock Nosbisch\n"
   ]
  },
  {
   "cell_type": "markdown",
   "metadata": {},
   "source": [
    "# Load Data\n",
    "## Importing Packages, Reading CSV, Reordering Columns in DF"
   ]
  },
  {
   "cell_type": "code",
   "execution_count": 328,
   "metadata": {},
   "outputs": [],
   "source": [
    "import pandas as pd\n",
    "import numpy as np\n",
    "import matplotlib.pyplot as plt\n",
    "\n",
    "file_name = 'cs-training.csv'\n",
    "col_names = ['id', 'serious_delinquent', 'unsecured_lines', 'age', 'past_due_30_59', 'debt_ratio', 'monthly_income', \n",
    "            'open_credit_lines', 'past_due_90_plus', 'real_estate_loans', 'past_due_60_89', 'number_of_dependents']\n",
    "\n",
    "# Read in the file with new column names.\n",
    "df = pd.read_csv(file_name, header=0, names=col_names, na_values='-1')\n",
    "df.set_index('id', inplace=True)\n",
    "\n",
    "# Reorder columns\n",
    "new_col_ordering = [ 'age', 'debt_ratio', 'monthly_income', \n",
    "            'open_credit_lines', 'past_due_30_59', 'past_due_60_89', 'past_due_90_plus', 'serious_delinquent',\n",
    "             'unsecured_lines', 'real_estate_loans', 'number_of_dependents']\n",
    "df = df[new_col_ordering]\n",
    "\n",
    "\n",
    "\n"
   ]
  },
  {
   "cell_type": "markdown",
   "metadata": {},
   "source": [
    "# Review DataFrame Details\n",
    "\n",
    "\n",
    "A few initial findings:  \n",
    "* 2 of the fields contain null values.\n",
    "* The minimum age is 0.\n",
    "* The past due maximum values seem off since the dataset is only for 24 months."
   ]
  },
  {
   "cell_type": "code",
   "execution_count": 329,
   "metadata": {},
   "outputs": [
    {
     "name": "stdout",
     "output_type": "stream",
     "text": [
      "<class 'pandas.core.frame.DataFrame'>\n",
      "Int64Index: 150000 entries, 1 to 150000\n",
      "Data columns (total 11 columns):\n",
      "age                     150000 non-null int64\n",
      "debt_ratio              150000 non-null float64\n",
      "monthly_income          120269 non-null float64\n",
      "open_credit_lines       150000 non-null int64\n",
      "past_due_30_59          150000 non-null int64\n",
      "past_due_60_89          150000 non-null int64\n",
      "past_due_90_plus        150000 non-null int64\n",
      "serious_delinquent      150000 non-null int64\n",
      "unsecured_lines         150000 non-null float64\n",
      "real_estate_loans       150000 non-null int64\n",
      "number_of_dependents    146076 non-null float64\n",
      "dtypes: float64(4), int64(7)\n",
      "memory usage: 13.7 MB\n",
      "\n",
      "\n",
      "                 age     debt_ratio  monthly_income  open_credit_lines  \\\n",
      "count  150000.000000  150000.000000    1.202690e+05      150000.000000   \n",
      "mean       52.295207     353.005076    6.670221e+03           8.452760   \n",
      "std        14.771866    2037.818523    1.438467e+04           5.145951   \n",
      "min         0.000000       0.000000    0.000000e+00           0.000000   \n",
      "25%        41.000000       0.175074    3.400000e+03           5.000000   \n",
      "50%        52.000000       0.366508    5.400000e+03           8.000000   \n",
      "75%        63.000000       0.868254    8.249000e+03          11.000000   \n",
      "max       109.000000  329664.000000    3.008750e+06          58.000000   \n",
      "\n",
      "       past_due_30_59  past_due_60_89  past_due_90_plus  serious_delinquent  \\\n",
      "count   150000.000000   150000.000000     150000.000000       150000.000000   \n",
      "mean         0.421033        0.240387          0.265973            0.066840   \n",
      "std          4.192781        4.155179          4.169304            0.249746   \n",
      "min          0.000000        0.000000          0.000000            0.000000   \n",
      "25%          0.000000        0.000000          0.000000            0.000000   \n",
      "50%          0.000000        0.000000          0.000000            0.000000   \n",
      "75%          0.000000        0.000000          0.000000            0.000000   \n",
      "max         98.000000       98.000000         98.000000            1.000000   \n",
      "\n",
      "       unsecured_lines  real_estate_loans  number_of_dependents  \n",
      "count    150000.000000      150000.000000         146076.000000  \n",
      "mean          6.048438           1.018240              0.757222  \n",
      "std         249.755371           1.129771              1.115086  \n",
      "min           0.000000           0.000000              0.000000  \n",
      "25%           0.029867           0.000000              0.000000  \n",
      "50%           0.154181           1.000000              0.000000  \n",
      "75%           0.559046           2.000000              1.000000  \n",
      "max       50708.000000          54.000000             20.000000  \n",
      "    age   debt_ratio  monthly_income  open_credit_lines  past_due_30_59  \\\n",
      "id                                                                        \n",
      "1    45     0.802982          9120.0                 13               2   \n",
      "2    40     0.121876          2600.0                  4               0   \n",
      "3    38     0.085113          3042.0                  2               1   \n",
      "4    30     0.036050          3300.0                  5               0   \n",
      "5    49     0.024926         63588.0                  7               1   \n",
      "6    74     0.375607          3500.0                  3               0   \n",
      "7    57  5710.000000             NaN                  8               0   \n",
      "8    39     0.209940          3500.0                  8               0   \n",
      "9    27    46.000000             NaN                  2               0   \n",
      "10   57     0.606291         23684.0                  9               0   \n",
      "11   30     0.309476          2500.0                  5               0   \n",
      "12   51     0.531529          6501.0                  7               0   \n",
      "13   46     0.298354         12454.0                 13               0   \n",
      "14   40     0.382965         13700.0                  9               3   \n",
      "15   76   477.000000             0.0                  6               0   \n",
      "\n",
      "    past_due_60_89  past_due_90_plus  serious_delinquent  unsecured_lines  \\\n",
      "id                                                                          \n",
      "1                0                 0                   1         0.766127   \n",
      "2                0                 0                   0         0.957151   \n",
      "3                0                 1                   0         0.658180   \n",
      "4                0                 0                   0         0.233810   \n",
      "5                0                 0                   0         0.907239   \n",
      "6                0                 0                   0         0.213179   \n",
      "7                0                 0                   0         0.305682   \n",
      "8                0                 0                   0         0.754464   \n",
      "9                0                 0                   0         0.116951   \n",
      "10               0                 0                   0         0.189169   \n",
      "11               0                 0                   0         0.644226   \n",
      "12               0                 0                   0         0.018798   \n",
      "13               0                 0                   0         0.010352   \n",
      "14               1                 3                   1         0.964673   \n",
      "15               0                 0                   0         0.019657   \n",
      "\n",
      "    real_estate_loans  number_of_dependents  \n",
      "id                                           \n",
      "1                   6                   2.0  \n",
      "2                   0                   1.0  \n",
      "3                   0                   0.0  \n",
      "4                   0                   0.0  \n",
      "5                   1                   0.0  \n",
      "6                   1                   1.0  \n",
      "7                   3                   0.0  \n",
      "8                   0                   0.0  \n",
      "9                   0                   NaN  \n",
      "10                  4                   2.0  \n",
      "11                  0                   0.0  \n",
      "12                  2                   2.0  \n",
      "13                  2                   2.0  \n",
      "14                  1                   2.0  \n",
      "15                  1                   0.0  \n"
     ]
    }
   ],
   "source": [
    "df.info()\n",
    "print('')\n",
    "print('')\n",
    "\n",
    "print(df.describe())\n",
    "print(df.head(15))"
   ]
  },
  {
   "cell_type": "markdown",
   "metadata": {},
   "source": [
    "## Person experienced 90 days past due delinquency or worse \n",
    " There are only 2 distinct values and both are valid."
   ]
  },
  {
   "cell_type": "code",
   "execution_count": 330,
   "metadata": {},
   "outputs": [
    {
     "name": "stdout",
     "output_type": "stream",
     "text": [
      "   index  serious_delinquent\n",
      "0      0              139974\n",
      "1      1               10026\n"
     ]
    }
   ],
   "source": [
    "\n",
    "print(df['serious_delinquent'].value_counts().to_frame().reset_index().sort_values('serious_delinquent', ascending=False))\n"
   ]
  },
  {
   "cell_type": "markdown",
   "metadata": {},
   "source": [
    "## Total balance on credit cards and personal lines of credit except real estate and no installment debt like car loans divided by the sum of credit limits.\n",
    "The higher the amount, the worse a person is."
   ]
  },
  {
   "cell_type": "code",
   "execution_count": 331,
   "metadata": {},
   "outputs": [
    {
     "name": "stdout",
     "output_type": "stream",
     "text": [
      "Top 5\n",
      "          index  unsecured_lines\n",
      "38807   50708.0                1\n",
      "107425  29110.0                1\n",
      "112115  22198.0                1\n",
      "113030  22000.0                1\n",
      "106240  20514.0                1\n",
      "\n",
      "Bottom 5\n",
      "           index  unsecured_lines\n",
      "104642  0.000014                1\n",
      "91171   0.000013                1\n",
      "108487  0.000010                1\n",
      "108764  0.000008                1\n",
      "0       0.000000            10878\n"
     ]
    }
   ],
   "source": [
    "\n",
    "print('Top 5')\n",
    "print(df['unsecured_lines'].value_counts().to_frame().reset_index().sort_values('index', ascending=False).head(5))\n",
    "print('')\n",
    "print('Bottom 5')\n",
    "print(df['unsecured_lines'].value_counts().to_frame().reset_index().sort_values('index', ascending=False).tail(5))\n"
   ]
  },
  {
   "cell_type": "markdown",
   "metadata": {},
   "source": [
    "## Age of borrower in years"
   ]
  },
  {
   "cell_type": "code",
   "execution_count": 332,
   "metadata": {},
   "outputs": [
    {
     "name": "stdout",
     "output_type": "stream",
     "text": [
      "Youngest\n",
      "*The person with an Age of 0 must be bad data.  Will need to exclude this person\n",
      "    index  age\n",
      "85      0    1\n",
      "69     21  183\n",
      "63     22  434\n",
      "59     23  641\n",
      "56     24  816\n",
      "\n",
      "Oldest\n",
      "    index  age\n",
      "80    102    3\n",
      "79    103    3\n",
      "84    105    1\n",
      "83    107    1\n",
      "82    109    2\n"
     ]
    }
   ],
   "source": [
    "\n",
    "print('Youngest')\n",
    "print('*The person with an Age of 0 must be bad data.  Will need to exclude this person')\n",
    "\n",
    "print(df['age'].value_counts().to_frame().reset_index().sort_values('index', ascending=True).head(5))\n",
    "print('')\n",
    "print('Oldest')\n",
    "print(df['age'].value_counts().to_frame().reset_index().sort_values('index', ascending=True).tail(5))\n"
   ]
  },
  {
   "cell_type": "markdown",
   "metadata": {},
   "source": [
    "## Number of times borrower has been 30-59 days past due but no worse in the last 2 years.\n",
    "Need to clean up data for borrowers with 90+ times."
   ]
  },
  {
   "cell_type": "code",
   "execution_count": 333,
   "metadata": {},
   "outputs": [
    {
     "name": "stdout",
     "output_type": "stream",
     "text": [
      "    index  past_due_30_59\n",
      "6      98             264\n",
      "11     96               5\n",
      "14     13               1\n",
      "13     12               2\n",
      "15     11               1\n",
      "12     10               4\n",
      "10      9              12\n",
      "9       8              25\n",
      "8       7              54\n",
      "7       6             140\n",
      "5       5             342\n",
      "4       4             747\n",
      "3       3            1754\n",
      "2       2            4598\n",
      "1       1           16033\n",
      "0       0          126018\n"
     ]
    }
   ],
   "source": [
    "\n",
    "\n",
    "print(df['past_due_30_59'].value_counts().to_frame().reset_index().sort_values('index', ascending=False))"
   ]
  },
  {
   "cell_type": "markdown",
   "metadata": {},
   "source": [
    "## Monthly debt payments, alimony, living costs divided by monthy gross income\n",
    "There are a lot of high Debt Ratios because we do not have Monthly Income data.\n",
    "\n",
    "Need to figure out what to exclude."
   ]
  },
  {
   "cell_type": "code",
   "execution_count": 334,
   "metadata": {},
   "outputs": [
    {
     "name": "stdout",
     "output_type": "stream",
     "text": [
      "\n",
      "Top 5\n",
      "   index  debt_ratio\n",
      "0    0.0        4113\n",
      "1    1.0         229\n",
      "2    4.0         174\n",
      "3    2.0         170\n",
      "4    3.0         162\n",
      "\n",
      "Bottom 5\n",
      "           index  debt_ratio\n",
      "44732   0.388592           1\n",
      "44731   0.076564           1\n",
      "44730   0.648382           1\n",
      "44729   0.115146           1\n",
      "114193  0.656276           1\n",
      "\n",
      "Minimum Value\n",
      "           index  debt_ratio\n",
      "0       0.000000        4113\n",
      "73558   0.000026           1\n",
      "106536  0.000037           1\n",
      "79450   0.000039           1\n",
      "106251  0.000066           1\n",
      "\n",
      "Maximum Value\n",
      "          index  debt_ratio\n",
      "93903  168835.0           1\n",
      "32221  220516.0           1\n",
      "30212  307001.0           1\n",
      "94692  326442.0           1\n",
      "65434  329664.0           1\n"
     ]
    }
   ],
   "source": [
    "\n",
    "print('')\n",
    "print('Top 5')\n",
    "print(df['debt_ratio'].value_counts().to_frame().reset_index().sort_values('debt_ratio', ascending=False).head(5))\n",
    "print('')\n",
    "print('Bottom 5')\n",
    "print(df['debt_ratio'].value_counts().to_frame().reset_index().sort_values('debt_ratio', ascending=False).tail(5))\n",
    "print('')\n",
    "print('Minimum Value')\n",
    "print(df['debt_ratio'].value_counts().to_frame().reset_index().sort_values('index', ascending=True).head(5))\n",
    "print('')\n",
    "print('Maximum Value')\n",
    "print(df['debt_ratio'].value_counts().to_frame().reset_index().sort_values('index', ascending=True).tail(5))\n"
   ]
  },
  {
   "cell_type": "markdown",
   "metadata": {},
   "source": [
    "## Monthly Income"
   ]
  },
  {
   "cell_type": "code",
   "execution_count": 335,
   "metadata": {},
   "outputs": [
    {
     "name": "stdout",
     "output_type": "stream",
     "text": [
      "As seen in df.info, confirming there are null values.\n",
      "id\n",
      "7    NaN\n",
      "9    NaN\n",
      "17   NaN\n",
      "33   NaN\n",
      "42   NaN\n",
      "Name: monthly_income, dtype: float64\n",
      "\n",
      "Top 5 Counts\n",
      "    index  monthly_income\n",
      "0  5000.0            2757\n",
      "1  4000.0            2106\n",
      "2  6000.0            1934\n",
      "3  3000.0            1758\n",
      "4     0.0            1634\n",
      "\n",
      "Bottom 5 Counts\n",
      "         index  monthly_income\n",
      "10827     21.0               1\n",
      "10828   9835.0               1\n",
      "10829  21505.0               1\n",
      "10830  10753.0               1\n",
      "13593   1037.0               1\n",
      "\n",
      "Minimum Monthly Income\n",
      "       index  monthly_income\n",
      "4        0.0            1634\n",
      "17       1.0             605\n",
      "2523     2.0               6\n",
      "7580     4.0               2\n",
      "8769     5.0               2\n",
      "12364    7.0               1\n",
      "12139    9.0               1\n",
      "7354    10.0               2\n",
      "12023   11.0               1\n",
      "11317   15.0               1\n",
      "\n",
      "Maximum Monthly Income\n",
      "           index  monthly_income\n",
      "11964  3008750.0               1\n",
      "13361  1794060.0               1\n",
      "11439  1560100.0               1\n",
      "9858   1072500.0               1\n",
      "10384   835040.0               1\n",
      "10707   730483.0               1\n",
      "11091   702500.0               1\n",
      "11045   699530.0               1\n",
      "13427   649587.0               1\n",
      "12264   629000.0               1\n",
      "\n",
      "\n",
      "STD, MEAN, MEDIAN\n",
      "14384.674215282244\n",
      "6670.221237392844\n",
      "5400.0\n",
      "\n",
      "\n",
      "Review Monthly Income in Histogram\n",
      "\n",
      "Look at high values because they are causing severe outliers.\n",
      "My initial thinking is that we can exclude all with a high income.\n"
     ]
    },
    {
     "data": {
      "image/png": "[encoded data removed]",
      "text/plain": [
       "<Figure size 432x288 with 1 Axes>"
      ]
     },
     "metadata": {
      "needs_background": "light"
     },
     "output_type": "display_data"
    },
    {
     "name": "stdout",
     "output_type": "stream",
     "text": [
      "\n",
      "Plot only values < 50000 into bins of 30\n",
      "I chose other values as well but 50k seems okay.\n"
     ]
    },
    {
     "data": {
      "image/png": "[encoded data removed]",
      "text/plain": [
       "<Figure size 432x288 with 1 Axes>"
      ]
     },
     "metadata": {
      "needs_background": "light"
     },
     "output_type": "display_data"
    },
    {
     "name": "stdout",
     "output_type": "stream",
     "text": [
      "\n",
      "Plot only values < 50000 into bins of 100\n",
      "I chose other values as well but 50k seems okay.\n"
     ]
    },
    {
     "data": {
      "image/png": "[encoded data removed]",
      "text/plain": [
       "<Figure size 432x288 with 1 Axes>"
      ]
     },
     "metadata": {
      "needs_background": "light"
     },
     "output_type": "display_data"
    },
    {
     "name": "stdout",
     "output_type": "stream",
     "text": [
      "\n",
      "Box Plot for < 50000\n"
     ]
    },
    {
     "data": {
      "image/png": "[encoded data removed]",
      "text/plain": [
       "<Figure size 432x288 with 1 Axes>"
      ]
     },
     "metadata": {
      "needs_background": "light"
     },
     "output_type": "display_data"
    }
   ],
   "source": [
    "print('As seen in df.info, confirming there are null values.')\n",
    "print(df['monthly_income'][df['monthly_income'].isna()].head(5))\n",
    "print('')\n",
    "print('Top 5 Counts')\n",
    "print(df['monthly_income'].value_counts().to_frame().reset_index().sort_values('monthly_income', ascending=False).head(5))\n",
    "print('')\n",
    "print('Bottom 5 Counts')\n",
    "print(df['monthly_income'].value_counts().to_frame().reset_index().sort_values('monthly_income', ascending=False).tail(5))\n",
    "print('')\n",
    "print('Minimum Monthly Income')\n",
    "print(df['monthly_income'].value_counts().to_frame().reset_index().sort_values('index', ascending=True).head(10))\n",
    "print('')\n",
    "print('Maximum Monthly Income')\n",
    "print(df['monthly_income'].value_counts().to_frame().reset_index().sort_values('index', ascending=False).head(10))\n",
    "\n",
    "print()\n",
    "print()\n",
    "print('STD, MEAN, MEDIAN')\n",
    "print(df['monthly_income'].std())\n",
    "print(df['monthly_income'].mean())\n",
    "print(df['monthly_income'].median())\n",
    "\n",
    "print('')\n",
    "print('')\n",
    "print('Review Monthly Income in Histogram')\n",
    "df['monthly_income'][df['monthly_income']].plot(kind='hist', bins=30)\n",
    "\n",
    "print('')\n",
    "print('Look at high values because they are causing severe outliers.')\n",
    "print('My initial thinking is that we can exclude all with a high income.')\n",
    "plt.show()\n",
    "print('')\n",
    "print('Plot only values < 50000 into bins of 30')\n",
    "print('I chose other values as well but 50k seems okay.')\n",
    "df['monthly_income'][df['monthly_income'] < 50000].plot(kind='hist', bins=30)\n",
    "plt.show()\n",
    "\n",
    "print('')\n",
    "print('Plot only values < 50000 into bins of 100')\n",
    "print('I chose other values as well but 50k seems okay.')\n",
    "df['monthly_income'][df['monthly_income'] < 50000].reindex().plot(kind='hist', bins=100)\n",
    "plt.show()\n",
    "\n",
    "print('')\n",
    "print('Box Plot for < 50000')\n",
    "df['monthly_income'][df['monthly_income'] < 50000].plot(kind='box')\n",
    "plt.show()\n",
    "\n",
    "\n",
    "\n"
   ]
  },
  {
   "cell_type": "markdown",
   "metadata": {},
   "source": [
    "## Number of Open loans (installment like car loan or mortgage) and Lines of credit (e.g. credit cards)"
   ]
  },
  {
   "cell_type": "code",
   "execution_count": 336,
   "metadata": {},
   "outputs": [
    {
     "name": "stdout",
     "output_type": "stream",
     "text": [
      "Top 5 Count\n",
      "   index  open_credit_lines\n",
      "0      6              13614\n",
      "1      7              13245\n",
      "2      5              12931\n",
      "3      8              12562\n",
      "4      4              11609\n",
      "\n",
      "Bottom 5 Count\n",
      "    index  open_credit_lines\n",
      "53     50                  2\n",
      "54     47                  2\n",
      "55     44                  2\n",
      "56     53                  1\n",
      "57     58                  1\n",
      "\n",
      "Minimum Value\n",
      "    index  open_credit_lines\n",
      "17      0               1888\n",
      "13      1               4438\n",
      "10      2               6666\n",
      "7       3               9058\n",
      "4       4              11609\n",
      "2       5              12931\n",
      "0       6              13614\n",
      "1       7              13245\n",
      "3       8              12562\n",
      "5       9              11355\n",
      "\n",
      "Maximum Value\n",
      "    index  open_credit_lines\n",
      "57     58                  1\n",
      "52     57                  2\n",
      "51     56                  2\n",
      "46     54                  4\n",
      "56     53                  1\n",
      "49     52                  3\n",
      "50     51                  2\n",
      "53     50                  2\n",
      "47     49                  4\n",
      "44     48                  6\n"
     ]
    }
   ],
   "source": [
    "\n",
    "print('Top 5 Count')\n",
    "print(df['open_credit_lines'].value_counts().to_frame().reset_index().sort_values('open_credit_lines', ascending=False).head(5))\n",
    "print('')\n",
    "print('Bottom 5 Count')\n",
    "print(df['open_credit_lines'].value_counts().to_frame().reset_index().sort_values('open_credit_lines', ascending=False).tail(5))\n",
    "print('')\n",
    "print('Minimum Value')\n",
    "print(df['open_credit_lines'].value_counts().to_frame().reset_index().sort_values('index', ascending=True).head(10))\n",
    "print('')\n",
    "print('Maximum Value')\n",
    "print(df['open_credit_lines'].value_counts().to_frame().reset_index().sort_values('index', ascending=False).head(10))\n",
    "\n",
    "\n",
    "\n",
    "\n"
   ]
  },
  {
   "cell_type": "markdown",
   "metadata": {},
   "source": [
    "## Number of times borrower has been 90 days or more past due."
   ]
  },
  {
   "cell_type": "code",
   "execution_count": 337,
   "metadata": {},
   "outputs": [
    {
     "name": "stdout",
     "output_type": "stream",
     "text": [
      "Top 5 Count\n",
      "   index  past_due_90_plus\n",
      "0      0            141662\n",
      "1      1              5243\n",
      "2      2              1555\n",
      "3      3               667\n",
      "4      4               291\n",
      "\n",
      "Bottom 5 Count\n",
      "    index  past_due_90_plus\n",
      "14     13                 4\n",
      "15     12                 2\n",
      "16     14                 2\n",
      "17     15                 2\n",
      "18     17                 1\n",
      "\n",
      "Minimum Value\n",
      "    index  past_due_90_plus\n",
      "0       0            141662\n",
      "1       1              5243\n",
      "2       2              1555\n",
      "3       3               667\n",
      "4       4               291\n",
      "6       5               131\n",
      "7       6                80\n",
      "8       7                38\n",
      "9       8                21\n",
      "10      9                19\n",
      "\n",
      "Maximum Value\n",
      "    index  past_due_90_plus\n",
      "5      98               264\n",
      "13     96                 5\n",
      "18     17                 1\n",
      "17     15                 2\n",
      "16     14                 2\n",
      "14     13                 4\n",
      "15     12                 2\n",
      "12     11                 5\n",
      "11     10                 8\n",
      "10      9                19\n"
     ]
    }
   ],
   "source": [
    "\n",
    "\n",
    "print('Top 5 Count')\n",
    "print(df['past_due_90_plus'].value_counts().to_frame().reset_index().sort_values('past_due_90_plus', ascending=False).head(5))\n",
    "print('')\n",
    "print('Bottom 5 Count')\n",
    "print(df['past_due_90_plus'].value_counts().to_frame().reset_index().sort_values('past_due_90_plus', ascending=False).tail(5))\n",
    "print('')\n",
    "print('Minimum Value')\n",
    "print(df['past_due_90_plus'].value_counts().to_frame().reset_index().sort_values('index', ascending=True).head(10))\n",
    "print('')\n",
    "print('Maximum Value')\n",
    "print(df['past_due_90_plus'].value_counts().to_frame().reset_index().sort_values('index', ascending=False).head(10))\n",
    "\n",
    "\n",
    "\n",
    "\n"
   ]
  },
  {
   "cell_type": "markdown",
   "metadata": {},
   "source": [
    "## Number of mortgage and real estate loans including home equity lines of credit"
   ]
  },
  {
   "cell_type": "code",
   "execution_count": 338,
   "metadata": {},
   "outputs": [
    {
     "name": "stdout",
     "output_type": "stream",
     "text": [
      "Top 5 Count\n",
      "   index  real_estate_loans\n",
      "0      0              56188\n",
      "1      1              52338\n",
      "2      2              31522\n",
      "3      3               6300\n",
      "4      4               2170\n",
      "\n",
      "Bottom 5 Count\n",
      "    index  real_estate_loans\n",
      "23     32                  1\n",
      "24     21                  1\n",
      "25     26                  1\n",
      "26     29                  1\n",
      "27     54                  1\n",
      "\n",
      "Minimum Value\n",
      "   index  real_estate_loans\n",
      "0      0              56188\n",
      "1      1              52338\n",
      "2      2              31522\n",
      "3      3               6300\n",
      "4      4               2170\n",
      "5      5                689\n",
      "6      6                320\n",
      "7      7                171\n",
      "8      8                 93\n",
      "9      9                 78\n",
      "\n",
      "Maximum Value\n",
      "    index  real_estate_loans\n",
      "27     54                  1\n",
      "23     32                  1\n",
      "26     29                  1\n",
      "25     26                  1\n",
      "18     25                  3\n",
      "22     23                  2\n",
      "24     21                  1\n",
      "21     20                  2\n",
      "20     19                  2\n",
      "19     18                  2\n"
     ]
    }
   ],
   "source": [
    "\n",
    "print('Top 5 Count')\n",
    "print(df['real_estate_loans'].value_counts().to_frame().reset_index().sort_values('real_estate_loans', ascending=False).head(5))\n",
    "print('')\n",
    "print('Bottom 5 Count')\n",
    "print(df['real_estate_loans'].value_counts().to_frame().reset_index().sort_values('real_estate_loans', ascending=False).tail(5))\n",
    "print('')\n",
    "print('Minimum Value')\n",
    "print(df['real_estate_loans'].value_counts().to_frame().reset_index().sort_values('index', ascending=True).head(10))\n",
    "print('')\n",
    "print('Maximum Value')\n",
    "print(df['real_estate_loans'].value_counts().to_frame().reset_index().sort_values('index', ascending=False).head(10))\n",
    "\n",
    "\n",
    "\n",
    "\n"
   ]
  },
  {
   "cell_type": "markdown",
   "metadata": {},
   "source": [
    "## Number of times borrower has been 60-89 days past due but no worse in the last 2 years."
   ]
  },
  {
   "cell_type": "code",
   "execution_count": 339,
   "metadata": {},
   "outputs": [
    {
     "name": "stdout",
     "output_type": "stream",
     "text": [
      "Top 5 Count\n",
      "   index  past_due_60_89\n",
      "0      0          142396\n",
      "1      1            5731\n",
      "2      2            1118\n",
      "3      3             318\n",
      "4     98             264\n",
      "\n",
      "Bottom 5 Count\n",
      "    index  past_due_60_89\n",
      "8       7               9\n",
      "9      96               5\n",
      "10      8               2\n",
      "11     11               1\n",
      "12      9               1\n",
      "\n",
      "Minimum Value\n",
      "    index  past_due_60_89\n",
      "0       0          142396\n",
      "1       1            5731\n",
      "2       2            1118\n",
      "3       3             318\n",
      "5       4             105\n",
      "6       5              34\n",
      "7       6              16\n",
      "8       7               9\n",
      "10      8               2\n",
      "12      9               1\n",
      "\n",
      "Maximum Value\n",
      "    index  past_due_60_89\n",
      "4      98             264\n",
      "9      96               5\n",
      "11     11               1\n",
      "12      9               1\n",
      "10      8               2\n",
      "8       7               9\n",
      "7       6              16\n",
      "6       5              34\n",
      "5       4             105\n",
      "3       3             318\n"
     ]
    }
   ],
   "source": [
    "\n",
    "\n",
    "print('Top 5 Count')\n",
    "print(df['past_due_60_89'].value_counts().to_frame().reset_index().sort_values('past_due_60_89', ascending=False).head(5))\n",
    "print('')\n",
    "print('Bottom 5 Count')\n",
    "print(df['past_due_60_89'].value_counts().to_frame().reset_index().sort_values('past_due_60_89', ascending=False).tail(5))\n",
    "print('')\n",
    "print('Minimum Value')\n",
    "print(df['past_due_60_89'].value_counts().to_frame().reset_index().sort_values('index', ascending=True).head(10))\n",
    "print('')\n",
    "print('Maximum Value')\n",
    "print(df['past_due_60_89'].value_counts().to_frame().reset_index().sort_values('index', ascending=False).head(10))\n",
    "\n",
    "\n",
    "\n",
    "\n"
   ]
  },
  {
   "cell_type": "markdown",
   "metadata": {},
   "source": [
    "## Number of dependents in family excluding themselves (spouse, children etc.)"
   ]
  },
  {
   "cell_type": "code",
   "execution_count": 340,
   "metadata": {},
   "outputs": [
    {
     "name": "stdout",
     "output_type": "stream",
     "text": [
      "Top 5 Count\n",
      "   index  number_of_dependents\n",
      "0    0.0                 86902\n",
      "1    1.0                 26316\n",
      "2    2.0                 19522\n",
      "3    3.0                  9483\n",
      "4    4.0                  2862\n",
      "\n",
      "Bottom 5 Count\n",
      "    index  number_of_dependents\n",
      "8     8.0                    24\n",
      "9     9.0                     5\n",
      "10   10.0                     5\n",
      "11   13.0                     1\n",
      "12   20.0                     1\n",
      "\n",
      "Minimum Value\n",
      "   index  number_of_dependents\n",
      "0    0.0                 86902\n",
      "1    1.0                 26316\n",
      "2    2.0                 19522\n",
      "3    3.0                  9483\n",
      "4    4.0                  2862\n",
      "5    5.0                   746\n",
      "6    6.0                   158\n",
      "7    7.0                    51\n",
      "8    8.0                    24\n",
      "9    9.0                     5\n",
      "\n",
      "Maximum Value\n",
      "    index  number_of_dependents\n",
      "12   20.0                     1\n",
      "11   13.0                     1\n",
      "10   10.0                     5\n",
      "9     9.0                     5\n",
      "8     8.0                    24\n",
      "7     7.0                    51\n",
      "6     6.0                   158\n",
      "5     5.0                   746\n",
      "4     4.0                  2862\n",
      "3     3.0                  9483\n"
     ]
    }
   ],
   "source": [
    "\n",
    "print('Top 5 Count')\n",
    "print(df['number_of_dependents'].value_counts().to_frame().reset_index().sort_values('number_of_dependents', ascending=False).head(5))\n",
    "print('')\n",
    "print('Bottom 5 Count')\n",
    "print(df['number_of_dependents'].value_counts().to_frame().reset_index().sort_values('number_of_dependents', ascending=False).tail(5))\n",
    "print('')\n",
    "print('Minimum Value')\n",
    "print(df['number_of_dependents'].value_counts().to_frame().reset_index().sort_values('index', ascending=True).head(10))\n",
    "print('')\n",
    "print('Maximum Value')\n",
    "print(df['number_of_dependents'].value_counts().to_frame().reset_index().sort_values('index', ascending=False).head(10))\n",
    "\n",
    "\n",
    "\n",
    "\n"
   ]
  },
  {
   "cell_type": "markdown",
   "metadata": {},
   "source": [
    "# Cleaning Data"
   ]
  },
  {
   "cell_type": "code",
   "execution_count": 341,
   "metadata": {
    "scrolled": true
   },
   "outputs": [
    {
     "name": "stdout",
     "output_type": "stream",
     "text": [
      "Exclude Record(s) that have an Age of 0.\n",
      "\n",
      "Any records in df where age = 0? (Empty DataFrame means No)\n",
      "Empty DataFrame\n",
      "Columns: [age, debt_ratio, monthly_income, open_credit_lines, past_due_30_59, past_due_60_89, past_due_90_plus, serious_delinquent, unsecured_lines, real_estate_loans, number_of_dependents]\n",
      "Index: []\n"
     ]
    }
   ],
   "source": [
    "print('Exclude Record(s) that have an Age of 0.')\n",
    "df = (df[df['age'] != 0])\n",
    "print()\n",
    "print('Any records in df where age = 0? (Empty DataFrame means No)')\n",
    "print(df[df['age'] == 0])\n"
   ]
  },
  {
   "cell_type": "code",
   "execution_count": 342,
   "metadata": {},
   "outputs": [
    {
     "name": "stdout",
     "output_type": "stream",
     "text": [
      "Exclude Records where Monthly Income is null since I am not sure if this is bad data or should be 0.\n",
      "\n",
      "Confirm the NULL Monthly Income values are no longer in the df. (ie id = 7)\n",
      "    age  debt_ratio  monthly_income  open_credit_lines  past_due_30_59  \\\n",
      "id                                                                       \n",
      "1    45    0.802982          9120.0                 13               2   \n",
      "2    40    0.121876          2600.0                  4               0   \n",
      "3    38    0.085113          3042.0                  2               1   \n",
      "4    30    0.036050          3300.0                  5               0   \n",
      "5    49    0.024926         63588.0                  7               1   \n",
      "6    74    0.375607          3500.0                  3               0   \n",
      "8    39    0.209940          3500.0                  8               0   \n",
      "10   57    0.606291         23684.0                  9               0   \n",
      "11   30    0.309476          2500.0                  5               0   \n",
      "12   51    0.531529          6501.0                  7               0   \n",
      "\n",
      "    past_due_60_89  past_due_90_plus  serious_delinquent  unsecured_lines  \\\n",
      "id                                                                          \n",
      "1                0                 0                   1         0.766127   \n",
      "2                0                 0                   0         0.957151   \n",
      "3                0                 1                   0         0.658180   \n",
      "4                0                 0                   0         0.233810   \n",
      "5                0                 0                   0         0.907239   \n",
      "6                0                 0                   0         0.213179   \n",
      "8                0                 0                   0         0.754464   \n",
      "10               0                 0                   0         0.189169   \n",
      "11               0                 0                   0         0.644226   \n",
      "12               0                 0                   0         0.018798   \n",
      "\n",
      "    real_estate_loans  number_of_dependents  \n",
      "id                                           \n",
      "1                   6                   2.0  \n",
      "2                   0                   1.0  \n",
      "3                   0                   0.0  \n",
      "4                   0                   0.0  \n",
      "5                   1                   0.0  \n",
      "6                   1                   1.0  \n",
      "8                   0                   0.0  \n",
      "10                  4                   2.0  \n",
      "11                  0                   0.0  \n",
      "12                  2                   2.0  \n"
     ]
    }
   ],
   "source": [
    "\n",
    "print('Exclude Records where Monthly Income is null since I am not sure if this is bad data or should be 0.')\n",
    "df = (df[df['monthly_income'].notnull()])\n",
    "print()\n",
    "print('Confirm the NULL Monthly Income values are no longer in the df. (ie id = 7)')\n",
    "print(df.head(10))\n"
   ]
  },
  {
   "cell_type": "code",
   "execution_count": 343,
   "metadata": {},
   "outputs": [
    {
     "name": "stdout",
     "output_type": "stream",
     "text": [
      "Update Number of Dependents column to 0 for those that are NULL.\n",
      "I went to do this but there are no more NAs as they were all removed when excluding\n",
      "the Monthly Income where NULL.\n"
     ]
    }
   ],
   "source": [
    "print('Update Number of Dependents column to 0 for those that are NULL.')\n",
    "print('I went to do this but there are no more NAs as they were all removed when excluding')\n",
    "print('the Monthly Income where NULL.')\n",
    "\n",
    "\n"
   ]
  },
  {
   "cell_type": "code",
   "execution_count": 344,
   "metadata": {},
   "outputs": [
    {
     "name": "stdout",
     "output_type": "stream",
     "text": [
      "Create Monthly Income Buckets (may need to adjust later)\n",
      "Buckets are:\n",
      "1 = 0-499; 2 = 500-999; 3 = 1000-2499;\n",
      "4 = 2500-4999; 5 = 5000-7499; 6 = 7500-9999;\n",
      "7 = 10000-24999; 8 = 25000-49999; 9 = 50000+\n",
      "\n",
      "Verify the new column was added and is populating correctly.\n",
      "    monthly_income  monthly_income_bucket\n",
      "id                                       \n",
      "1           9120.0                    6.0\n",
      "2           2600.0                    4.0\n",
      "3           3042.0                    4.0\n",
      "4           3300.0                    4.0\n",
      "5          63588.0                    9.0\n",
      "6           3500.0                    4.0\n",
      "8           3500.0                    4.0\n",
      "10         23684.0                    7.0\n",
      "11          2500.0                    4.0\n",
      "12          6501.0                    5.0\n"
     ]
    }
   ],
   "source": [
    "print('Create Monthly Income Buckets (may need to adjust later)')\n",
    "print('Buckets are:')\n",
    "print('1 = 0-499; 2 = 500-999; 3 = 1000-2499;')\n",
    "print('4 = 2500-4999; 5 = 5000-7499; 6 = 7500-9999;')\n",
    "print('7 = 10000-24999; 8 = 25000-49999; 9 = 50000+')\n",
    "# Create income buckets\n",
    "df.loc[df['monthly_income'] >=0, 'monthly_income_bucket'] = 1\n",
    "df.loc[df['monthly_income'] >=500, 'monthly_income_bucket'] = 2\n",
    "df.loc[df['monthly_income'] >=1000, 'monthly_income_bucket'] = 3\n",
    "df.loc[df['monthly_income'] >=2500, 'monthly_income_bucket'] = 4\n",
    "df.loc[df['monthly_income'] >=5000, 'monthly_income_bucket'] = 5\n",
    "df.loc[df['monthly_income'] >=7500, 'monthly_income_bucket'] = 6\n",
    "df.loc[df['monthly_income'] >=10000, 'monthly_income_bucket'] = 7\n",
    "df.loc[df['monthly_income'] >=25000, 'monthly_income_bucket'] = 8\n",
    "df.loc[df['monthly_income'] >=50000, 'monthly_income_bucket'] = 9\n",
    "\n",
    "print()\n",
    "print('Verify the new column was added and is populating correctly.')\n",
    "print(df[['monthly_income','monthly_income_bucket']].head(10))\n"
   ]
  },
  {
   "cell_type": "code",
   "execution_count": 345,
   "metadata": {},
   "outputs": [
    {
     "name": "stdout",
     "output_type": "stream",
     "text": [
      "Remove records where the 30-59, 60-89, or 90+ past due buckets\n",
      "\n",
      "    index  past_due_90_plus\n",
      "5      98               144\n",
      "13     96                 4\n",
      "18     17                 1\n",
      "17     15                 2\n",
      "16     14                 2\n",
      "\n",
      "We need to remove the 98 and 96 values from these 3 fields:\n",
      "    past_due_30_59, past_due_60_89, past_due_90_plus\n",
      "\n",
      "I will be excluding any number above 24 in case there are other bad values later on.\n",
      "\n",
      "Confirm that no number above 24 is in the data:\n",
      "    index  past_due_90_plus\n",
      "16     17                 1\n",
      "13     15                 2\n",
      "15     14                 2\n",
      "12     13                 4\n",
      "14     12                 2\n"
     ]
    }
   ],
   "source": [
    "print('Remove records where the 30-59, 60-89, or 90+ past due buckets')\n",
    "print()\n",
    "print(df['past_due_90_plus'].value_counts().to_frame().reset_index().sort_values('index', ascending=False).head(5))\n",
    "print()\n",
    "print('We need to remove the 98 and 96 values from these 3 fields:')\n",
    "print('    past_due_30_59, past_due_60_89, past_due_90_plus')\n",
    "print()\n",
    "print('I will be excluding any number above 24 in case there are other bad values later on.')\n",
    "df = (df[df['past_due_30_59'] <= 24])\n",
    "df = (df[df['past_due_60_89'] <= 24])\n",
    "df = (df[df['past_due_90_plus'] <= 24])\n",
    "print()\n",
    "print('Confirm that no number above 24 is in the data:')\n",
    "print(df['past_due_90_plus'].value_counts().to_frame().reset_index().sort_values('index', ascending=False).head(5))\n",
    "\n",
    "\n"
   ]
  },
  {
   "cell_type": "code",
   "execution_count": 346,
   "metadata": {},
   "outputs": [
    {
     "name": "stdout",
     "output_type": "stream",
     "text": [
      "Convert float to int64 where no decimals are needed.\n",
      "<class 'pandas.core.frame.DataFrame'>\n",
      "Int64Index: 120120 entries, 1 to 150000\n",
      "Data columns (total 12 columns):\n",
      "age                      120120 non-null int64\n",
      "debt_ratio               120120 non-null float64\n",
      "monthly_income           120120 non-null int64\n",
      "open_credit_lines        120120 non-null int64\n",
      "past_due_30_59           120120 non-null int64\n",
      "past_due_60_89           120120 non-null int64\n",
      "past_due_90_plus         120120 non-null int64\n",
      "serious_delinquent       120120 non-null int64\n",
      "unsecured_lines          120120 non-null float64\n",
      "real_estate_loans        120120 non-null int64\n",
      "number_of_dependents     120120 non-null int64\n",
      "monthly_income_bucket    120120 non-null int64\n",
      "dtypes: float64(2), int64(10)\n",
      "memory usage: 11.9 MB\n",
      "None\n"
     ]
    }
   ],
   "source": [
    "print('Convert float to int64 where no decimals are needed.')\n",
    "df = df.astype({'monthly_income_bucket':'int64', 'monthly_income':'int64', 'number_of_dependents':'int64' })\n",
    "print(df.info())\n",
    "\n"
   ]
  },
  {
   "cell_type": "code",
   "execution_count": 348,
   "metadata": {},
   "outputs": [
    {
     "name": "stdout",
     "output_type": "stream",
     "text": [
      "Final DataFrame Columns:\n",
      "Index(['age', 'debt_ratio', 'monthly_income', 'open_credit_lines',\n",
      "       'past_due_30_59', 'past_due_60_89', 'past_due_90_plus',\n",
      "       'serious_delinquent', 'unsecured_lines', 'real_estate_loans',\n",
      "       'number_of_dependents', 'monthly_income_bucket'],\n",
      "      dtype='object')\n",
      "\n",
      "DF Info:\n",
      "<class 'pandas.core.frame.DataFrame'>\n",
      "Int64Index: 120120 entries, 1 to 150000\n",
      "Data columns (total 12 columns):\n",
      "age                      120120 non-null int64\n",
      "debt_ratio               120120 non-null float64\n",
      "monthly_income           120120 non-null int64\n",
      "open_credit_lines        120120 non-null int64\n",
      "past_due_30_59           120120 non-null int64\n",
      "past_due_60_89           120120 non-null int64\n",
      "past_due_90_plus         120120 non-null int64\n",
      "serious_delinquent       120120 non-null int64\n",
      "unsecured_lines          120120 non-null float64\n",
      "real_estate_loans        120120 non-null int64\n",
      "number_of_dependents     120120 non-null int64\n",
      "monthly_income_bucket    120120 non-null int64\n",
      "dtypes: float64(2), int64(10)\n",
      "memory usage: 11.9 MB\n",
      "None\n",
      "\n",
      "DF Describe:\n",
      "                 age     debt_ratio  monthly_income  open_credit_lines  \\\n",
      "count  120120.000000  120120.000000    1.201200e+05      120120.000000   \n",
      "mean       51.309232      26.631760    6.675295e+03           8.769272   \n",
      "std        14.417093     424.708591    1.439255e+04           5.166914   \n",
      "min        21.000000       0.000000    0.000000e+00           0.000000   \n",
      "25%        41.000000       0.144103    3.400000e+03           5.000000   \n",
      "50%        51.000000       0.296344    5.400000e+03           8.000000   \n",
      "75%        61.000000       0.482859    8.250000e+03          11.000000   \n",
      "max       103.000000   61106.500000    3.008750e+06          58.000000   \n",
      "\n",
      "       past_due_30_59  past_due_60_89  past_due_90_plus  serious_delinquent  \\\n",
      "count   120120.000000   120120.000000     120120.000000       120120.000000   \n",
      "mean         0.261555        0.067383          0.091508            0.068873   \n",
      "std          0.719067        0.336565          0.489231            0.253239   \n",
      "min          0.000000        0.000000          0.000000            0.000000   \n",
      "25%          0.000000        0.000000          0.000000            0.000000   \n",
      "50%          0.000000        0.000000          0.000000            0.000000   \n",
      "75%          0.000000        0.000000          0.000000            0.000000   \n",
      "max         13.000000       11.000000         17.000000            1.000000   \n",
      "\n",
      "       unsecured_lines  real_estate_loans  number_of_dependents  \\\n",
      "count    120120.000000      120120.000000         120120.000000   \n",
      "mean          5.905950           1.055811              0.852173   \n",
      "std         257.199999           1.149386              1.148539   \n",
      "min           0.000000           0.000000              0.000000   \n",
      "25%           0.034979           0.000000              0.000000   \n",
      "50%           0.176695           1.000000              0.000000   \n",
      "75%           0.577123           2.000000              2.000000   \n",
      "max       50708.000000          54.000000             20.000000   \n",
      "\n",
      "       monthly_income_bucket  \n",
      "count          120120.000000  \n",
      "mean                4.847611  \n",
      "std                 1.429034  \n",
      "min                 1.000000  \n",
      "25%                 4.000000  \n",
      "50%                 5.000000  \n",
      "75%                 6.000000  \n",
      "max                 9.000000  \n",
      "\n",
      "Sample Data:\n",
      "    age  debt_ratio  monthly_income  open_credit_lines  past_due_30_59  \\\n",
      "id                                                                       \n",
      "1    45    0.802982            9120                 13               2   \n",
      "2    40    0.121876            2600                  4               0   \n",
      "3    38    0.085113            3042                  2               1   \n",
      "4    30    0.036050            3300                  5               0   \n",
      "5    49    0.024926           63588                  7               1   \n",
      "6    74    0.375607            3500                  3               0   \n",
      "8    39    0.209940            3500                  8               0   \n",
      "10   57    0.606291           23684                  9               0   \n",
      "11   30    0.309476            2500                  5               0   \n",
      "12   51    0.531529            6501                  7               0   \n",
      "\n",
      "    past_due_60_89  past_due_90_plus  serious_delinquent  unsecured_lines  \\\n",
      "id                                                                          \n",
      "1                0                 0                   1         0.766127   \n",
      "2                0                 0                   0         0.957151   \n",
      "3                0                 1                   0         0.658180   \n",
      "4                0                 0                   0         0.233810   \n",
      "5                0                 0                   0         0.907239   \n",
      "6                0                 0                   0         0.213179   \n",
      "8                0                 0                   0         0.754464   \n",
      "10               0                 0                   0         0.189169   \n",
      "11               0                 0                   0         0.644226   \n",
      "12               0                 0                   0         0.018798   \n",
      "\n",
      "    real_estate_loans  number_of_dependents  monthly_income_bucket  \n",
      "id                                                                  \n",
      "1                   6                     2                      6  \n",
      "2                   0                     1                      4  \n",
      "3                   0                     0                      4  \n",
      "4                   0                     0                      4  \n",
      "5                   1                     0                      9  \n",
      "6                   1                     1                      4  \n",
      "8                   0                     0                      4  \n",
      "10                  4                     2                      7  \n",
      "11                  0                     0                      4  \n",
      "12                  2                     2                      5  \n"
     ]
    }
   ],
   "source": [
    "print('Final DataFrame Columns:')\n",
    "print(df.columns)\n",
    "print()\n",
    "print('DF Info:')\n",
    "print(df.info())\n",
    "print()\n",
    "print('DF Describe:')\n",
    "print(df.describe())\n",
    "print()\n",
    "print('Sample Data:')\n",
    "print(df.head(10))"
   ]
  }
 ],
 "metadata": {
  "kernelspec": {
   "display_name": "Python 3",
   "language": "python",
   "name": "python3"
  },
  "language_info": {
   "codemirror_mode": {
    "name": "ipython",
    "version": 3
   },
   "file_extension": ".py",
   "mimetype": "text/x-python",
   "name": "python",
   "nbconvert_exporter": "python",
   "pygments_lexer": "ipython3",
   "version": "3.7.1"
  }
 },
 "nbformat": 4,
 "nbformat_minor": 2
}
